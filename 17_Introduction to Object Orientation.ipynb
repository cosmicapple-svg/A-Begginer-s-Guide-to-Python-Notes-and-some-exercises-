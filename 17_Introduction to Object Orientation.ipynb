{
 "cells": [
  {
   "cell_type": "markdown",
   "id": "3c23e807",
   "metadata": {},
   "source": [
    "# Introduction to object orientation"
   ]
  },
  {
   "cell_type": "markdown",
   "id": "8540d55e",
   "metadata": {},
   "source": [
    "## Classes"
   ]
  },
  {
   "cell_type": "markdown",
   "id": "f1f88cb5",
   "metadata": {},
   "source": [
    "A *class* is one of the basic building blocks of Python, it is a core concept in OOP which provides an approach to structuring programs/applications so that the data held and the operatios performed on that data *are bundled together into classes and accessed via objects*.\n",
    "\n",
    "For example, a class called EMPLOYEE could have an id, name, departent or a desk numbert. THey might also have operatios associated with them such as take_a_holiday() or get_paid(). \n",
    "\n",
    "Classes act as *templates* which are used to construct instannces or exmaples of a class of thigs. Each example of the class PERSON might have a name, an age, an address, etc. For exampel, an example of the class could be Paul, age=32, address='london'. \n",
    "\n",
    "An instance or object is therefore an example of a class. All instaces/objects of a class possess the same data variable but cotain their own data values. \n",
    "\n",
    "In this sense, programmers define classes and create *instances or objects* of those classes. They can store related data together in a named concept which makes it much easier to structure and mantain code. "
   ]
  },
  {
   "cell_type": "markdown",
   "id": "a41f3d0a",
   "metadata": {},
   "source": [
    "## What are classes for?"
   ]
  },
  {
   "cell_type": "markdown",
   "id": "edd3babf",
   "metadata": {},
   "source": [
    "Several types of data such as integers, strings or booleans are classes and we pick one example of this classes to work with, for example: 42, \"jajaja\" or True. \n",
    "\n",
    "But we can represent  any type of data item using a combination of attributes and behaviours. \n",
    "\n",
    "In Python, classes are used:\n",
    "\n",
    "* as a template to create instances (or objects) of that class.\n",
    "* define instance methods or common behaviour for a class of objects. \n",
    "* define attributes or field to hold data within the objects.\n",
    "* be sent messages. \n",
    "\n",
    "Objects (or instances) can:\n",
    "\n",
    "* be created from a class, \n",
    "* hold their own values ofr instance variables, \n",
    "* be sent messages, \n",
    "* execture instance methods.\n",
    "* may have many copies in the system. "
   ]
  },
  {
   "cell_type": "markdown",
   "id": "4be62951",
   "metadata": {},
   "source": [
    "### What should a class do?"
   ]
  },
  {
   "cell_type": "markdown",
   "id": "f87301d6",
   "metadata": {},
   "source": [
    "A class should capture only one idea. If more than one idea is encapsulated in a class, you may reduce your chaces for reuse. \n",
    "\n",
    "Point to consider for splitting the class:\n",
    "\n",
    "* Is the descriptio of the class short and clear? Cosider how the comment describing the class can be broken down into a series of short clear comments. \n",
    "\n",
    "* If the comment is short and clear, do the class and instace variables make sense within the context of the comment? If not, the class needs to be re-evaluated. \n",
    "\n",
    "* Look at how and where the attributes of the class are used. Is their use in line with the class comment? If not, you should take appropiate action. "
   ]
  },
  {
   "cell_type": "markdown",
   "id": "db08923c",
   "metadata": {},
   "source": [
    "### Class terminology"
   ]
  },
  {
   "cell_type": "markdown",
   "id": "1e587477",
   "metadata": {},
   "source": [
    "**Class:** defines a combinationf of data and behaviour that operates on data. A class acts as a template when creating new instances. \n",
    "\n",
    "**Instance or object:** is an example of a class. All of them pssess teh same data fields/attributes but contain their own data values. \n",
    "\n",
    "**Attribute/field/instance variable:** ois the data held by an object, they represent the 'state' of an object. \n",
    "\n",
    "**Method:** A method is a procedure defined within an object. \n",
    "\n",
    "**Message:** a message is sent to an object requesting some operation to be performed or some attribute to be accessed. It is a request to the object to do or return something. "
   ]
  },
  {
   "cell_type": "markdown",
   "id": "61e3251e",
   "metadata": {},
   "source": [
    "## How is a object oriented system constructed?"
   ]
  },
  {
   "cell_type": "markdown",
   "id": "75e69c35",
   "metadata": {},
   "source": [
    "Consider the next system:\n",
    "\n",
    "![Jaja](OOSystem.png)"
   ]
  },
  {
   "cell_type": "code",
   "execution_count": null,
   "id": "aeb1f20d",
   "metadata": {},
   "outputs": [],
   "source": []
  },
  {
   "cell_type": "code",
   "execution_count": null,
   "id": "7e25b20f",
   "metadata": {},
   "outputs": [],
   "source": []
  },
  {
   "cell_type": "code",
   "execution_count": null,
   "id": "0d4810eb",
   "metadata": {},
   "outputs": [],
   "source": []
  },
  {
   "cell_type": "code",
   "execution_count": null,
   "id": "ab43ba01",
   "metadata": {},
   "outputs": [],
   "source": []
  },
  {
   "cell_type": "markdown",
   "id": "ffa9ed3b",
   "metadata": {},
   "source": [
    "## Where is the structure in an object oriented program?"
   ]
  },
  {
   "cell_type": "code",
   "execution_count": null,
   "id": "f219b641",
   "metadata": {},
   "outputs": [],
   "source": []
  }
 ],
 "metadata": {
  "kernelspec": {
   "display_name": "Python 3 (ipykernel)",
   "language": "python",
   "name": "python3"
  },
  "language_info": {
   "codemirror_mode": {
    "name": "ipython",
    "version": 3
   },
   "file_extension": ".py",
   "mimetype": "text/x-python",
   "name": "python",
   "nbconvert_exporter": "python",
   "pygments_lexer": "ipython3",
   "version": "3.10.4"
  }
 },
 "nbformat": 4,
 "nbformat_minor": 5
}
