{
 "cells": [
  {
   "cell_type": "markdown",
   "id": "f207fc47",
   "metadata": {},
   "source": [
    "# Scope and lifetime of variables"
   ]
  },
  {
   "cell_type": "markdown",
   "id": "228aa66a",
   "metadata": {},
   "source": [
    "## Local variables"
   ]
  },
  {
   "cell_type": "markdown",
   "id": "68e68a6d",
   "metadata": {},
   "source": [
    "It is suitable to limit the number of global variables because they can be accessed anywhere and this can result in unexpected behaviours. \n",
    "\n",
    "When we create variable *inside* a function they are scoped only to that function, we call them **local** variables. \n",
    "\n"
   ]
  },
  {
   "cell_type": "markdown",
   "id": "b083e86f",
   "metadata": {},
   "source": [
    "## The global keyword"
   ]
  },
  {
   "cell_type": "markdown",
   "id": "61f94ae8",
   "metadata": {},
   "source": [
    "What happens if I want to reference a variable from the outside inside a function? The program will return an error and this is because inside the function there exist no such variable."
   ]
  },
  {
   "cell_type": "code",
   "execution_count": 1,
   "id": "ed8cdde3",
   "metadata": {},
   "outputs": [
    {
     "ename": "UnboundLocalError",
     "evalue": "local variable 'mx' referenced before assignment",
     "output_type": "error",
     "traceback": [
      "\u001b[1;31m---------------------------------------------------------------------------\u001b[0m",
      "\u001b[1;31mUnboundLocalError\u001b[0m                         Traceback (most recent call last)",
      "Input \u001b[1;32mIn [1]\u001b[0m, in \u001b[0;36m<cell line: 6>\u001b[1;34m()\u001b[0m\n\u001b[0;32m      3\u001b[0m     mx \u001b[38;5;241m=\u001b[39m mx \u001b[38;5;241m+\u001b[39m\u001b[38;5;241m1\u001b[39m\n\u001b[0;32m      4\u001b[0m     \u001b[38;5;28mprint\u001b[39m(\u001b[38;5;28mmax\u001b[39m)\n\u001b[1;32m----> 6\u001b[0m \u001b[43mprint_max\u001b[49m\u001b[43m(\u001b[49m\u001b[43m)\u001b[49m\n",
      "Input \u001b[1;32mIn [1]\u001b[0m, in \u001b[0;36mprint_max\u001b[1;34m()\u001b[0m\n\u001b[0;32m      2\u001b[0m \u001b[38;5;28;01mdef\u001b[39;00m \u001b[38;5;21mprint_max\u001b[39m():\n\u001b[1;32m----> 3\u001b[0m     mx \u001b[38;5;241m=\u001b[39m \u001b[43mmx\u001b[49m \u001b[38;5;241m+\u001b[39m\u001b[38;5;241m1\u001b[39m\n\u001b[0;32m      4\u001b[0m     \u001b[38;5;28mprint\u001b[39m(\u001b[38;5;28mmax\u001b[39m)\n",
      "\u001b[1;31mUnboundLocalError\u001b[0m: local variable 'mx' referenced before assignment"
     ]
    }
   ],
   "source": [
    "mx = 100   #global initialized\n",
    "def print_max():\n",
    "    mx = mx +1   #local non initialized\n",
    "    print(max)\n",
    "    \n",
    "print_max()"
   ]
  },
  {
   "cell_type": "markdown",
   "id": "87ec46c8",
   "metadata": {},
   "source": [
    "This is a sort of protection, is Python saying us, do you really want to modify the variable here?\n",
    "\n",
    "To tell Python that we know what we are doing and that we want to reference the global variable we use the keyword *global*."
   ]
  },
  {
   "cell_type": "code",
   "execution_count": 4,
   "id": "5159901b",
   "metadata": {},
   "outputs": [
    {
     "name": "stdout",
     "output_type": "stream",
     "text": [
      "101\n",
      "101\n"
     ]
    }
   ],
   "source": [
    "mx = 100   #global initialized\n",
    "def print_max():\n",
    "    global mx\n",
    "    mx = mx +1   #local non initialized\n",
    "    print(mx)\n",
    "    \n",
    "print_max()\n",
    "print(mx)  #The global variable is modified because global keyword"
   ]
  },
  {
   "cell_type": "markdown",
   "id": "608646b2",
   "metadata": {},
   "source": [
    "## Nonlocal variables"
   ]
  },
  {
   "cell_type": "markdown",
   "id": "f966deb6",
   "metadata": {},
   "source": [
    "It is possible to define functions inside other functions, but the problem that the functions define inside a specific function is only specified inside it still remains. The global keyword is not useful ecause the variables in the outer function are not global. \n",
    "\n"
   ]
  },
  {
   "cell_type": "code",
   "execution_count": 7,
   "id": "a5238fc3",
   "metadata": {},
   "outputs": [
    {
     "name": "stdout",
     "output_type": "stream",
     "text": [
      "inner: Another title\n",
      "outer: Original title\n"
     ]
    }
   ],
   "source": [
    "def outer():\n",
    "    title = \"Original title\"\n",
    "    \n",
    "    def inner():\n",
    "        title = \"Another title\"\n",
    "        print('inner:', title)\n",
    "    \n",
    "    inner()\n",
    "    print('outer:', title)\n",
    "    \n",
    "outer()"
   ]
  },
  {
   "cell_type": "markdown",
   "id": "cdaba496",
   "metadata": {},
   "source": [
    "As we can see despite both the inner and outer variable 'title' are called the same, they not represent the same variable. \n",
    "\n",
    "This problem is solved with the *nonlocal* keyword. What this keyword does is tell python that the variable is not global but it is also not local from the current function. Python look up in the outer function for a variable with the same name. \n"
   ]
  },
  {
   "cell_type": "code",
   "execution_count": 8,
   "id": "5ba79336",
   "metadata": {},
   "outputs": [
    {
     "name": "stdout",
     "output_type": "stream",
     "text": [
      "inner: Another title\n",
      "outer: Another title\n"
     ]
    }
   ],
   "source": [
    "def outer():\n",
    "    title = \"Original title\"\n",
    "    \n",
    "    def inner():\n",
    "        nonlocal title\n",
    "        title = \"Another title\"\n",
    "        print('inner:', title)\n",
    "    \n",
    "    inner()\n",
    "    print('outer:', title)\n",
    "    \n",
    "outer()"
   ]
  },
  {
   "cell_type": "markdown",
   "id": "237ec91b",
   "metadata": {},
   "source": [
    "### Final notes"
   ]
  },
  {
   "cell_type": "markdown",
   "id": "5a7340c8",
   "metadata": {},
   "source": [
    "* **Scope of a variable:** part of a program where the variable is known (variables inside a function cannot be seen from the outside, they have a local scope)\n",
    "\n",
    "* **Lifetime of a variable:** period of time throuhgout which the variable exists in the memory of a python program. The local variables are destroyed as soon as the function terminates. "
   ]
  },
  {
   "cell_type": "code",
   "execution_count": null,
   "id": "1fcb92bc",
   "metadata": {},
   "outputs": [],
   "source": []
  }
 ],
 "metadata": {
  "kernelspec": {
   "display_name": "Python 3 (ipykernel)",
   "language": "python",
   "name": "python3"
  },
  "language_info": {
   "codemirror_mode": {
    "name": "ipython",
    "version": 3
   },
   "file_extension": ".py",
   "mimetype": "text/x-python",
   "name": "python",
   "nbconvert_exporter": "python",
   "pygments_lexer": "ipython3",
   "version": "3.10.4"
  }
 },
 "nbformat": 4,
 "nbformat_minor": 5
}
