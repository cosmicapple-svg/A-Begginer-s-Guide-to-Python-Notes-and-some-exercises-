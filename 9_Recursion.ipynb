{
 "cells": [
  {
   "cell_type": "markdown",
   "id": "6785b192",
   "metadata": {},
   "source": [
    "# 9 Recursion"
   ]
  },
  {
   "cell_type": "markdown",
   "id": "3b288ad4",
   "metadata": {},
   "source": [
    "The idea of the recursion is to break a problem down into a smallers problems of the same nature giving arise to the conclusion that we need to repeat the same procedure a couple of times for reaching the solution. \n",
    "\n",
    "In general, we implement the *recursion* calling a function in itself, those are called **recursive** functions. \n",
    "\n",
    "An impotant aspect is that a *termination point* is needed otherwise the function will be calling itself to infinty. \n",
    "\n",
    "This termination point is implemented as a condition, some of these conditions could be:\n",
    "\n",
    "* A solution has been found.\n",
    "* The problem has become so samll tha it can be solved without further recursion. \n",
    "* Some maximum level of recursion has been reached. \n",
    "\n",
    "Why use recursion? The recursion allows us to write some algorithms in a couple of lines that it could have took an entire block of code implementing iteration. It is easy to write and to read. \n"
   ]
  },
  {
   "cell_type": "markdown",
   "id": "f167c0c4",
   "metadata": {},
   "source": [
    "## 9.4 Recursively Searching a Tree"
   ]
  },
  {
   "cell_type": "markdown",
   "id": "def5a1e7",
   "metadata": {},
   "source": [
    "A *binary tree* is a tree data structure made up of nodes in which each node has a value, a left pointer and a right pointer. \n",
    "\n",
    "So we have a root node which is the top node in the tree. This root node references a left and right subtree and we repeat this until a *leaf node* i.e, a node in which both the right and left pointers are empty. \n",
    "\n",
    "So, when we talk about a *binary tree* we consider a tree that is either empty or is made of a single node.\n",
    "\n",
    "If we want to find out if a particular value is in the tree we can start at the root node. If the root node holds the value, we print it; otherwise we can call the *search( )* function on the child nodes of the current node. If the current node has no childen we just return without a result.\n",
    "\n",
    "This is a way of solving this problem with recursion that makes it straightforward. \n",
    "\n",
    "\n"
   ]
  },
  {
   "cell_type": "markdown",
   "id": "d5aabde7",
   "metadata": {},
   "source": [
    "## 9.6 Calculating Factorial Recursively"
   ]
  },
  {
   "cell_type": "markdown",
   "id": "c30cb6a7",
   "metadata": {},
   "source": [
    "We have done a function that calculates the factorial before with the use of iterative methods, this time we will simplify the problem using recursion. "
   ]
  },
  {
   "cell_type": "code",
   "execution_count": 2,
   "id": "6eda743a",
   "metadata": {},
   "outputs": [
    {
     "name": "stdout",
     "output_type": "stream",
     "text": [
      "120\n"
     ]
    }
   ],
   "source": [
    "def factorial(n):\n",
    "    if n==1:      #Condición de termino\n",
    "        return 1  #Caso base\n",
    "    else:\n",
    "        res = n*factorial(n-1) # Llamada recursiva\n",
    "        return res\n",
    "\n",
    "print(factorial(5))"
   ]
  },
  {
   "cell_type": "markdown",
   "id": "19b29f53",
   "metadata": {},
   "source": [
    "1. A termination condition guaranties that we cannot reduce the problem down any further as the factorial of 1. \n",
    "2. The funcion calls recursively itself but with (n-1) as the argument. "
   ]
  },
  {
   "cell_type": "markdown",
   "id": "cac18dda",
   "metadata": {},
   "source": [
    "### Clarifying the recursive factorial function"
   ]
  },
  {
   "cell_type": "code",
   "execution_count": 13,
   "id": "c4860f05",
   "metadata": {},
   "outputs": [
    {
     "name": "stdout",
     "output_type": "stream",
     "text": [
      "Calling factorial(5)\n",
      "\t Recursively calling factorial( 4 )\n",
      "\t\t Recursively calling factorial( 3 )\n",
      "\t\t\t Recursively calling factorial( 2 )\n",
      "\t\t\t\t Recursively calling factorial( 1 )\n",
      "\t\t\t\t\t Returning 1\n",
      "\t\t\t\t Returning:  2\n",
      "\t\t\t Returning:  6\n",
      "\t\t Returning:  24\n",
      "\t Returning:  120\n",
      "120\n"
     ]
    }
   ],
   "source": [
    "def factorial(n, depth=1):\n",
    "    if n==1:\n",
    "        print('\\t' * depth, 'Returning 1')\n",
    "        return 1\n",
    "    else:\n",
    "        print('\\t' * depth, 'Recursively calling factorial(', n-1,')' )\n",
    "        result = n * factorial(n-1, depth +1)\n",
    "        print('\\t' * depth, 'Returning: ', result )\n",
    "        return result\n",
    "\n",
    "#n= int(input('Type a positive integer: '))\n",
    "print('Calling factorial(%d)' % 5)\n",
    "print(factorial(5))"
   ]
  },
  {
   "cell_type": "markdown",
   "id": "64b7ec1b",
   "metadata": {},
   "source": [
    "## 9.7 Disadvantages of Recursion"
   ]
  },
  {
   "cell_type": "markdown",
   "id": "e121e8d4",
   "metadata": {},
   "source": [
    "* A recursive function is more expensive than a iterative function (such as for, while) in Python. \n",
    "* We have some aternatives such as *tail recursion* and the idea is that the solution in which the calculation is permoed before the recursive call. The resulta is passed to the recursive step, which results in the last statement int he function just calling the recursive function. \n",
    "\n",
    "Another option is to plan the solution in a recursive way but make the interpreter or compiler converts it into an iterative solution, saving resources "
   ]
  },
  {
   "cell_type": "markdown",
   "id": "4700c276",
   "metadata": {},
   "source": [
    "## Exercise 9.1 Determining if a number is prime or not\n"
   ]
  },
  {
   "cell_type": "code",
   "execution_count": 62,
   "id": "2713a834",
   "metadata": {},
   "outputs": [
    {
     "data": {
      "text/plain": [
       "1"
      ]
     },
     "execution_count": 62,
     "metadata": {},
     "output_type": "execute_result"
    }
   ],
   "source": [
    "def is_prime(n):\n",
    "    if n==2:\n",
    "        return 1\n",
    "    else:\n",
    "        status = (n-1)%n\n",
    "        \n",
    "        if status==0:\n",
    "            a = True\n",
    "        else:\n",
    "            a = is_prime(n-1)\n",
    "    return a\n",
    "\n",
    "is_prime(6)\n"
   ]
  },
  {
   "cell_type": "code",
   "execution_count": 2,
   "id": "dad36d7b",
   "metadata": {},
   "outputs": [
    {
     "ename": "SyntaxError",
     "evalue": "'break' outside loop (447687754.py, line 5)",
     "output_type": "error",
     "traceback": [
      "\u001b[1;36m  Input \u001b[1;32mIn [2]\u001b[1;36m\u001b[0m\n\u001b[1;33m    elif n==0: break\u001b[0m\n\u001b[1;37m               ^\u001b[0m\n\u001b[1;31mSyntaxError\u001b[0m\u001b[1;31m:\u001b[0m 'break' outside loop\n"
     ]
    }
   ],
   "source": [
    "def check_res(n):\n",
    "    if n==1:\n",
    "        return 0\n",
    "\n",
    "    elif n==0: \n",
    "        break\n",
    "    else:\n",
    "        dumn = n\n",
    "        res = dumn%check_res(n-1)\n",
    "        print(res)\n",
    "\n",
    "check_res(5)\n",
    "    \n",
    "    \n",
    "    "
   ]
  },
  {
   "cell_type": "code",
   "execution_count": 4,
   "id": "c72bc75d",
   "metadata": {},
   "outputs": [
    {
     "data": {
      "text/plain": [
       "1"
      ]
     },
     "execution_count": 4,
     "metadata": {},
     "output_type": "execute_result"
    }
   ],
   "source": [
    "5%4"
   ]
  },
  {
   "cell_type": "code",
   "execution_count": 21,
   "id": "297a4d2c",
   "metadata": {},
   "outputs": [
    {
     "data": {
      "text/plain": [
       "False"
      ]
     },
     "execution_count": 21,
     "metadata": {},
     "output_type": "execute_result"
    }
   ],
   "source": [
    "True==0"
   ]
  }
 ],
 "metadata": {
  "kernelspec": {
   "display_name": "Python 3 (ipykernel)",
   "language": "python",
   "name": "python3"
  },
  "language_info": {
   "codemirror_mode": {
    "name": "ipython",
    "version": 3
   },
   "file_extension": ".py",
   "mimetype": "text/x-python",
   "name": "python",
   "nbconvert_exporter": "python",
   "pygments_lexer": "ipython3",
   "version": "3.10.4"
  }
 },
 "nbformat": 4,
 "nbformat_minor": 5
}
