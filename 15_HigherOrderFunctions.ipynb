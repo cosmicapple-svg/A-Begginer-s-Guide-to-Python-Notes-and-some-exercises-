{
 "cells": [
  {
   "cell_type": "markdown",
   "id": "1227f0a9",
   "metadata": {},
   "source": [
    "# Higher order functions"
   ]
  },
  {
   "cell_type": "markdown",
   "id": "2267a304",
   "metadata": {},
   "source": [
    "Are functions that whose output is another function. "
   ]
  },
  {
   "cell_type": "markdown",
   "id": "21d65127",
   "metadata": {},
   "source": [
    "## Functions as objects"
   ]
  },
  {
   "cell_type": "markdown",
   "id": "8e0eaf24",
   "metadata": {},
   "source": [
    "Remind: if you don't type the brackets you are referencing the function rather than trying to execute it.\n"
   ]
  },
  {
   "cell_type": "code",
   "execution_count": 1,
   "id": "da0e476d",
   "metadata": {},
   "outputs": [
    {
     "name": "stdout",
     "output_type": "stream",
     "text": [
      "Hello Python World!\n",
      "<function get_msg at 0x00000182B1E989D0>\n"
     ]
    }
   ],
   "source": [
    "def get_msg():\n",
    "    return 'Hello Python World!'\n",
    "\n",
    "message1 = get_msg()\n",
    "message2 = get_msg\n",
    "\n",
    "print(message1)\n",
    "print(message2)"
   ]
  },
  {
   "cell_type": "markdown",
   "id": "e50e7774",
   "metadata": {},
   "source": [
    "The first message is the function execution, the second is telling us that the function called get_msg is located at a that hexadecimal adress in memory. \n",
    "\n",
    "Just as data, program code is located in memory but they are located in separated areas. \n",
    "\n",
    "What type of get_msg is? Obviously is a function but what does it mean?"
   ]
  },
  {
   "cell_type": "code",
   "execution_count": 3,
   "id": "c16c818e",
   "metadata": {},
   "outputs": [
    {
     "name": "stdout",
     "output_type": "stream",
     "text": [
      "<class 'function'>\n"
     ]
    }
   ],
   "source": [
    "print( type(get_msg) )"
   ]
  },
  {
   "cell_type": "markdown",
   "id": "858d9b6a",
   "metadata": {},
   "source": [
    "This means that it is of the class of thing that are *functions* just as 1 is the class of things called *integers*.\n",
    "\n",
    "What actually means is that the thing being referenced by get_msg is a function object (an example or instance of the Function class). This get_msg is really a type of variable that references (or points at) the *function object* in memory which can execute using the round brackets. \n",
    "\n",
    "This means that when we run get_msg() what actually happens is we go to the get_msg variable and follow the reference (or pointer) there to the function and then because we have the round brackets we run that function. "
   ]
  },
  {
   "cell_type": "markdown",
   "id": "1c8c0ad6",
   "metadata": {},
   "source": [
    "This has two implications:\n",
    "\n",
    "1. *We can pass the reference to a function around*. This means that we can have the same reference in two or more variables, just as typing a=5 and b=5 indicates that the variables a and b references the same integer 5. We copy the reference (its address) of the function, not the function itself.\n",
    "\n"
   ]
  },
  {
   "cell_type": "code",
   "execution_count": 4,
   "id": "0c3d1bc7",
   "metadata": {},
   "outputs": [
    {
     "name": "stdout",
     "output_type": "stream",
     "text": [
      "Hello Python World!\n",
      "Hello Python World!\n"
     ]
    }
   ],
   "source": [
    "another_reference = get_msg #We assing the reference to a new varaible called\n",
    "print(another_reference())  #We execute the same function but with different reference\n",
    "print(get_msg())            #The original reference still intact\n",
    "\n",
    "#Now we have two refereces to the same function! Meaning that we can run the function with any of them."
   ]
  },
  {
   "cell_type": "markdown",
   "id": "815c533f",
   "metadata": {},
   "source": [
    "2. *We can make get_msg reference (point) at a different function.*  Meaning that we can assign that variable to reference a completely different function. "
   ]
  },
  {
   "cell_type": "code",
   "execution_count": 6,
   "id": "c1aeb21a",
   "metadata": {},
   "outputs": [
    {
     "name": "stdout",
     "output_type": "stream",
     "text": [
      "Some other message!\n"
     ]
    }
   ],
   "source": [
    "def get_some_other_msg():       #We define another function whose reference is get_some_other_msg\n",
    "    return \"Some other message!\"\n",
    "\n",
    "get_msg = get_some_other_msg   #We reference get_msg to out new function\n",
    "print(get_msg())               #We use the old reference for our new function"
   ]
  },
  {
   "cell_type": "markdown",
   "id": "d264e6d6",
   "metadata": {},
   "source": [
    "## Higher order function concepts"
   ]
  },
  {
   "cell_type": "markdown",
   "id": "1bb8d877",
   "metadata": {},
   "source": [
    "We can pass a reference to a function as an argument (or an output) of a certain function. \n",
    "\n",
    "A function that takes another function  as a parameter is known as a *higher order function*. They can do one or both of the following:\n",
    "\n",
    "* take one or more functions as a parameter\n",
    "* return as a result a function\n",
    "\n",
    "All the other functions are called *firs order*\n",
    "\n",
    "\n"
   ]
  },
  {
   "cell_type": "markdown",
   "id": "6eff7c9c",
   "metadata": {},
   "source": [
    "## Pythonn higher order functions"
   ]
  },
  {
   "cell_type": "markdown",
   "id": "8fcaa752",
   "metadata": {},
   "source": [
    "For instace, we can define a function *apply()* whose inputs are a number and a operation defined as a function."
   ]
  },
  {
   "cell_type": "code",
   "execution_count": 1,
   "id": "86dc6b47",
   "metadata": {},
   "outputs": [],
   "source": [
    "#Some operations\n",
    "def mult_by_five(num):\n",
    "    return num*5\n",
    "\n",
    "def square(num):\n",
    "    return num*num\n",
    "\n",
    "def add_one(num):\n",
    "    return num+1"
   ]
  },
  {
   "cell_type": "code",
   "execution_count": 2,
   "id": "86a44d81",
   "metadata": {},
   "outputs": [],
   "source": [
    "def apply(num, func):\n",
    "    return func(num)\n",
    "\n",
    "    "
   ]
  },
  {
   "cell_type": "code",
   "execution_count": 3,
   "id": "34c1d197",
   "metadata": {},
   "outputs": [
    {
     "data": {
      "text/plain": [
       "25"
      ]
     },
     "execution_count": 3,
     "metadata": {},
     "output_type": "execute_result"
    }
   ],
   "source": [
    "apply(5, mult_by_five)"
   ]
  },
  {
   "cell_type": "markdown",
   "id": "05cde2fa",
   "metadata": {},
   "source": [
    "The key to why higher order functions are so powerful is to consider what would happen if we know that some function should be applied to the value 10 but we do not yet know what it is. "
   ]
  },
  {
   "cell_type": "markdown",
   "id": "000262a4",
   "metadata": {},
   "source": [
    "### Functions returning functions"
   ]
  },
  {
   "cell_type": "code",
   "execution_count": null,
   "id": "a1143f4e",
   "metadata": {},
   "outputs": [],
   "source": [
    "def make_checker(s):\n",
    "    if s == 'even':\n",
    "        return lambda n: n%2 == 0\n",
    "    elif s == 'positive':\n",
    "        return lambda n: n >= 0\n",
    "    elif s == 'negative':\n",
    "        return lambda n: n < 0\n",
    "    else:\n",
    "        raise ValueError('Unknown request')\n",
    "        \n",
    "\n",
    "    "
   ]
  }
 ],
 "metadata": {
  "kernelspec": {
   "display_name": "Python 3 (ipykernel)",
   "language": "python",
   "name": "python3"
  },
  "language_info": {
   "codemirror_mode": {
    "name": "ipython",
    "version": 3
   },
   "file_extension": ".py",
   "mimetype": "text/x-python",
   "name": "python",
   "nbconvert_exporter": "python",
   "pygments_lexer": "ipython3",
   "version": "3.10.4"
  }
 },
 "nbformat": 4,
 "nbformat_minor": 5
}
