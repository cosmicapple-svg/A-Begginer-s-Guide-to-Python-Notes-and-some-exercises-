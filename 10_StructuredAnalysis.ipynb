{
 "cells": [
  {
   "cell_type": "markdown",
   "id": "22e2e46e",
   "metadata": {},
   "source": [
    "# Introduction to structured analysis "
   ]
  },
  {
   "cell_type": "markdown",
   "id": "631b4702",
   "metadata": {},
   "source": [
    "## 10. 2 Structured Analysis and Function Identification"
   ]
  },
  {
   "cell_type": "markdown",
   "id": "9718088f",
   "metadata": {},
   "source": [
    "In structured analysis we consider what the inputs and outputs of the system are and how those inputs are transformed into the outputs, usually performed by functions, the process known as *Functional Decomposition* identifies this functions and iteratively break them down into smaller and smaller functions until an appropiate level of detail has been reached."
   ]
  },
  {
   "cell_type": "markdown",
   "id": "0c9c811c",
   "metadata": {},
   "source": [
    "Any programm of significant size will need to be structured eventually, this for:\n",
    "\n",
    "* readability\n",
    "* being tested \n",
    "* maintainance\n",
    "* easy debuggig\n"
   ]
  },
  {
   "cell_type": "markdown",
   "id": "bea8622f",
   "metadata": {},
   "source": [
    "## Functional decomposition"
   ]
  },
  {
   "cell_type": "markdown",
   "id": "783dbd40",
   "metadata": {},
   "source": [
    "why decompose with functions?\n",
    "* Test the system (functions can be tested in isolation)\n",
    "* Helps giving meaning to the code\n",
    "* The modification of the code can be made modifying a specific function\n",
    "* The debugging is easier \n",
    "\n",
    "*Top down refinement:* is the idea the breaking down a system into the sub-systems that make it up.\n",
    "\n",
    "Some terminology:\n",
    "**Function:** a task that is performed by a device, system or process. \n",
    "\n",
    "**Decomposition:** higher level functions are broken down into lower level functions where each functio represents a part of the functionality of the higher level function. \n",
    "\n",
    "**Higher level function:** function that has one or more sub-functions, it depends on the behaviour of them. \n",
    "\n",
    "**Sub-function:** provides some element of the behaviour of the higher level function, this can also be broken into his own sub functions. \n",
    "\n",
    "**Basic function:** is a function that has no smaller sub functions.\n"
   ]
  },
  {
   "cell_type": "markdown",
   "id": "48a2d174",
   "metadata": {},
   "source": [
    "In order to accomplish this aim we need to analize the code and look how the inputs and outputs of variables are performed, then we break the code in parts each of them having its own purpose. A diagram of function hierarchy is recommended for clarity."
   ]
  },
  {
   "cell_type": "markdown",
   "id": "959f0292",
   "metadata": {},
   "source": [
    "## Functional flow"
   ]
  },
  {
   "cell_type": "markdown",
   "id": "8df0487c",
   "metadata": {},
   "source": []
  },
  {
   "cell_type": "code",
   "execution_count": null,
   "id": "d6360f92",
   "metadata": {},
   "outputs": [],
   "source": []
  },
  {
   "cell_type": "code",
   "execution_count": null,
   "id": "59bf1e49",
   "metadata": {},
   "outputs": [],
   "source": []
  },
  {
   "cell_type": "code",
   "execution_count": null,
   "id": "27fc1686",
   "metadata": {},
   "outputs": [],
   "source": []
  }
 ],
 "metadata": {
  "kernelspec": {
   "display_name": "Python 3 (ipykernel)",
   "language": "python",
   "name": "python3"
  },
  "language_info": {
   "codemirror_mode": {
    "name": "ipython",
    "version": 3
   },
   "file_extension": ".py",
   "mimetype": "text/x-python",
   "name": "python",
   "nbconvert_exporter": "python",
   "pygments_lexer": "ipython3",
   "version": "3.10.4"
  }
 },
 "nbformat": 4,
 "nbformat_minor": 5
}
