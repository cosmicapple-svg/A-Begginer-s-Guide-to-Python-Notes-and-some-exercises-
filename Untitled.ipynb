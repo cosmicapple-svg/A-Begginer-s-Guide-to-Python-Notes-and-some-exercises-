{
 "cells": [
  {
   "cell_type": "markdown",
   "id": "9cac7ce1",
   "metadata": {},
   "source": [
    "# Why bother with object orientation?"
   ]
  },
  {
   "cell_type": "markdown",
   "id": "2aa24b2e",
   "metadata": {},
   "source": [
    "## Packages vs classes"
   ]
  },
  {
   "cell_type": "markdown",
   "id": "eabc53e5",
   "metadata": {},
   "source": [
    "Packages tend to be larger (at least conceptually) units than classes, they are not used to encapsulate a single concept such as *string* or *Date*, but rather a whole set of related concepts (as indeed they are used in python). *Thus, a class is a finer level of granularity than a package*. \n",
    "\n",
    "\n",
    "Second, packages still provide a relatively loose association between the data and the procedures. They are realated via related set of concepts represented by the package. On the other hand, a class tends to closely relate data and methods in a single concept. Indeed one of the guidelines relationg to good class sign is that if a class represents more than one concept, then you should split it in two classes. \n",
    "\n",
    "For example\n"
   ]
  },
  {
   "cell_type": "code",
   "execution_count": 1,
   "id": "2c8c467c",
   "metadata": {},
   "outputs": [],
   "source": [
    "class Date:\n",
    "    def __init__(self, day, month, year):\n",
    "        self.day = day \n",
    "        self.month = month\n",
    "        self.year = year\n",
    "    \n",
    "    def is_day_of_week(self):\n",
    "        \"\"\"Check if date is a week day\"\"\"\n",
    "        # ... to be defined\n",
    "    \n",
    "    def in_month(self, month_index):\n",
    "        \"\"\"Check if month is in month_index\"\"\"\n",
    "        return self.month==month_index"
   ]
  },
  {
   "cell_type": "markdown",
   "id": "83fc0055",
   "metadata": {},
   "source": [
    "Everyone using *Date* gets an object which can tell you whether it is a day o not and hold the appropiate data.  The method *is_day_of_week()* takes no parameters other than *self* and it doesn't need to as it and the date information are part of the same thing. The user of Date will never need to get their hands on the actual data holding the date. Instead, they should go to methods. "
   ]
  },
  {
   "cell_type": "markdown",
   "id": "f8b6b596",
   "metadata": {},
   "source": [
    "### Inheritance"
   ]
  },
  {
   "cell_type": "markdown",
   "id": "40f68c08",
   "metadata": {},
   "source": [
    "As we saw, the inheritance is a way to inherit data and method from one class to another. This allows the developer to get inside the encapsulation bubble in limited and controlled ways. "
   ]
  }
 ],
 "metadata": {
  "kernelspec": {
   "display_name": "Python 3 (ipykernel)",
   "language": "python",
   "name": "python3"
  },
  "language_info": {
   "codemirror_mode": {
    "name": "ipython",
    "version": 3
   },
   "file_extension": ".py",
   "mimetype": "text/x-python",
   "name": "python",
   "nbconvert_exporter": "python",
   "pygments_lexer": "ipython3",
   "version": "3.10.4"
  }
 },
 "nbformat": 4,
 "nbformat_minor": 5
}
