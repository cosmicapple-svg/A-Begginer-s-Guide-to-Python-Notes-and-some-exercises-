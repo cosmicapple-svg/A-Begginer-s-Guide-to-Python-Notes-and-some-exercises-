{
 "cells": [
  {
   "cell_type": "markdown",
   "id": "ad56f922",
   "metadata": {},
   "source": [
    "# Error and exception handling"
   ]
  },
  {
   "cell_type": "markdown",
   "id": "93f7515b",
   "metadata": {},
   "source": [
    "## Errors and exceptions\n"
   ]
  },
  {
   "cell_type": "markdown",
   "id": "8f00b406",
   "metadata": {},
   "source": [
    "One way of informing errors to other parts of a program (and to the coder or user) is by generating an error object and propagating that through the code until someone *handles* it. \n",
    "\n",
    "If the error propagates through the program the user needs to know that something went wrong. "
   ]
  },
  {
   "cell_type": "markdown",
   "id": "a8a24424",
   "metadata": {},
   "source": [
    "## What is an exception?"
   ]
  },
  {
   "cell_type": "markdown",
   "id": "3b7e368a",
   "metadata": {},
   "source": [
    "As we've seen in python everything is an object and this includes Exceptions and Errors. Exception/Error types are defined in a class hierarchy with the root of this hierarchy being *BaseException* type. It has a subclass *Exception* which is the root of all user defined exceptions (as well as many built-in). For example, *ArithmeticException* is the base class for exceptions associated with arithmetic errors.\n",
    "\n",
    "\n",
    "![](Exceptions.png)\n",
    "\n",
    "When an exception occurs, we call this *exception raising* and when it is passed to the code to handle it this is known as *exception throwing*. "
   ]
  },
  {
   "cell_type": "markdown",
   "id": "f87c61ba",
   "metadata": {},
   "source": [
    "## What is Exception Handling?"
   ]
  },
  {
   "cell_type": "markdown",
   "id": "1f693028",
   "metadata": {},
   "source": [
    "An exception moves the flow of control from one place to another. The problem is usually some sort of error, the purpose of an exception is to handle an error condition when it happens at run time. \n",
    "\n",
    "Different types of error produce different types of exception. The type of exception is identified by objects  and can be caht and processed by exception handler. Each handler can deal with exceptions associated with its class of error or exception.\n",
    "\n",
    "An exception is instantiated when it is raised. The system searches back up the execution stack until it finds a handler which can deal with the exception, this associated handler deals with it and may perform some remedial action.\n",
    "\n",
    "As a handler can only deal with an exception of a specified class (or subclass), an exception may pass through a number of handler blocks befor it find one that can process it. \n",
    "\n"
   ]
  },
  {
   "cell_type": "markdown",
   "id": "b9fb6825",
   "metadata": {},
   "source": [
    "## Handling an exception"
   ]
  },
  {
   "cell_type": "markdown",
   "id": "667b54cd",
   "metadata": {},
   "source": [
    "In python there is the *try-except* construct which is broken into three parts:\n",
    "\n",
    "* *try* block: indicates the code which is to be monitored fro the exceptions listed in the except expressions. \n",
    "\n",
    "* *except* clause: (optional) indicates what to do when certain classes of exception/error occur, there can be any number of except clauses. \n",
    "\n",
    "* *else* clause: (optional) is a clause that is run if and only if no exception has thrown in the *try* block.\n",
    "\n",
    "* *finally* clause: (optional) runs after the *try* block exits, you can use it to clean up any resources, close files, etc. "
   ]
  },
  {
   "cell_type": "markdown",
   "id": "c300dc8b",
   "metadata": {},
   "source": [
    "Let's handle as an example an zero division error"
   ]
  },
  {
   "cell_type": "code",
   "execution_count": 2,
   "id": "78e2a149",
   "metadata": {},
   "outputs": [],
   "source": [
    "def zerodiv():\n",
    "    return 1/0"
   ]
  },
  {
   "cell_type": "code",
   "execution_count": 3,
   "id": "a8188778",
   "metadata": {},
   "outputs": [
    {
     "ename": "ZeroDivisionError",
     "evalue": "division by zero",
     "output_type": "error",
     "traceback": [
      "\u001b[1;31m---------------------------------------------------------------------------\u001b[0m",
      "\u001b[1;31mZeroDivisionError\u001b[0m                         Traceback (most recent call last)",
      "Input \u001b[1;32mIn [3]\u001b[0m, in \u001b[0;36m<cell line: 1>\u001b[1;34m()\u001b[0m\n\u001b[1;32m----> 1\u001b[0m \u001b[43mzerodiv\u001b[49m\u001b[43m(\u001b[49m\u001b[43m)\u001b[49m\n",
      "Input \u001b[1;32mIn [2]\u001b[0m, in \u001b[0;36mzerodiv\u001b[1;34m()\u001b[0m\n\u001b[0;32m      1\u001b[0m \u001b[38;5;28;01mdef\u001b[39;00m \u001b[38;5;21mzerodiv\u001b[39m():\n\u001b[1;32m----> 2\u001b[0m     \u001b[38;5;28;01mreturn\u001b[39;00m \u001b[38;5;241;43m1\u001b[39;49m\u001b[38;5;241;43m/\u001b[39;49m\u001b[38;5;241;43m0\u001b[39;49m\n",
      "\u001b[1;31mZeroDivisionError\u001b[0m: division by zero"
     ]
    }
   ],
   "source": [
    "zerodiv()"
   ]
  },
  {
   "cell_type": "code",
   "execution_count": 4,
   "id": "050f4ef6",
   "metadata": {},
   "outputs": [
    {
     "name": "stdout",
     "output_type": "stream",
     "text": [
      "oops\n"
     ]
    }
   ],
   "source": [
    "try:\n",
    "    zerodiv()\n",
    "except ZeroDivisionError:\n",
    "    print('oops')"
   ]
  },
  {
   "cell_type": "markdown",
   "id": "181efc20",
   "metadata": {},
   "source": [
    "The zerodiv() throws the ZeroDivision error which is passed back to the calling coe which has an *except* specifying this type of exception, this *catches* the exception and runs the associated block of code that print the message 'oops'. \n",
    "\n",
    "In fact, we can use *Exception* which is the parent class of all the errors this will look up for the corresponding error in its sons"
   ]
  },
  {
   "cell_type": "code",
   "execution_count": 6,
   "id": "7b2fd12a",
   "metadata": {},
   "outputs": [
    {
     "name": "stdout",
     "output_type": "stream",
     "text": [
      "oops\n"
     ]
    }
   ],
   "source": [
    "try:\n",
    "    zerodiv()\n",
    "except Exception:\n",
    "    print('oops')"
   ]
  },
  {
   "cell_type": "markdown",
   "id": "d76f9246",
   "metadata": {},
   "source": [
    "but sometimes is useful to define an exception block for certai types of errors. "
   ]
  },
  {
   "cell_type": "markdown",
   "id": "59cbca8c",
   "metadata": {},
   "source": [
    "### Accessing the exception object"
   ]
  },
  {
   "cell_type": "markdown",
   "id": "d671fa76",
   "metadata": {},
   "source": [
    "We can have access to the exception object with the *as* keyword. "
   ]
  },
  {
   "cell_type": "code",
   "execution_count": 7,
   "id": "78341ef1",
   "metadata": {},
   "outputs": [
    {
     "name": "stdout",
     "output_type": "stream",
     "text": [
      "division by zero\n",
      "oops\n"
     ]
    }
   ],
   "source": [
    "try:\n",
    "    zerodiv()\n",
    "except ZeroDivisionError as exp:\n",
    "    print(exp)\n",
    "    print('oops')"
   ]
  },
  {
   "cell_type": "markdown",
   "id": "4463f0be",
   "metadata": {},
   "source": [
    "### Jumping to exception handlers"
   ]
  },
  {
   "cell_type": "markdown",
   "id": "011704d4",
   "metadata": {},
   "source": [
    "When an error/exception is raise it is immediately *thrown* to the exception handlers, this implies that the code below that point won't be executed."
   ]
  },
  {
   "cell_type": "code",
   "execution_count": 8,
   "id": "3ee90899",
   "metadata": {},
   "outputs": [],
   "source": [
    "def my_function(x, y):\n",
    "    print(\"My function in\")\n",
    "    result = x/y\n",
    "    print(\"My function out\")\n",
    "    return result"
   ]
  },
  {
   "cell_type": "code",
   "execution_count": 9,
   "id": "3b4fd7c9",
   "metadata": {},
   "outputs": [
    {
     "name": "stdout",
     "output_type": "stream",
     "text": [
      "Starting\n",
      "before my function\n",
      "My function in\n",
      "My function out\n",
      "After my function\n"
     ]
    }
   ],
   "source": [
    "print('Starting')\n",
    "\n",
    "try:\n",
    "    print(\"before my function\")\n",
    "    my_function(6,2)\n",
    "    print(\"After my function\")\n",
    "except ZeroDivisionError as exp:\n",
    "    print('oops')\n",
    "\n",
    "print(\"Done\")"
   ]
  },
  {
   "cell_type": "code",
   "execution_count": 10,
   "id": "bb8b57ef",
   "metadata": {},
   "outputs": [
    {
     "name": "stdout",
     "output_type": "stream",
     "text": [
      "Starting\n",
      "before my function\n",
      "My function in\n",
      "oops\n",
      "Done\n"
     ]
    }
   ],
   "source": [
    "print('Starting')\n",
    "\n",
    "try:\n",
    "    print(\"before my function\")\n",
    "    my_function(6,0)\n",
    "    print(\"After my function\")\n",
    "except ZeroDivisionError as exp:\n",
    "    print('oops')\n",
    "\n",
    "print(\"Done\")"
   ]
  },
  {
   "cell_type": "markdown",
   "id": "b75d1eef",
   "metadata": {},
   "source": [
    "### Catch any exception"
   ]
  },
  {
   "cell_type": "markdown",
   "id": "824b99f6",
   "metadata": {},
   "source": [
    "It is also possible to specify an *except* cluase that can be used to catch any type of error/exception"
   ]
  },
  {
   "cell_type": "code",
   "execution_count": 12,
   "id": "a03ebf8b",
   "metadata": {},
   "outputs": [
    {
     "name": "stdout",
     "output_type": "stream",
     "text": [
      "My function in\n",
      "Something went wrong\n"
     ]
    }
   ],
   "source": [
    "try:\n",
    "    my_function(6, 0)\n",
    "except IndexError as e:\n",
    "    print(e)\n",
    "except:\n",
    "    print(\"Something went wrong\")"
   ]
  },
  {
   "cell_type": "markdown",
   "id": "ae983b2b",
   "metadata": {},
   "source": [
    "### The *else* clause"
   ]
  },
  {
   "cell_type": "markdown",
   "id": "bb626eea",
   "metadata": {},
   "source": [
    "We can define a block of code that runs if no exception was raised in the try block:"
   ]
  },
  {
   "cell_type": "code",
   "execution_count": 13,
   "id": "0a1a8aa6",
   "metadata": {},
   "outputs": [
    {
     "name": "stdout",
     "output_type": "stream",
     "text": [
      "My function in\n",
      "My function out\n",
      "Everything worked OK :)\n"
     ]
    }
   ],
   "source": [
    "try:\n",
    "    my_function(8,3)\n",
    "except ZeroDivisionError as e:\n",
    "    print(e)\n",
    "else:\n",
    "    print(\"Everything worked OK :)\")"
   ]
  },
  {
   "cell_type": "markdown",
   "id": "bf301d92",
   "metadata": {},
   "source": [
    "### The *finally* clause"
   ]
  },
  {
   "cell_type": "markdown",
   "id": "f608e13e",
   "metadata": {},
   "source": [
    "Basically it is a block a code that you want to run whether an exception ocurred or not. "
   ]
  },
  {
   "cell_type": "code",
   "execution_count": 16,
   "id": "ca8efcb6",
   "metadata": {},
   "outputs": [
    {
     "name": "stdout",
     "output_type": "stream",
     "text": [
      "My function in\n",
      "division by zero\n",
      "This will always rus\n"
     ]
    }
   ],
   "source": [
    "try:\n",
    "    my_function(6, 0)\n",
    "except ZeroDivisionError as e:\n",
    "    print(e)\n",
    "else:\n",
    "    print(\"Everythig worked ok\")\n",
    "finally:\n",
    "    print(\"This will always rus\")"
   ]
  },
  {
   "cell_type": "markdown",
   "id": "8484f050",
   "metadata": {
    "tags": []
   },
   "source": [
    "## Raising an exception"
   ]
  },
  {
   "cell_type": "markdown",
   "id": "ec547868",
   "metadata": {},
   "source": [
    "An error/exception is raised using the keyword *raise*. For example"
   ]
  },
  {
   "cell_type": "code",
   "execution_count": 17,
   "id": "ef1ce5c1",
   "metadata": {},
   "outputs": [],
   "source": [
    "def function_bang():\n",
    "    print(\"Function_bang in\")\n",
    "    raise ValueError('Bang!')\n",
    "    print('function_bang')"
   ]
  },
  {
   "cell_type": "markdown",
   "id": "acbaaa5d",
   "metadata": {},
   "source": [
    "For handling this error we write the try-exception construct and we put the ValueError as the exception:"
   ]
  },
  {
   "cell_type": "code",
   "execution_count": 18,
   "id": "152e6461",
   "metadata": {},
   "outputs": [
    {
     "name": "stdout",
     "output_type": "stream",
     "text": [
      "Function_bang in\n",
      "Bang!\n"
     ]
    }
   ],
   "source": [
    "try:\n",
    "    function_bang()\n",
    "except ValueError as ve:\n",
    "    print(ve)"
   ]
  },
  {
   "cell_type": "markdown",
   "id": "9f30d929",
   "metadata": {},
   "source": [
    "The argument in ValueError is optional.\n",
    "\n",
    "WE can also *re-raise* an error or an exception, this can be useful if you merely want to note that an errror has ocurred and then re throw it so that it can be handled further up in your application. \n",
    "\n",
    "The next code re-rise the ValueError caught by the except clause. \n"
   ]
  },
  {
   "cell_type": "code",
   "execution_count": 19,
   "id": "0d161ddb",
   "metadata": {},
   "outputs": [
    {
     "name": "stdout",
     "output_type": "stream",
     "text": [
      "Function_bang in\n",
      "oops\n"
     ]
    },
    {
     "ename": "ValueError",
     "evalue": "Bang!",
     "output_type": "error",
     "traceback": [
      "\u001b[1;31m---------------------------------------------------------------------------\u001b[0m",
      "\u001b[1;31mValueError\u001b[0m                                Traceback (most recent call last)",
      "Input \u001b[1;32mIn [19]\u001b[0m, in \u001b[0;36m<cell line: 1>\u001b[1;34m()\u001b[0m\n\u001b[0;32m      1\u001b[0m \u001b[38;5;28;01mtry\u001b[39;00m:\n\u001b[1;32m----> 2\u001b[0m     \u001b[43mfunction_bang\u001b[49m\u001b[43m(\u001b[49m\u001b[43m)\u001b[49m\n\u001b[0;32m      3\u001b[0m \u001b[38;5;28;01mexcept\u001b[39;00m \u001b[38;5;167;01mValueError\u001b[39;00m:\n\u001b[0;32m      4\u001b[0m     \u001b[38;5;28mprint\u001b[39m(\u001b[38;5;124m'\u001b[39m\u001b[38;5;124moops\u001b[39m\u001b[38;5;124m'\u001b[39m)\n",
      "Input \u001b[1;32mIn [17]\u001b[0m, in \u001b[0;36mfunction_bang\u001b[1;34m()\u001b[0m\n\u001b[0;32m      1\u001b[0m \u001b[38;5;28;01mdef\u001b[39;00m \u001b[38;5;21mfunction_bang\u001b[39m():\n\u001b[0;32m      2\u001b[0m     \u001b[38;5;28mprint\u001b[39m(\u001b[38;5;124m\"\u001b[39m\u001b[38;5;124mFunction_bang in\u001b[39m\u001b[38;5;124m\"\u001b[39m)\n\u001b[1;32m----> 3\u001b[0m     \u001b[38;5;28;01mraise\u001b[39;00m \u001b[38;5;167;01mValueError\u001b[39;00m(\u001b[38;5;124m'\u001b[39m\u001b[38;5;124mBang!\u001b[39m\u001b[38;5;124m'\u001b[39m)\n\u001b[0;32m      4\u001b[0m     \u001b[38;5;28mprint\u001b[39m(\u001b[38;5;124m'\u001b[39m\u001b[38;5;124mfunction_bang\u001b[39m\u001b[38;5;124m'\u001b[39m)\n",
      "\u001b[1;31mValueError\u001b[0m: Bang!"
     ]
    }
   ],
   "source": [
    "try:\n",
    "    function_bang()\n",
    "except ValueError:\n",
    "    print('oops')\n",
    "    raise"
   ]
  },
  {
   "cell_type": "markdown",
   "id": "3f5e73a5",
   "metadata": {},
   "source": [
    "## Defining a custom exception"
   ]
  },
  {
   "cell_type": "markdown",
   "id": "85e00253",
   "metadata": {},
   "source": [
    "You can define your own error and exceptions which can give you more control over what happens in particular circumstances. In order to do that, we create a subclass of the Exception class.\n",
    "\n",
    "For example, to define a *InvalidAgeException* we can extend the *Exception* class and generate an appropiate message:"
   ]
  },
  {
   "cell_type": "code",
   "execution_count": 20,
   "id": "d0b9e31c",
   "metadata": {},
   "outputs": [],
   "source": [
    "class InvalidAgeException(Exception):\n",
    "    \"\"\"Valid Ages must be between 0 and 120\"\"\""
   ]
  },
  {
   "cell_type": "markdown",
   "id": "99336cc2",
   "metadata": {},
   "source": [
    "Let's take our always confident *Person* class"
   ]
  },
  {
   "cell_type": "code",
   "execution_count": 21,
   "id": "4c8880b5",
   "metadata": {},
   "outputs": [],
   "source": [
    "class Person:\n",
    "\n",
    "    def __init__(self, name, age):\n",
    "        self._name = name\n",
    "        self._age = age\n",
    "\n",
    "    @property\n",
    "    def age(self):\n",
    "        \"\"\" The docstring for the age property \"\"\"\n",
    "        print('In age method')\n",
    "        return self._age\n",
    "    \n",
    "    @age.setter\n",
    "    def age(self, value):\n",
    "        print('In set_age method(', value, ')')\n",
    "        if isinstance(value, int) and (value > 0 and value < 120):\n",
    "            self._age = value\n",
    "        else:\n",
    "            raise InvalidAgeException(value)\n",
    "\n",
    "    @property\n",
    "    def name(self):\n",
    "        print('In name')\n",
    "        return self._name\n",
    "\n",
    "    @name.deleter\n",
    "    def name(self):\n",
    "        del self._name\n",
    "\n",
    "    def __str__(self):\n",
    "        return 'Person[' + str(self._name) + '] is ' + self._age"
   ]
  },
  {
   "cell_type": "code",
   "execution_count": 23,
   "id": "cbc3fc73",
   "metadata": {},
   "outputs": [
    {
     "name": "stdout",
     "output_type": "stream",
     "text": [
      "In set_age method( -1 )\n",
      "In here\n"
     ]
    }
   ],
   "source": [
    "#And now we try an invalid age\n",
    "try:\n",
    "    p = Person(\"Hugo\", 21)\n",
    "    p.age = -1\n",
    "except InvalidAgeException:\n",
    "    print('In here')"
   ]
  },
  {
   "cell_type": "markdown",
   "id": "05c0b15f",
   "metadata": {},
   "source": [
    "We can complete the InvalidAgeException class to provide more stuff such as printing the invalid parameter:"
   ]
  },
  {
   "cell_type": "code",
   "execution_count": 24,
   "id": "0c7ab5b7",
   "metadata": {},
   "outputs": [],
   "source": [
    "class InvalidAgeException(Exception):\n",
    "    \"\"\"Valid ages must be between 0 and 120\"\"\"\n",
    "    \n",
    "    def __init__(self, value):\n",
    "        self.value = value\n",
    "    \n",
    "    def __str__(self):\n",
    "        return 'InvalidAgeException(' + str(self.value) +')'"
   ]
  },
  {
   "cell_type": "markdown",
   "id": "1cc32e9d",
   "metadata": {},
   "source": [
    "And ow we update the age.setter"
   ]
  },
  {
   "cell_type": "code",
   "execution_count": 25,
   "id": "15896c60",
   "metadata": {},
   "outputs": [],
   "source": [
    "class Person:\n",
    "\n",
    "    def __init__(self, name, age):\n",
    "        self._name = name\n",
    "        self._age = age\n",
    "\n",
    "    @property\n",
    "    def age(self):\n",
    "        \"\"\" The docstring for the age property \"\"\"\n",
    "        print('In age method')\n",
    "        return self._age\n",
    "    \n",
    "    @age.setter\n",
    "    def age(self, value):\n",
    "        print('In set_age method(', value, ')')\n",
    "        if isinstance(value, int) and (value > 0 and value < 120):\n",
    "            self._age = value\n",
    "        else:\n",
    "            raise InvalidAgeException(value)\n",
    "\n",
    "    @property\n",
    "    def name(self):\n",
    "        print('In name')\n",
    "        return self._name\n",
    "\n",
    "    @name.deleter\n",
    "    def name(self):\n",
    "        del self._name\n",
    "\n",
    "    def __str__(self):\n",
    "        return 'Person[' + str(self._name) + '] is ' + self._age"
   ]
  },
  {
   "cell_type": "code",
   "execution_count": 27,
   "id": "a8f63831",
   "metadata": {},
   "outputs": [
    {
     "name": "stdout",
     "output_type": "stream",
     "text": [
      "In set_age method( -1 )\n",
      "InvalidAgeException(-1)\n"
     ]
    }
   ],
   "source": [
    "#And now we try an invalid age\n",
    "try:\n",
    "    p = Person(\"Hugo\", 21)\n",
    "    p.age = -1\n",
    "except InvalidAgeException as e:\n",
    "    print(e)"
   ]
  },
  {
   "cell_type": "code",
   "execution_count": null,
   "id": "09b55b65",
   "metadata": {},
   "outputs": [],
   "source": []
  }
 ],
 "metadata": {
  "kernelspec": {
   "display_name": "Python 3 (ipykernel)",
   "language": "python",
   "name": "python3"
  },
  "language_info": {
   "codemirror_mode": {
    "name": "ipython",
    "version": 3
   },
   "file_extension": ".py",
   "mimetype": "text/x-python",
   "name": "python",
   "nbconvert_exporter": "python",
   "pygments_lexer": "ipython3",
   "version": "3.11.2"
  }
 },
 "nbformat": 4,
 "nbformat_minor": 5
}
