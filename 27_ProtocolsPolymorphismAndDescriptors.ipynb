{
 "cells": [
  {
   "cell_type": "markdown",
   "id": "2138e986-9e87-46d5-bed1-872abc03a20b",
   "metadata": {},
   "source": [
    "# Protocols, polymorphism and descriptors"
   ]
  },
  {
   "cell_type": "markdown",
   "id": "bc4c9218-d4b5-4f81-851a-cb5a87f1868e",
   "metadata": {},
   "source": [
    "## Implicit contracts"
   ]
  },
  {
   "cell_type": "markdown",
   "id": "4bf22c9f-de34-446a-9554-f0a0dfa7102f",
   "metadata": {},
   "source": [
    "Some programming languages have the idea of an explicit contract between a class and the user of that class and this contract provides a guarantee of the methods that will be provided and the types that will be used for parameter and return values from these methods. In Java and C# they are called *interfaces*. \n",
    "\n",
    "\n",
    "Python is more flexible and has no explicit concept of an *interface*. This sometimes make things more complex:"
   ]
  },
  {
   "cell_type": "code",
   "execution_count": 1,
   "id": "83a1a598-50f9-4971-98f3-5f1c175b33e9",
   "metadata": {},
   "outputs": [],
   "source": [
    "class Calculator: \n",
    "    def add(self, x, y):\n",
    "        return x+y"
   ]
  },
  {
   "cell_type": "markdown",
   "id": "0e92fa46-5216-44b6-b390-7c73f80bc4bf",
   "metadata": {},
   "source": [
    "What are the valid values that can be passed into the add method and use for the parameter x and y? Initially it might seem that numbers is the answer:"
   ]
  },
  {
   "cell_type": "code",
   "execution_count": 4,
   "id": "bf23c97d-50d3-4030-9982-897cc691aa00",
   "metadata": {},
   "outputs": [
    {
     "data": {
      "text/plain": [
       "7"
      ]
     },
     "execution_count": 4,
     "metadata": {},
     "output_type": "execute_result"
    }
   ],
   "source": [
    "calc = Calculator()\n",
    "\n",
    "calc.add(4, 3)"
   ]
  },
  {
   "cell_type": "markdown",
   "id": "0916c5c8-7722-4685-af52-621a7d27d940",
   "metadata": {},
   "source": [
    "In fact, tha Calculator.add() method has a cotract that the values passed into the method will suppor the *plus* operator. For example, strings:"
   ]
  },
  {
   "cell_type": "code",
   "execution_count": 5,
   "id": "33f72a02-b061-4de2-9542-53f0a21df768",
   "metadata": {},
   "outputs": [
    {
     "data": {
      "text/plain": [
       "'Hello, you'"
      ]
     },
     "execution_count": 5,
     "metadata": {},
     "output_type": "execute_result"
    }
   ],
   "source": [
    "calc.add(\"Hello\", \", you\")"
   ]
  },
  {
   "cell_type": "markdown",
   "id": "e10b8018-1e05-4a70-908e-6b1bcfd9f129",
   "metadata": {},
   "source": [
    "## Duck typing"
   ]
  },
  {
   "cell_type": "code",
   "execution_count": null,
   "id": "5a02cc7d-6add-4ee7-8de9-2cc6233e2f21",
   "metadata": {},
   "outputs": [],
   "source": []
  }
 ],
 "metadata": {
  "kernelspec": {
   "display_name": "Python 3 (ipykernel)",
   "language": "python",
   "name": "python3"
  },
  "language_info": {
   "codemirror_mode": {
    "name": "ipython",
    "version": 3
   },
   "file_extension": ".py",
   "mimetype": "text/x-python",
   "name": "python",
   "nbconvert_exporter": "python",
   "pygments_lexer": "ipython3",
   "version": "3.10.4"
  }
 },
 "nbformat": 4,
 "nbformat_minor": 5
}
