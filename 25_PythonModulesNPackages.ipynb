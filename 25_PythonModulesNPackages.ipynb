{
 "cells": [
  {
   "cell_type": "markdown",
   "id": "802598fe-4cdb-45a0-a1f0-7c7073beee22",
   "metadata": {},
   "source": [
    "# Python Modules and packages"
   ]
  },
  {
   "cell_type": "markdown",
   "id": "72dbf677-a2db-4833-95e5-8f22ecf6e979",
   "metadata": {},
   "source": [
    "## Modules"
   ]
  },
  {
   "cell_type": "markdown",
   "id": "f809e8a7-0974-41d8-abb2-69c991cdcf9c",
   "metadata": {},
   "source": [
    "Modules group code in general (functions, calsses). The modules are useful when either the code becomes larger or is code to be reused.   \n",
    "\n",
    "Why to do that?\n",
    "\n",
    "* *Simplicity*. Individual modules can be simpler than the overall solution. \n",
    "\n",
    "* *Maintenance*. Modules make it easier to define logical boundaries between one body of code and another. \n",
    "\n",
    "* *Testing*. One module can be tested in isolation and even before other modules. \n",
    "\n",
    "* *Reusability*. We can use a function or class of one module in another module. \n",
    "\n",
    "* *Scoping*. The modules typically also define a *namespace* that is a scope within which each function or class is unique. "
   ]
  },
  {
   "cell_type": "markdown",
   "id": "3260c3ea-a147-4a10-bcab-e468b603f601",
   "metadata": {},
   "source": [
    "## Python Modules"
   ]
  },
  {
   "cell_type": "markdown",
   "id": "a6f67639-b981-4485-a578-8fa29083bcb7",
   "metadata": {},
   "source": [
    "For example, let's write a module called *uitls*, for that we define a file 'utils.py' which contains the code of the module, this code is displayed in the following cell: "
   ]
  },
  {
   "cell_type": "code",
   "execution_count": null,
   "id": "3247c5f1-4576-4c03-81ec-bec829338c41",
   "metadata": {},
   "outputs": [],
   "source": [
    "# utils.py\n",
    "\n",
    "\"\"\"This is a test module\"\"\"\n",
    "\n",
    "print('Hello I am the utils module)\n",
    "      \n",
    "def printer(some_object):\n",
    "      print('printer')\n",
    "      print(some_object)\n",
    "      print('done')\n",
    "\n",
    "class Shape:\n",
    "      \n",
    "      def __init__(self, id):\n",
    "          self._id = id\n",
    "      \n",
    "      def __str__(self):\n",
    "          return 'Shape -' + self._id\n",
    "      \n",
    "      @property\n",
    "      def id(self):\n",
    "          \"\"\"THe docstrig for the ide property\"\"\"\n",
    "          print('In id method')\n",
    "          return self._id\n",
    "      \n",
    "      @id.setter\n",
    "      def id(self, value):\n",
    "          print('In set_age method')\n",
    "          self._id = id\n",
    "      \n",
    "\n",
    "default_shape = Shape('Square')"
   ]
  },
  {
   "cell_type": "markdown",
   "id": "4f76e321-44c7-468f-ba78-94cf2d41adae",
   "metadata": {},
   "source": [
    "As usual, the firsts lines is a comment with the documentation of the module. \n",
    "\n",
    "The print statement just after the comment runs always we import the module. The same for the *default_shape* variable."
   ]
  },
  {
   "cell_type": "markdown",
   "id": "62aafb06-bd83-4999-b2be-3d5569628c05",
   "metadata": {},
   "source": [
    "## Importing python modules"
   ]
  },
  {
   "cell_type": "markdown",
   "id": "de964733-0939-44ff-a93e-f570127d500a",
   "metadata": {},
   "source": [
    "Our module is called 'utils.py' so we can import it writing:"
   ]
  },
  {
   "cell_type": "code",
   "execution_count": 2,
   "id": "b6eb09a6-d18d-40c4-ae3f-a92e28882105",
   "metadata": {},
   "outputs": [
    {
     "name": "stdout",
     "output_type": "stream",
     "text": [
      "Hello I am the utils module\n"
     ]
    }
   ],
   "source": [
    "import utils"
   ]
  },
  {
   "cell_type": "markdown",
   "id": "b29bec2f-912c-4f79-806e-ce02a651d726",
   "metadata": {},
   "source": [
    "Since the previous cell, we can use all the definitions inside *utils.py* such as Shape, printer() and default_shape:"
   ]
  },
  {
   "cell_type": "code",
   "execution_count": 3,
   "id": "9395fe24-e11e-4dc0-8741-a0f34d355baa",
   "metadata": {},
   "outputs": [
    {
     "name": "stdout",
     "output_type": "stream",
     "text": [
      "printer\n",
      "Shape -Square\n",
      "done\n"
     ]
    }
   ],
   "source": [
    "utils.printer(utils.default_shape)"
   ]
  },
  {
   "cell_type": "code",
   "execution_count": 5,
   "id": "162d77f9-607f-4e14-8863-a9150a540aaa",
   "metadata": {},
   "outputs": [
    {
     "name": "stdout",
     "output_type": "stream",
     "text": [
      "printer\n",
      "Shape -circle\n",
      "done\n"
     ]
    }
   ],
   "source": [
    "shape = utils.Shape('circle')\n",
    "utils.printer(shape)"
   ]
  },
  {
   "cell_type": "markdown",
   "id": "f142645a-8c70-4fe5-84e9-766e8b460174",
   "metadata": {},
   "source": [
    "### Importing from a Module"
   ]
  },
  {
   "cell_type": "markdown",
   "id": "3442a4a9-a002-4ed6-be86-adffd6c10d3b",
   "metadata": {},
   "source": [
    "How tedious is writing utils.<something\\>, is like calling a person by its full name. To avoid that we can write an alternative statement for *import*:"
   ]
  },
  {
   "cell_type": "code",
   "execution_count": 6,
   "id": "2e8b28fb-968c-4530-a5b8-078241f4e0a2",
   "metadata": {},
   "outputs": [],
   "source": [
    "from utils import * "
   ]
  },
  {
   "cell_type": "markdown",
   "id": "06305c82-f018-4ae4-a653-711a091fc10e",
   "metadata": {},
   "source": [
    "Which indicates that from the module *utils* we import everything, now we can access the functions and classes without writing utils.blablabla:"
   ]
  },
  {
   "cell_type": "code",
   "execution_count": 7,
   "id": "ad52242f-0634-4ee3-8621-160aa168add9",
   "metadata": {},
   "outputs": [
    {
     "name": "stdout",
     "output_type": "stream",
     "text": [
      "printer\n",
      "Shape -Square\n",
      "done\n"
     ]
    }
   ],
   "source": [
    "printer(default_shape)"
   ]
  },
  {
   "cell_type": "code",
   "execution_count": 9,
   "id": "bd8ac393-a42a-4d65-89cc-b6bffa700aad",
   "metadata": {},
   "outputs": [
    {
     "name": "stdout",
     "output_type": "stream",
     "text": [
      "printer\n",
      "Shape -circle\n",
      "done\n"
     ]
    }
   ],
   "source": [
    "shape = Shape('circle')\n",
    "printer(shape)"
   ]
  },
  {
   "cell_type": "markdown",
   "id": "02ffae11-a1e1-4c35-ba43-075bfaabaef2",
   "metadata": {},
   "source": [
    "We can call a single or more element from a module with:\n",
    "\n",
    "from \\<module_name> import \\<class, function, etc>"
   ]
  },
  {
   "cell_type": "code",
   "execution_count": 10,
   "id": "ed978c78-f397-48e4-a162-2bfdf908535d",
   "metadata": {},
   "outputs": [],
   "source": [
    "from utils import Shape, printer"
   ]
  },
  {
   "cell_type": "markdown",
   "id": "a7511af3-535a-4fd6-a5c6-752dd05b9610",
   "metadata": {},
   "source": [
    "We can also give an alias for the module"
   ]
  },
  {
   "cell_type": "code",
   "execution_count": 11,
   "id": "c441585d-c2df-41c3-9105-fc168ea51178",
   "metadata": {},
   "outputs": [],
   "source": [
    "import utils as u"
   ]
  },
  {
   "cell_type": "markdown",
   "id": "d076d3cf-45b4-4647-b4ee-8f2d89f96f6b",
   "metadata": {},
   "source": [
    "Or even we can import an element of a module with an alias, for example, let's put the printer() function an alias called 'pr':"
   ]
  },
  {
   "cell_type": "code",
   "execution_count": 12,
   "id": "344cfb3d-ba50-481f-83d2-1d6f31727af5",
   "metadata": {},
   "outputs": [],
   "source": [
    "from utils import printer as pr"
   ]
  },
  {
   "cell_type": "code",
   "execution_count": 13,
   "id": "05b664a5-e801-4b77-8fdb-021a446affdb",
   "metadata": {},
   "outputs": [
    {
     "name": "stdout",
     "output_type": "stream",
     "text": [
      "printer\n",
      "Shape -circle\n",
      "done\n"
     ]
    }
   ],
   "source": [
    "pr(shape)"
   ]
  },
  {
   "cell_type": "markdown",
   "id": "91545af4-a68d-4bcb-93e5-441ea25b0664",
   "metadata": {},
   "source": [
    "### Hiding some elements of a module"
   ]
  },
  {
   "cell_type": "markdown",
   "id": "db252fbf-11f7-4c13-8917-56c3eb65a56c",
   "metadata": {},
   "source": [
    "If an element of a module starts with an underbar, then it is hidden when importing i.e. it is not imported.\n",
    "\n",
    "So if we add the following function to the library utils:"
   ]
  },
  {
   "cell_type": "code",
   "execution_count": null,
   "id": "fc242099-42f1-4f7e-a369-0382bb716275",
   "metadata": {},
   "outputs": [],
   "source": [
    "def _special_function():\n",
    "    print('I\\'m a hidden function')\n"
   ]
  },
  {
   "cell_type": "code",
   "execution_count": 14,
   "id": "42154b60-423d-40a8-a702-c48eff165775",
   "metadata": {},
   "outputs": [
    {
     "ename": "NameError",
     "evalue": "name '_special_function' is not defined",
     "output_type": "error",
     "traceback": [
      "\u001b[1;31m---------------------------------------------------------------------------\u001b[0m",
      "\u001b[1;31mNameError\u001b[0m                                 Traceback (most recent call last)",
      "Input \u001b[1;32mIn [14]\u001b[0m, in \u001b[0;36m<cell line: 2>\u001b[1;34m()\u001b[0m\n\u001b[0;32m      1\u001b[0m \u001b[38;5;28;01mfrom\u001b[39;00m \u001b[38;5;21;01mutils\u001b[39;00m \u001b[38;5;28;01mimport\u001b[39;00m \u001b[38;5;241m*\u001b[39m\n\u001b[1;32m----> 2\u001b[0m \u001b[43m_special_function\u001b[49m()\n",
      "\u001b[1;31mNameError\u001b[0m: name '_special_function' is not defined"
     ]
    }
   ],
   "source": [
    "from utils import *\n",
    "_special_function()"
   ]
  },
  {
   "cell_type": "markdown",
   "id": "72d9bc62-3f4c-49d3-be8d-bdb15699de71",
   "metadata": {},
   "source": [
    "But, if we explicity import that function we can still using it:"
   ]
  },
  {
   "cell_type": "code",
   "execution_count": 2,
   "id": "e20baedd-161b-41b7-981b-a78f10a963bf",
   "metadata": {},
   "outputs": [
    {
     "name": "stdout",
     "output_type": "stream",
     "text": [
      "I'm a hidden function\n"
     ]
    }
   ],
   "source": [
    "from utils import _special_function\n"
   ]
  },
  {
   "cell_type": "code",
   "execution_count": 3,
   "id": "84135713-dbac-4822-a697-c849aad8fd7c",
   "metadata": {},
   "outputs": [
    {
     "name": "stdout",
     "output_type": "stream",
     "text": [
      "I'm a hidden function\n"
     ]
    }
   ],
   "source": [
    "_special_function()"
   ]
  },
  {
   "cell_type": "markdown",
   "id": "5e5bf841-ac2d-40c2-acce-515f7f9e2cc7",
   "metadata": {},
   "source": [
    "### IMporting within a function"
   ]
  },
  {
   "cell_type": "markdown",
   "id": "1f8b7edb-b359-4473-9f3a-82970f5c62e6",
   "metadata": {},
   "source": [
    "In some cases it may be useful to limit the scope of an import to a function; thus, avoiding any unnecessary use of, or name clashes with, local features.\n",
    "\n",
    "We just add the import module into the body of a function:"
   ]
  },
  {
   "cell_type": "code",
   "execution_count": null,
   "id": "adc1247f-bac8-4cef-8e8a-43513d55d261",
   "metadata": {},
   "outputs": [],
   "source": [
    "def some_function():\n",
    "    from utils import Shape\n",
    "    s = Shape('line')\n",
    "#The Shape class is only accessible withn the body of the function. "
   ]
  },
  {
   "cell_type": "markdown",
   "id": "f59b3bf1-c3ee-4ab2-95eb-a1fe1769d159",
   "metadata": {},
   "source": [
    "## Module properties"
   ]
  },
  {
   "cell_type": "markdown",
   "id": "28edc138-9be0-4678-9953-9ff3bb2caa40",
   "metadata": {},
   "source": [
    "Every module has a set of special properties :\n",
    "\n",
    "* \\_\\_name\\_\\_: the name of the module\n",
    "\n",
    "* \\_\\_doc\\_\\_: the docstring of the module\n",
    "\n",
    "* \\_\\_file\\_\\_: the file in which the module was defined\n",
    "\n",
    "Aditionally we can get a list of the content of a module once it has been imported with *dir*."
   ]
  },
  {
   "cell_type": "code",
   "execution_count": 4,
   "id": "25f86d82-1519-45c2-93ea-645db10e52dc",
   "metadata": {},
   "outputs": [
    {
     "name": "stdout",
     "output_type": "stream",
     "text": [
      "utils\n",
      "This is a test module\n",
      "C:\\Users\\hugos\\Documents\\Python\\A Begginer's Guide To Python3\\utils.py\n",
      "['Shape', '__builtins__', '__cached__', '__doc__', '__file__', '__loader__', '__name__', '__package__', '__spec__', '_special_function', 'default_shape', 'printer']\n"
     ]
    }
   ],
   "source": [
    "import utils\n",
    "\n",
    "print(utils.__name__)\n",
    "print(utils.__doc__)\n",
    "print(utils.__file__)\n",
    "print(dir(utils))"
   ]
  },
  {
   "cell_type": "markdown",
   "id": "9f21aaf4-1f56-4003-b115-5b07a74cef57",
   "metadata": {},
   "source": [
    "## Standard modules"
   ]
  },
  {
   "cell_type": "markdown",
   "id": "14cc276a-b7a3-4193-8278-2ed080885a8f",
   "metadata": {},
   "source": [
    "There are so many built-in modules in python. \n",
    "\n",
    "Let's take as an example the *sys* module, wich contains a number of data items and functions that relate to the execution platform on which a program is running. "
   ]
  },
  {
   "cell_type": "code",
   "execution_count": 5,
   "id": "2ce94da9-9b12-4ac4-8a07-44fad5ead3bd",
   "metadata": {},
   "outputs": [],
   "source": [
    "import sys"
   ]
  },
  {
   "cell_type": "code",
   "execution_count": 8,
   "id": "724b5a8b-57f2-4f88-99ce-737c9a71828b",
   "metadata": {},
   "outputs": [
    {
     "data": {
      "text/plain": [
       "'3.10.4 (tags/v3.10.4:9d38120, Mar 23 2022, 23:13:41) [MSC v.1929 64 bit (AMD64)]'"
      ]
     },
     "execution_count": 8,
     "metadata": {},
     "output_type": "execute_result"
    }
   ],
   "source": [
    "sys.version"
   ]
  },
  {
   "cell_type": "code",
   "execution_count": 9,
   "id": "4e907027-97bc-4dc7-81ae-02cd9588949c",
   "metadata": {},
   "outputs": [
    {
     "data": {
      "text/plain": [
       "9223372036854775807"
      ]
     },
     "execution_count": 9,
     "metadata": {},
     "output_type": "execute_result"
    }
   ],
   "source": [
    "sys.maxsize"
   ]
  },
  {
   "cell_type": "code",
   "execution_count": 10,
   "id": "e215daaf-2eb3-4152-97cf-d1402389be12",
   "metadata": {},
   "outputs": [
    {
     "data": {
      "text/plain": [
       "[\"C:\\\\Users\\\\hugos\\\\Documents\\\\Python\\\\A Begginer's Guide To Python3\",\n",
       " 'C:\\\\Users\\\\hugos\\\\AppData\\\\Local\\\\Programs\\\\Python\\\\Python310\\\\python310.zip',\n",
       " 'C:\\\\Users\\\\hugos\\\\AppData\\\\Local\\\\Programs\\\\Python\\\\Python310\\\\DLLs',\n",
       " 'C:\\\\Users\\\\hugos\\\\AppData\\\\Local\\\\Programs\\\\Python\\\\Python310\\\\lib',\n",
       " 'C:\\\\Users\\\\hugos\\\\AppData\\\\Local\\\\Programs\\\\Python\\\\Python310',\n",
       " '',\n",
       " 'C:\\\\Users\\\\hugos\\\\AppData\\\\Local\\\\Programs\\\\Python\\\\Python310\\\\lib\\\\site-packages',\n",
       " 'C:\\\\Users\\\\hugos\\\\AppData\\\\Local\\\\Programs\\\\Python\\\\Python310\\\\lib\\\\site-packages\\\\win32',\n",
       " 'C:\\\\Users\\\\hugos\\\\AppData\\\\Local\\\\Programs\\\\Python\\\\Python310\\\\lib\\\\site-packages\\\\win32\\\\lib',\n",
       " 'C:\\\\Users\\\\hugos\\\\AppData\\\\Local\\\\Programs\\\\Python\\\\Python310\\\\lib\\\\site-packages\\\\Pythonwin']"
      ]
     },
     "execution_count": 10,
     "metadata": {},
     "output_type": "execute_result"
    }
   ],
   "source": [
    "sys.path"
   ]
  },
  {
   "cell_type": "code",
   "execution_count": 11,
   "id": "9ab5e498-990e-44a9-a115-2aff3f8742c1",
   "metadata": {},
   "outputs": [
    {
     "data": {
      "text/plain": [
       "'win32'"
      ]
     },
     "execution_count": 11,
     "metadata": {},
     "output_type": "execute_result"
    }
   ],
   "source": [
    "sys.platform"
   ]
  },
  {
   "cell_type": "markdown",
   "id": "66cf9122-83b3-4b7a-905c-6f8a6371ebec",
   "metadata": {},
   "source": [
    "## Python module search path"
   ]
  },
  {
   "cell_type": "markdown",
   "id": "b5394d73-0e74-4c66-b82d-cc196dc57016",
   "metadata": {},
   "source": [
    "How does python find these modules when imported? It uses a special environment variable called the **PYTHONPATH** and it can be set up prior to running python that tells it where to look for to find any named modules. \n",
    "\n",
    "The sys.path is the path variable:"
   ]
  },
  {
   "cell_type": "code",
   "execution_count": 12,
   "id": "d30875da-f847-4649-8afe-0836aa075a95",
   "metadata": {},
   "outputs": [
    {
     "data": {
      "text/plain": [
       "[\"C:\\\\Users\\\\hugos\\\\Documents\\\\Python\\\\A Begginer's Guide To Python3\",\n",
       " 'C:\\\\Users\\\\hugos\\\\AppData\\\\Local\\\\Programs\\\\Python\\\\Python310\\\\python310.zip',\n",
       " 'C:\\\\Users\\\\hugos\\\\AppData\\\\Local\\\\Programs\\\\Python\\\\Python310\\\\DLLs',\n",
       " 'C:\\\\Users\\\\hugos\\\\AppData\\\\Local\\\\Programs\\\\Python\\\\Python310\\\\lib',\n",
       " 'C:\\\\Users\\\\hugos\\\\AppData\\\\Local\\\\Programs\\\\Python\\\\Python310',\n",
       " '',\n",
       " 'C:\\\\Users\\\\hugos\\\\AppData\\\\Local\\\\Programs\\\\Python\\\\Python310\\\\lib\\\\site-packages',\n",
       " 'C:\\\\Users\\\\hugos\\\\AppData\\\\Local\\\\Programs\\\\Python\\\\Python310\\\\lib\\\\site-packages\\\\win32',\n",
       " 'C:\\\\Users\\\\hugos\\\\AppData\\\\Local\\\\Programs\\\\Python\\\\Python310\\\\lib\\\\site-packages\\\\win32\\\\lib',\n",
       " 'C:\\\\Users\\\\hugos\\\\AppData\\\\Local\\\\Programs\\\\Python\\\\Python310\\\\lib\\\\site-packages\\\\Pythonwin']"
      ]
     },
     "execution_count": 12,
     "metadata": {},
     "output_type": "execute_result"
    }
   ],
   "source": [
    "sys.path"
   ]
  },
  {
   "cell_type": "markdown",
   "id": "f118d06d-a41e-4526-98ff-8a4185585ebf",
   "metadata": {},
   "source": [
    "This is a list of the locations that python would look into find a module. Python will search in each of these locations in order to find the module imported, it will use the first module it finds. The hierarchy is:\n",
    "\n",
    "1. The curret directory\n",
    "\n",
    "2. Each directory of the PYTHONPATH\n",
    "\n",
    "An interesting point of this is that if we define a module called the same as a built-in module, python will use our module and not the buited-in one."
   ]
  },
  {
   "cell_type": "markdown",
   "id": "916f49c8-3efc-4185-a969-f92128bafec1",
   "metadata": {},
   "source": [
    "## Modules as scripts"
   ]
  },
  {
   "cell_type": "markdown",
   "id": "e6b27aa7-9072-44d2-bde3-204ea5c5b8b7",
   "metadata": {},
   "source": [
    "Because modules are saved as .py file they can run as a script and indeed they run when called.\n",
    "\n",
    "But we can distiguish when a file is a module or is a script. Python sets the module property \\_\\_name\\_\\_ to the name of the module when it is being loaded as a module but if a file is being run as a standalone script then the property is set to the string \\_\\_main\\_\\_. \n",
    "\n",
    "Now we can determine if a file is being loaded as a module or as a script by checking the \\_\\_name\\_\\_ property. For example:"
   ]
  },
  {
   "cell_type": "code",
   "execution_count": null,
   "id": "58f1fd42-504e-4c32-a571-e88ebc2bd0b5",
   "metadata": {},
   "outputs": [],
   "source": [
    "\"\"\"This is a test module\"\"\"\n",
    "print(\"Hello, I am module 1\")\n",
    "\n",
    "def f1():\n",
    "    print('f1[1]')\n",
    "    \n",
    "def f2():\n",
    "    print('f2[1]')\n",
    "\n",
    "#Here we say that we can run the below code only if we load the file as script,\n",
    "#if not, we'll load only the above functions\n",
    "if __name__ == '__main__':\n",
    "    x=1+2\n",
    "    print('x is ', x)\n",
    "    f1()\n",
    "    f2()\n",
    "        "
   ]
  },
  {
   "cell_type": "markdown",
   "id": "c85817e0-7f14-451a-b548-b4ea74b5a276",
   "metadata": {},
   "source": [
    "It is usual to place the code to be run when a file is being loades as script in a function called main() and to call that function whithin a if statement. "
   ]
  },
  {
   "cell_type": "code",
   "execution_count": null,
   "id": "285d307e-7881-49be-9087-4755e45b1b9c",
   "metadata": {},
   "outputs": [],
   "source": [
    "\"\"\"This is a test module\"\"\"\n",
    "print(\"Hello, I am module 1\")\n",
    "\n",
    "def f1():\n",
    "    print('f1[1]')\n",
    "    \n",
    "def f2():\n",
    "    print('f2[1]')\n",
    "\n",
    "#The main function is run inside the if statement.\n",
    "def main():\n",
    "    x=1+2\n",
    "    print('x is ', x)\n",
    "    f1()\n",
    "    f2()\n",
    "\n",
    "if __name__ == '__main__':\n",
    "    main()\n",
    "        "
   ]
  },
  {
   "cell_type": "code",
   "execution_count": null,
   "id": "7ee6a7f9-53a7-4ec0-8962-9e74acc90a6c",
   "metadata": {},
   "outputs": [],
   "source": []
  }
 ],
 "metadata": {
  "kernelspec": {
   "display_name": "Python 3 (ipykernel)",
   "language": "python",
   "name": "python3"
  },
  "language_info": {
   "codemirror_mode": {
    "name": "ipython",
    "version": 3
   },
   "file_extension": ".py",
   "mimetype": "text/x-python",
   "name": "python",
   "nbconvert_exporter": "python",
   "pygments_lexer": "ipython3",
   "version": "3.10.4"
  }
 },
 "nbformat": 4,
 "nbformat_minor": 5
}
