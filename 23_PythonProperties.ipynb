{
 "cells": [
  {
   "cell_type": "markdown",
   "id": "ad8a2db5",
   "metadata": {},
   "source": [
    "# Python properties"
   ]
  },
  {
   "cell_type": "markdown",
   "id": "5b89d1c1",
   "metadata": {},
   "source": [
    "*Encapsulation*: the ability to hide data within an object and only to provide specific gateways into that data. These gateways are methods to *get* or *set* the value of an attribute. \n",
    "\n",
    "In Java and C# attributes can be hidden from external access using specific keywords. \n",
    "\n",
    "In Python we don't have explicity the concept of encapsulation instead we have the convention to indicate private methods and other concept called **property** which allows setters and getters to be definen for an attribute. \n"
   ]
  },
  {
   "cell_type": "markdown",
   "id": "e120c013",
   "metadata": {},
   "source": [
    "## Python attributes"
   ]
  },
  {
   "cell_type": "markdown",
   "id": "4c948197",
   "metadata": {},
   "source": [
    "All object attributes are all visible to any code using the object. For example, in the following class Person both name and age are part of the public interface of the class Person."
   ]
  },
  {
   "cell_type": "code",
   "execution_count": 1,
   "id": "f57432af",
   "metadata": {},
   "outputs": [],
   "source": [
    "class Person:\n",
    "    def __init__(self, name, age):\n",
    "        self.name = name\n",
    "        self.age = age\n",
    "        \n",
    "    def __str__(self):\n",
    "        return 'Person[' + str(self.name) + '] is ' + str(self.age)\n",
    "    "
   ]
  },
  {
   "cell_type": "markdown",
   "id": "f460e380",
   "metadata": {},
   "source": [
    "Because name and age are part of the class' public interface it means that we can write:"
   ]
  },
  {
   "cell_type": "code",
   "execution_count": 3,
   "id": "05a2584a",
   "metadata": {},
   "outputs": [
    {
     "name": "stdout",
     "output_type": "stream",
     "text": [
      "Person[42] is 0.1\n"
     ]
    }
   ],
   "source": [
    "person = Person('John', 54)\n",
    "person.name = 42\n",
    "person.age = .1\n",
    "print(person)"
   ]
  },
  {
   "cell_type": "markdown",
   "id": "0de190ea",
   "metadata": {},
   "source": [
    "Of course it's bizarre but the idea is there they can be accessed from the code. \n",
    "\n",
    "If we want to treat age and name as private to the object we prefix the attribute names with an underbar as below:"
   ]
  },
  {
   "cell_type": "code",
   "execution_count": null,
   "id": "8123ffdd",
   "metadata": {},
   "outputs": [],
   "source": [
    "class Person:\n",
    "    def __init__(self, name, age):\n",
    "        self._name = name #The underbar indicates is private\n",
    "        self._age = age   #The same as above\n",
    "        \n",
    "    def __str__(self):\n",
    "        return 'Person[' + str(self._name) + '] is ' + str(self._age)\n"
   ]
  },
  {
   "cell_type": "markdown",
   "id": "1f1348b3",
   "metadata": {},
   "source": [
    "But *this is only a convention* in fact, a very strong convention used in the community of Python programmers. Because of that, we still can access to that attributes from the code (but we must not)"
   ]
  },
  {
   "cell_type": "markdown",
   "id": "8b3e63c6",
   "metadata": {},
   "source": [
    "## Setter and Getter style methods"
   ]
  },
  {
   "cell_type": "markdown",
   "id": "adf89871",
   "metadata": {},
   "source": [
    "How should we now get hold of a Person's name and age in an acceptable way? The developer should provide *getter* methods and *setter* methods that can be used to access the values. For example:"
   ]
  },
  {
   "cell_type": "code",
   "execution_count": 28,
   "id": "8b98d0ae",
   "metadata": {},
   "outputs": [],
   "source": [
    "class Person:\n",
    "    def __init__(self, name, age):\n",
    "        self._name = name #Private\n",
    "        self._age = age   #Private\n",
    "    \n",
    "    #Getter method\n",
    "    def get_age(self):\n",
    "        return self._age\n",
    "    \n",
    "    #Setter method\n",
    "    def set_age(self, new_age):\n",
    "        if isinstance(new_age, int) and new_age > 0 and new_age<120:\n",
    "            self._age = new_age\n",
    "    \n",
    "    #Getter method\n",
    "    def get_name(self):\n",
    "        return self._name\n",
    "    \n",
    "     \n",
    "    def __str__(self):\n",
    "        return 'Person[' + str(self._name) + '] is ' + str(self._age)\n"
   ]
  },
  {
   "cell_type": "markdown",
   "id": "4bad620a",
   "metadata": {},
   "source": [
    "Now we can get the age and name of the person, also set the name of the person and the contional ensures that the age is positive and less than 120"
   ]
  },
  {
   "cell_type": "code",
   "execution_count": 29,
   "id": "3fd1cc02",
   "metadata": {},
   "outputs": [],
   "source": [
    "person = Person('John', 53)"
   ]
  },
  {
   "cell_type": "code",
   "execution_count": 30,
   "id": "277500ca",
   "metadata": {},
   "outputs": [
    {
     "data": {
      "text/plain": [
       "53"
      ]
     },
     "execution_count": 30,
     "metadata": {},
     "output_type": "execute_result"
    }
   ],
   "source": [
    "person.get_age()"
   ]
  },
  {
   "cell_type": "code",
   "execution_count": 31,
   "id": "07375bbf",
   "metadata": {},
   "outputs": [
    {
     "data": {
      "text/plain": [
       "'John'"
      ]
     },
     "execution_count": 31,
     "metadata": {},
     "output_type": "execute_result"
    }
   ],
   "source": [
    "person.get_name()"
   ]
  },
  {
   "cell_type": "code",
   "execution_count": 32,
   "id": "7566ff47",
   "metadata": {},
   "outputs": [],
   "source": [
    "person.set_age(21)"
   ]
  },
  {
   "cell_type": "code",
   "execution_count": 33,
   "id": "d7b4a0c9",
   "metadata": {},
   "outputs": [
    {
     "name": "stdout",
     "output_type": "stream",
     "text": [
      "Person[John] is 21\n"
     ]
    }
   ],
   "source": [
    "print(person)"
   ]
  },
  {
   "cell_type": "markdown",
   "id": "3e5ed024",
   "metadata": {},
   "source": [
    "If we set a negative age or an age greater than 120 the programm will simply ignore it (but we should have an Error)"
   ]
  },
  {
   "cell_type": "code",
   "execution_count": 36,
   "id": "79cb31bb",
   "metadata": {},
   "outputs": [],
   "source": [
    "person.set_age(-1)"
   ]
  },
  {
   "cell_type": "code",
   "execution_count": 37,
   "id": "eb0260ae",
   "metadata": {},
   "outputs": [
    {
     "data": {
      "text/plain": [
       "21"
      ]
     },
     "execution_count": 37,
     "metadata": {},
     "output_type": "execute_result"
    }
   ],
   "source": [
    "person.get_age()"
   ]
  },
  {
   "cell_type": "markdown",
   "id": "45c1e3fa",
   "metadata": {},
   "source": [
    "Let's note that there's no setter for name, because we want to make the \\_name attribute a *read only* attribute."
   ]
  },
  {
   "cell_type": "markdown",
   "id": "b7953c8c",
   "metadata": {},
   "source": [
    "## Public interface to properties"
   ]
  },
  {
   "cell_type": "markdown",
   "id": "ea76b6e6",
   "metadata": {},
   "source": [
    "What we have now is the following"
   ]
  },
  {
   "cell_type": "code",
   "execution_count": null,
   "id": "a8f5e71d",
   "metadata": {},
   "outputs": [],
   "source": [
    "#Do not run\n",
    "person = Person('John', 21)\n",
    "person\n",
    "person.get_age()\n",
    "person.ger_name()"
   ]
  },
  {
   "cell_type": "markdown",
   "id": "79288d2a",
   "metadata": {},
   "source": [
    "Great! We have more code and is verbose and the parenthesis!\n",
    "\n",
    "To get aroun this we have the Properties in python. The idea is to have a line of code in the class that told Python that you wantes to provide a new property and that specific methods were to be used to set and get the values of this perperty.\n",
    "\n",
    "SIntax\n",
    "\n",
    "\\<property name\\> = property (fget=None, fset=None, fdel=None, doc=None)\n",
    "\n",
    "                              getter     setter     delete     documentation\n",
    "                              \n",
    " Now let's apply this to our Person class. Now age is a property"
   ]
  },
  {
   "cell_type": "code",
   "execution_count": 41,
   "id": "252c77aa",
   "metadata": {},
   "outputs": [],
   "source": [
    "class Person:\n",
    "    def __init__(self, name, age):\n",
    "        self._name = name #Private\n",
    "        self._age = age   #Private\n",
    "    \n",
    "    #Getter method\n",
    "    def get_age(self):\n",
    "        return self._age\n",
    "    \n",
    "    #Setter method\n",
    "    def set_age(self, new_age):\n",
    "        if isinstance(new_age, int) and new_age > 0 and new_age<120:\n",
    "            self._age = new_age\n",
    "    \n",
    "    #Property of age\n",
    "    age = property(get_age, set_age, doc=\"An age property\")\n",
    "    \n",
    "    #Getter method\n",
    "    def get_name(self):\n",
    "        return self._name\n",
    "    \n",
    "    #Property of name\n",
    "    name = property(get_name, doc=\"A name property\")\n",
    "    \n",
    "     \n",
    "    def __str__(self):\n",
    "        return 'Person[' + str(self._name) + '] is ' + str(self._age)\n"
   ]
  },
  {
   "cell_type": "code",
   "execution_count": 42,
   "id": "85f5bd43",
   "metadata": {},
   "outputs": [
    {
     "name": "stdout",
     "output_type": "stream",
     "text": [
      "Person[John] is 54\n",
      "54\n",
      "John\n",
      "Person[John] is 21\n"
     ]
    }
   ],
   "source": [
    "person = Person('John', 54)\n",
    "print(person)\n",
    "print(person.age)\n",
    "print(person.name)\n",
    "person.age = 21\n",
    "print(person)"
   ]
  },
  {
   "cell_type": "markdown",
   "id": "fdfaef70",
   "metadata": {},
   "source": [
    "person.age access to the property age in the method get_age()\n",
    "person.age=21 access to the property age in the method set_age().\n",
    "\n",
    "In the context of properties it is clear that name is a *read only* property (because we've not defines fset neither fdel in property). \n",
    "\n",
    "For a deleting method we can write (inside the class)"
   ]
  },
  {
   "cell_type": "code",
   "execution_count": null,
   "id": "592604ef",
   "metadata": {},
   "outputs": [],
   "source": [
    "def del_name(self):\n",
    "    del self._name\n",
    "\n",
    "name = property(get_name, fdel = del_name, doc=\"A name property\")"
   ]
  },
  {
   "cell_type": "markdown",
   "id": "8d5c828d",
   "metadata": {},
   "source": [
    "## More concise property definitions"
   ]
  },
  {
   "cell_type": "markdown",
   "id": "6d600f36",
   "metadata": {},
   "source": [
    "Despite of the use of properties, it is still quite verbose.\n",
    "\n",
    "We can use a more concise option called **Decorators** which represent meta data, that is information about your code that the Python interpreter can use to work out what you whant to do with certain things. \n",
    "\n",
    "We have decorators such as @property, @\\<property-name>.setter and @\\<property-name>.deleter. These are added at the start of a method definition to indicate that the method should be used to provide access to a property (and define that property), define a setter for the property or a deleter for the property. \n",
    "\n",
    "Now let's update the class Person with decorators:"
   ]
  },
  {
   "cell_type": "code",
   "execution_count": 58,
   "id": "ec6f684a",
   "metadata": {},
   "outputs": [],
   "source": [
    "class Person:\n",
    "    def __init__(self, name, age):\n",
    "        self._name = name\n",
    "        self._age = age\n",
    "    \n",
    "    @property  #We define the age property\n",
    "    def age(self):\n",
    "        \"\"\"Docstring for the age property\"\"\"   #This is the docstring of the age property\n",
    "        print(\"In age method\")\n",
    "        return self._age  \n",
    "    \n",
    "    @age.setter    #This is the setter for the age property.\n",
    "    def age(self, value):\n",
    "        print(\"In set_age method\")\n",
    "        if isinstance(value,int) and value > 0 and value < 120:\n",
    "            self._age = value\n",
    "    \n",
    "    @property   #The same for name\n",
    "    def name(self):\n",
    "        print(\"In name\")\n",
    "        return self._name\n",
    "    \n",
    "    @name.deleter  #This is the deleter for the age property\n",
    "    def name(self):\n",
    "        del self._name\n",
    "    \n",
    "    def __str__(self):\n",
    "        return 'Person[' + str(self._name) + '] is ' + str(self._age)\n",
    "        "
   ]
  },
  {
   "cell_type": "markdown",
   "id": "839557bf",
   "metadata": {},
   "source": [
    "Now we don't need to define set_age or get_age because the decoator already indicates that function. \n",
    "\n",
    "@property: define the name of the property (in this case age and name)  and to define further decorators which will be named after the property with a .setter or .deleter. \n",
    "\n",
    "The docstring is in inside the method after @property decorator"
   ]
  },
  {
   "cell_type": "code",
   "execution_count": 59,
   "id": "791d3a5c",
   "metadata": {},
   "outputs": [
    {
     "name": "stdout",
     "output_type": "stream",
     "text": [
      "Person[Hugo] is 21\n"
     ]
    }
   ],
   "source": [
    "person = Person(\"Hugo\", 21)\n",
    "print(person)"
   ]
  },
  {
   "cell_type": "code",
   "execution_count": 60,
   "id": "07fb92b7",
   "metadata": {},
   "outputs": [
    {
     "name": "stdout",
     "output_type": "stream",
     "text": [
      "In age method\n",
      "21\n",
      "In set_age method\n",
      "In age method\n",
      "30\n"
     ]
    }
   ],
   "source": [
    "print(person.age)\n",
    "person.age = 30\n",
    "print(person.age)\n",
    "\n"
   ]
  },
  {
   "cell_type": "code",
   "execution_count": 62,
   "id": "77bdc24e",
   "metadata": {},
   "outputs": [
    {
     "name": "stdout",
     "output_type": "stream",
     "text": [
      "In name\n"
     ]
    },
    {
     "data": {
      "text/plain": [
       "'Hugo'"
      ]
     },
     "execution_count": 62,
     "metadata": {},
     "output_type": "execute_result"
    }
   ],
   "source": [
    "person.name\n"
   ]
  },
  {
   "cell_type": "code",
   "execution_count": 65,
   "id": "45fbaabd",
   "metadata": {},
   "outputs": [],
   "source": []
  },
  {
   "cell_type": "code",
   "execution_count": 66,
   "id": "44628ed1",
   "metadata": {},
   "outputs": [
    {
     "ename": "AttributeError",
     "evalue": "'Person' object has no attribute '_name'",
     "output_type": "error",
     "traceback": [
      "\u001b[1;31m---------------------------------------------------------------------------\u001b[0m",
      "\u001b[1;31mAttributeError\u001b[0m                            Traceback (most recent call last)",
      "Input \u001b[1;32mIn [66]\u001b[0m, in \u001b[0;36m<cell line: 1>\u001b[1;34m()\u001b[0m\n\u001b[1;32m----> 1\u001b[0m \u001b[38;5;28;43mprint\u001b[39;49m\u001b[43m(\u001b[49m\u001b[43mperson\u001b[49m\u001b[43m)\u001b[49m\n",
      "Input \u001b[1;32mIn [58]\u001b[0m, in \u001b[0;36mPerson.__str__\u001b[1;34m(self)\u001b[0m\n\u001b[0;32m     27\u001b[0m \u001b[38;5;28;01mdef\u001b[39;00m \u001b[38;5;21m__str__\u001b[39m(\u001b[38;5;28mself\u001b[39m):\n\u001b[1;32m---> 28\u001b[0m     \u001b[38;5;28;01mreturn\u001b[39;00m \u001b[38;5;124m'\u001b[39m\u001b[38;5;124mPerson[\u001b[39m\u001b[38;5;124m'\u001b[39m \u001b[38;5;241m+\u001b[39m \u001b[38;5;28mstr\u001b[39m(\u001b[38;5;28;43mself\u001b[39;49m\u001b[38;5;241;43m.\u001b[39;49m\u001b[43m_name\u001b[49m) \u001b[38;5;241m+\u001b[39m \u001b[38;5;124m'\u001b[39m\u001b[38;5;124m] is \u001b[39m\u001b[38;5;124m'\u001b[39m \u001b[38;5;241m+\u001b[39m \u001b[38;5;28mstr\u001b[39m(\u001b[38;5;28mself\u001b[39m\u001b[38;5;241m.\u001b[39m_age)\n",
      "\u001b[1;31mAttributeError\u001b[0m: 'Person' object has no attribute '_name'"
     ]
    }
   ],
   "source": []
  },
  {
   "cell_type": "code",
   "execution_count": null,
   "id": "d83b7f5b",
   "metadata": {},
   "outputs": [],
   "source": []
  }
 ],
 "metadata": {
  "kernelspec": {
   "display_name": "Python 3 (ipykernel)",
   "language": "python",
   "name": "python3"
  },
  "language_info": {
   "codemirror_mode": {
    "name": "ipython",
    "version": 3
   },
   "file_extension": ".py",
   "mimetype": "text/x-python",
   "name": "python",
   "nbconvert_exporter": "python",
   "pygments_lexer": "ipython3",
   "version": "3.11.2"
  }
 },
 "nbformat": 4,
 "nbformat_minor": 5
}
