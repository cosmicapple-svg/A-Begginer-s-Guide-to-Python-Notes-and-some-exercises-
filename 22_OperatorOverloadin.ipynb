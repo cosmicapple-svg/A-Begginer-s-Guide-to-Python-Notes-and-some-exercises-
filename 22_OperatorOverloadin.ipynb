{
 "cells": [
  {
   "cell_type": "markdown",
   "id": "52ad7e43",
   "metadata": {},
   "source": [
    "# Operator overloading"
   ]
  },
  {
   "cell_type": "markdown",
   "id": "1478033f",
   "metadata": {},
   "source": [
    "Operator overloading allows user defined classes to appear to have a natural way of using operators such as +,-, <, >, or == as well as logical operators. \n",
    "\n",
    "It feels more natural for both developers and those reading the code. An alternative is to define method such as add().\n",
    "\n",
    "However, operator overloading is not always useful and it could be abused. For example, what does it mean the next lines:"
   ]
  },
  {
   "cell_type": "code",
   "execution_count": null,
   "id": "344800d3",
   "metadata": {},
   "outputs": [],
   "source": [
    "#Do not run this cell \n",
    "p1 = Person(\"John\")\n",
    "p2 = Person(\"Denise\")\n",
    "p3 = p1 + p2"
   ]
  },
  {
   "cell_type": "markdown",
   "id": "d84ee93d",
   "metadata": {},
   "source": [
    "What implies '+' in this code? As you can see this operator does not makes sense for the clas Person and it is one of the cares that one have to take while implementing operator overloading."
   ]
  },
  {
   "cell_type": "markdown",
   "id": "dc0834ff",
   "metadata": {},
   "source": [
    "### Implementing operator overloading"
   ]
  },
  {
   "cell_type": "markdown",
   "id": "eff78f0c",
   "metadata": {},
   "source": [
    "To implement operators such as '+' in a user defined class it is necessary to implement specific methods that are then mapped to the arithmetic or logical operator used by users of the class. \n",
    "\n",
    "These methods are considered *special*  (stars and ends with '\\_\\_')and private and usually restricted for Python oriented implementations."
   ]
  },
  {
   "cell_type": "markdown",
   "id": "f852adbe",
   "metadata": {},
   "source": [
    "For exampel, let's define a class Quantity and to implement '+' and '-' we need to provide two special methods. "
   ]
  },
  {
   "cell_type": "code",
   "execution_count": 6,
   "id": "a57b1841",
   "metadata": {},
   "outputs": [],
   "source": [
    "class Quantity:\n",
    "    def __init__(self, value=0):\n",
    "        self.value=value\n",
    "    \n",
    "    def __add__(self, other):                     #The special method for using '+'\n",
    "        new_value = self.value + other.value\n",
    "        return Quantity(new_value)\n",
    "        \n",
    "    def __sub__(self, other):                     #The special method for using '-'\n",
    "        new_value = self.value - other.value\n",
    "        return Quantity(new_value)\n",
    "\n",
    "    def __str__(self):\n",
    "        return 'Quantity['+ str(self.value)+']'"
   ]
  },
  {
   "cell_type": "code",
   "execution_count": 10,
   "id": "5ea73949",
   "metadata": {},
   "outputs": [
    {
     "name": "stdout",
     "output_type": "stream",
     "text": [
      "Quantity[15]\n"
     ]
    }
   ],
   "source": [
    "#Now let's try if the operators work\n",
    "\n",
    "q1 = Quantity(5)\n",
    "q2 = Quantity(10)\n",
    "q3 = q1+q2\n",
    "\n",
    "print(q3)"
   ]
  },
  {
   "cell_type": "markdown",
   "id": "ada09a57",
   "metadata": {},
   "source": [
    "# Exercises"
   ]
  },
  {
   "cell_type": "code",
   "execution_count": null,
   "id": "2220af31",
   "metadata": {},
   "outputs": [],
   "source": [
    "class Distance:\n",
    "    \n",
    "    def __init__(self, dis):\n",
    "        self.dis = dis\n",
    "    \n",
    "    def __AddDistance__(self, other):\n",
    "        new_distance = self.dis + other.dis\n",
    "        return Distance(new_distance)\n",
    "    \n",
    "    def __SubDistance__(self, other):\n",
    "        new_distance = self.dis + other.dis\n",
    "        return Distance(new_distance)\n",
    "    \n",
    "    def_"
   ]
  }
 ],
 "metadata": {
  "kernelspec": {
   "display_name": "Python 3 (ipykernel)",
   "language": "python",
   "name": "python3"
  },
  "language_info": {
   "codemirror_mode": {
    "name": "ipython",
    "version": 3
   },
   "file_extension": ".py",
   "mimetype": "text/x-python",
   "name": "python",
   "nbconvert_exporter": "python",
   "pygments_lexer": "ipython3",
   "version": "3.10.4"
  }
 },
 "nbformat": 4,
 "nbformat_minor": 5
}
