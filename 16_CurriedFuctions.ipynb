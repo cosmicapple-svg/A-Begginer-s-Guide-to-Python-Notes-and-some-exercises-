{
 "cells": [
  {
   "cell_type": "markdown",
   "id": "b7ee49fb",
   "metadata": {},
   "source": [
    "# Curried functions"
   ]
  },
  {
   "cell_type": "markdown",
   "id": "dbc221ad",
   "metadata": {},
   "source": [
    "This technique  allows to create new functions from existing functions by 'binding' one or more parameter to a specific value. This is a great advantage in the reusability of functions. "
   ]
  },
  {
   "cell_type": "markdown",
   "id": "1ac794b4",
   "metadata": {},
   "source": [
    "## Python and curried functions"
   ]
  },
  {
   "cell_type": "markdown",
   "id": "d8d8406a",
   "metadata": {},
   "source": [
    "A curried function in PYthon is a function where one or more of its parameter have been *applied* or *bound* to a value, resulting in the creation of a new function with one fewer parameter than the original.\n",
    "\n",
    "For example,a function that multiplies two numbers:\n"
   ]
  },
  {
   "cell_type": "code",
   "execution_count": 5,
   "id": "2e43e9e6",
   "metadata": {},
   "outputs": [
    {
     "name": "stdout",
     "output_type": "stream",
     "text": [
      "10\n",
      "36\n"
     ]
    }
   ],
   "source": [
    "def multiply(a, b):\n",
    "    return a*b\n",
    "\n",
    "print( multiply(2, 5))\n",
    "print( multiply(12, 3))"
   ]
  },
  {
   "cell_type": "markdown",
   "id": "c5aeb7c8",
   "metadata": {},
   "source": [
    "We could now define a new method that takes a function and a number and returns a new (anonymous) function that takes one *new* parameter and calls the function passed in with the number passed in and the new parameter: "
   ]
  },
  {
   "cell_type": "code",
   "execution_count": 10,
   "id": "d5a378c5",
   "metadata": {},
   "outputs": [
    {
     "data": {
      "text/plain": [
       "6"
      ]
     },
     "execution_count": 10,
     "metadata": {},
     "output_type": "execute_result"
    }
   ],
   "source": [
    "def multby(func, num):\n",
    "    return lambda y: func(num, y)\n",
    "#In this function we 'bound' the input and fix it to the aplication to the new func, then we declare a new variable y\n",
    "\n",
    "#This allows us to define, for example, a function that doubles the input with the before declares multiply() function. \n",
    "double = multby(multiply, 2)\n",
    "\n",
    "double(2)\n",
    "\n",
    "#And we can do this for triplying numbers\n",
    "\n",
    "triple = multby(multiply, 3)\n",
    "triple(2)\n",
    " "
   ]
  },
  {
   "cell_type": "markdown",
   "id": "05fd98ef",
   "metadata": {},
   "source": [
    "In fact we can bind more than one parameter, allowing us a great flexibility.\n",
    "\n",
    "Curried functions are therefore very useful for creting new functions from existing functions. "
   ]
  },
  {
   "cell_type": "markdown",
   "id": "31c2086b",
   "metadata": {},
   "source": [
    "## Closures"
   ]
  },
  {
   "cell_type": "markdown",
   "id": "36f66b92",
   "metadata": {},
   "source": [
    "What happens when a function references some data that is in scope where it is defined but is no longer available when it is evaluated? This arises the concept of *closure*.\n",
    "\n",
    "A closure (or function closure) is a function (or more strictly a reference to a function) together with a referencing environment.\n",
    "\n",
    "This referencing environment records the context within which the function was originally defined and if necessary, a reference to each of the non-local varailes used by that function. These non-local or free variables allow the function body to refernce variables that are external to the function, but which are utilised by that function. \n",
    "\n",
    "A closure allows a function to reference a variable available in the scope where the function was originally defined, but not available by default in the scope where it is executed. \n",
    "\n",
    "For example:"
   ]
  },
  {
   "cell_type": "code",
   "execution_count": 13,
   "id": "88eced0c",
   "metadata": {},
   "outputs": [
    {
     "name": "stdout",
     "output_type": "stream",
     "text": [
      "110\n",
      "60\n"
     ]
    }
   ],
   "source": [
    "more = 100\n",
    "\n",
    "def increase(num):\n",
    "    return num+more\n",
    "\n",
    "print(increase(10))\n",
    "more =  50\n",
    "print(increase(10))"
   ]
  },
  {
   "cell_type": "markdown",
   "id": "4fb2aacd",
   "metadata": {},
   "source": [
    "Note that it is the *current* value of more that is being used when the function executes and not the value of more present at the point that the function was defined. "
   ]
  },
  {
   "cell_type": "code",
   "execution_count": 3,
   "id": "5df7763c",
   "metadata": {},
   "outputs": [
    {
     "name": "stdout",
     "output_type": "stream",
     "text": [
      "6\n",
      "55\n"
     ]
    }
   ],
   "source": [
    "def increment(num):\n",
    "    return num+1\n",
    "\n",
    "def reset_function():\n",
    "    global increment\n",
    "    addition=50\n",
    "    increment = lambda num: num + addition\n",
    "    \n",
    "print(increment(5))\n",
    "reset_function()\n",
    "print(increment(5))"
   ]
  }
 ],
 "metadata": {
  "kernelspec": {
   "display_name": "Python 3 (ipykernel)",
   "language": "python",
   "name": "python3"
  },
  "language_info": {
   "codemirror_mode": {
    "name": "ipython",
    "version": 3
   },
   "file_extension": ".py",
   "mimetype": "text/x-python",
   "name": "python",
   "nbconvert_exporter": "python",
   "pygments_lexer": "ipython3",
   "version": "3.10.4"
  }
 },
 "nbformat": 4,
 "nbformat_minor": 5
}
