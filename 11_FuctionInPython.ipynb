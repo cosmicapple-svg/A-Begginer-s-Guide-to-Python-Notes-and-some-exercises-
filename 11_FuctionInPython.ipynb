{
 "cells": [
  {
   "cell_type": "markdown",
   "id": "20a42636",
   "metadata": {},
   "source": [
    "# Functions in python"
   ]
  },
  {
   "cell_type": "markdown",
   "id": "146d45ab",
   "metadata": {},
   "source": [
    "*Function:* groups of related statements that can be called together usually they perform a specific task."
   ]
  },
  {
   "cell_type": "markdown",
   "id": "d6043452",
   "metadata": {},
   "source": [
    "## How functions work"
   ]
  },
  {
   "cell_type": "markdown",
   "id": "31aa3070",
   "metadata": {},
   "source": [
    "When a funciton is called the flow of control of a program jumps from where the function was called to the pount where the function was defined. The body of the functio is then executed before control returns back to where it was called from. \n",
    "\n",
    "TThe functios do not overwrite values because they are stored away (called *stack*).\n"
   ]
  },
  {
   "cell_type": "markdown",
   "id": "1cfa1e2a",
   "metadata": {},
   "source": [
    "## Types of functions"
   ]
  },
  {
   "cell_type": "markdown",
   "id": "e941ab3b",
   "metadata": {},
   "source": [
    "* *Built-in functions:* provided by the language. \n",
    "* *User-defined functions:* writen by developers. "
   ]
  },
  {
   "cell_type": "markdown",
   "id": "118485ca",
   "metadata": {},
   "source": [
    "## Defining functions"
   ]
  },
  {
   "cell_type": "code",
   "execution_count": null,
   "id": "d899b077",
   "metadata": {},
   "outputs": [],
   "source": [
    "def function_name(parameterlist):\n",
    "    \"\"\"Docstring \"\"\"\n",
    "    #statement ()\n",
    "    "
   ]
  },
  {
   "cell_type": "markdown",
   "id": "841ab570",
   "metadata": {},
   "source": [
    "This  is the basic syntax for defining a function\n",
    "\n",
    "The *\"\"\"Docstring\"\"\"* is a brief documentation of how the function works. \n"
   ]
  },
  {
   "cell_type": "code",
   "execution_count": 2,
   "id": "f117e506",
   "metadata": {},
   "outputs": [
    {
     "name": "stdout",
     "output_type": "stream",
     "text": [
      "Hello World!!\n"
     ]
    }
   ],
   "source": [
    "def print_msg():\n",
    "    \"\"\"\n",
    "    This function prints a lovely message \n",
    "    \"\"\"\n",
    "    print(\"Hello World!!\")\n",
    "\n",
    "print_msg()"
   ]
  },
  {
   "cell_type": "markdown",
   "id": "e845c5d7",
   "metadata": {},
   "source": [
    "Using the round brackets () indicates we are calling the function itself, but if we do not include the round brackes we are calling the location in memory where the function is stored. "
   ]
  },
  {
   "cell_type": "markdown",
   "id": "63af3e05",
   "metadata": {},
   "source": [
    "### Docstring"
   ]
  },
  {
   "cell_type": "markdown",
   "id": "a553f36c",
   "metadata": {},
   "source": [
    "As functions become more complex ad may have multiple parameters, the documetatio provided ca ecome more important. It is a guidance for the user. \n",
    "\n",
    "To read the docstrig we can use *__doc__* \n"
   ]
  },
  {
   "cell_type": "code",
   "execution_count": 3,
   "id": "1f3546af",
   "metadata": {},
   "outputs": [
    {
     "name": "stdout",
     "output_type": "stream",
     "text": [
      "\n",
      "    This function prints a lovely message \n",
      "    \n"
     ]
    }
   ],
   "source": [
    "print(print_msg.__doc__)"
   ]
  },
  {
   "cell_type": "markdown",
   "id": "8a8a3baa",
   "metadata": {},
   "source": [
    "## Fuction parameters"
   ]
  },
  {
   "cell_type": "markdown",
   "id": "f1b8bd4b",
   "metadata": {},
   "source": [
    "It is worth to distinguish between the terms of *parameter* and *argument*.\n",
    "\n",
    "* **Parameter:** variable defined as part of the function header and is used to make data available withi the function itself. \n",
    "\n",
    "* **Argument:** actual value or data passed into the function when it is called. The data will be held within the parameters. "
   ]
  },
  {
   "cell_type": "markdown",
   "id": "137b1d9c",
   "metadata": {},
   "source": [
    "### Default parameter values"
   ]
  },
  {
   "cell_type": "markdown",
   "id": "be21f2ff",
   "metadata": {},
   "source": [
    "The default parameter are useful when they might not be used in most cases. All we need is to declare that value. \n",
    "\n",
    "For example: our next default parameter will be \"User\""
   ]
  },
  {
   "cell_type": "code",
   "execution_count": 8,
   "id": "7c1a6bfc",
   "metadata": {},
   "outputs": [
    {
     "name": "stdout",
     "output_type": "stream",
     "text": [
      "Hallo!!!, willkommen User\n",
      "Hallo!!!, willkommen Sir\n"
     ]
    }
   ],
   "source": [
    "def message(name=\"User\"):\n",
    "    print(\"Hallo!!!, willkommen\", name)\n",
    "\n",
    "message()\n",
    "message('Sir')"
   ]
  },
  {
   "cell_type": "markdown",
   "id": "edacd146",
   "metadata": {},
   "source": [
    "In the first line the default parameter is used, in the second we specify a value for this default parameter and the function uses it instead of the default value. \n"
   ]
  },
  {
   "cell_type": "markdown",
   "id": "7e4c891f",
   "metadata": {},
   "source": [
    "When a function has several parameters, some with default values it may become impossible to rely on usking the position of a value to ensure it is given to the correct parameter. \n",
    "\n",
    "We can use the *named* or *keyword* arguments to solve this, simply providing the name of the parameter, so that the order of the arguments is no longer relevant. "
   ]
  },
  {
   "cell_type": "code",
   "execution_count": 10,
   "id": "c6fc102c",
   "metadata": {},
   "outputs": [
    {
     "name": "stdout",
     "output_type": "stream",
     "text": [
      "Welcome Dr Java - Python is the shit\n"
     ]
    }
   ],
   "source": [
    "def greeter(name, title=\"Dr\", prompt =\"Welcome\", message = \"live long and prosper\"):\n",
    "    print(prompt, title, name, '-', message)\n",
    "    \n",
    "greeter(message= 'Python is the shit', name=\"Java\")"
   ]
  },
  {
   "cell_type": "markdown",
   "id": "07e337b9",
   "metadata": {},
   "source": [
    "You cannot place positional arguments after a named argument. "
   ]
  },
  {
   "cell_type": "markdown",
   "id": "e68bee2d",
   "metadata": {},
   "source": [
    "### Arbitrary arguments"
   ]
  },
  {
   "cell_type": "markdown",
   "id": "475bdbc6",
   "metadata": {},
   "source": [
    "There are cases where we don't know how many arguments will be supplied when a function is called, in this case we can pass an arbitrary number of arguments into a function and thenn process those arguments inside the function.\n"
   ]
  },
  {
   "cell_type": "code",
   "execution_count": 11,
   "id": "4be0ae12",
   "metadata": {},
   "outputs": [
    {
     "name": "stdout",
     "output_type": "stream",
     "text": [
      "Welcome John\n",
      "Welcome Denise\n",
      "Welcome Phoee\n",
      "Welcome Adam\n"
     ]
    }
   ],
   "source": [
    "def greeter(*args):\n",
    "    for name in args:\n",
    "        print('Welcome', name)\n",
    "        \n",
    "greeter('John', 'Denise', 'Phoee', 'Adam')"
   ]
  },
  {
   "cell_type": "markdown",
   "id": "a6d695f9",
   "metadata": {},
   "source": [
    "### Positional and keyword arguments"
   ]
  },
  {
   "cell_type": "markdown",
   "id": "fa9eaa50",
   "metadata": {},
   "source": [
    "Some functions are define such that the arguments to the methods can either be provided using a variable number of a positional or keyword argumets. Such functions have two arguments * args and * * kwargs (for positional arguments and keyword arguments).\n",
    "\n",
    "They are useful if you don't know exactly how many of either positoin or keyword arguments are going to be provided. \n"
   ]
  },
  {
   "cell_type": "code",
   "execution_count": 16,
   "id": "8b25483c",
   "metadata": {},
   "outputs": [],
   "source": [
    "def my_function(*args, **kwargs):\n",
    "    for arg in args:\n",
    "        print('arg:', arg)\n",
    "    for key in kwargs.keys():\n",
    "        print('key:', key, 'has value: ', kwargs[key])\n",
    "\n",
    "    "
   ]
  },
  {
   "cell_type": "code",
   "execution_count": 17,
   "id": "2aa6d75c",
   "metadata": {},
   "outputs": [
    {
     "name": "stdout",
     "output_type": "stream",
     "text": [
      "arg: John\n",
      "arg: Denise\n",
      "key: daughter has value:  Phoebe\n",
      "key: son has value:  Adam\n"
     ]
    }
   ],
   "source": [
    "my_function('John', 'Denise', daughter='Phoebe', son='Adam')"
   ]
  },
  {
   "cell_type": "markdown",
   "id": "d75fd98a",
   "metadata": {},
   "source": [
    "Note that the keywords used for the arguments are not fixed."
   ]
  },
  {
   "cell_type": "markdown",
   "id": "4699f8d9",
   "metadata": {},
   "source": []
  }
 ],
 "metadata": {
  "kernelspec": {
   "display_name": "Python 3 (ipykernel)",
   "language": "python",
   "name": "python3"
  },
  "language_info": {
   "codemirror_mode": {
    "name": "ipython",
    "version": 3
   },
   "file_extension": ".py",
   "mimetype": "text/x-python",
   "name": "python",
   "nbconvert_exporter": "python",
   "pygments_lexer": "ipython3",
   "version": "3.10.4"
  }
 },
 "nbformat": 4,
 "nbformat_minor": 5
}
