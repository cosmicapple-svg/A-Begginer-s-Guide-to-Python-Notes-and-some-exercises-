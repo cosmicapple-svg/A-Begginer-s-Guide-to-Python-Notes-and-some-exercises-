{
 "cells": [
  {
   "cell_type": "markdown",
   "id": "f19c4a15-a6fb-4d73-b091-968977ad7798",
   "metadata": {},
   "source": [
    "# Abstract base classes"
   ]
  },
  {
   "cell_type": "markdown",
   "id": "d28e3780-ff2f-4cea-95ec-c096021f9f52",
   "metadata": {},
   "source": [
    "Is a class that you cannot instantate and that  is expected to be extended by one or mores subclassed. "
   ]
  },
  {
   "cell_type": "markdown",
   "id": "3228a2cd-56d5-492d-b110-fa3862fd64b5",
   "metadata": {},
   "source": [
    " ## Abstract classes as a concept\n"
   ]
  },
  {
   "cell_type": "markdown",
   "id": "e0619307-2be4-4728-a3a2-eeaac6943f2f",
   "metadata": {},
   "source": [
    "It is a class from which you cannot create an object. It is missin one or more elements required to be a fully functioning object. \n",
    "\n",
    "We might do that because we can group together elements which are to be shared amongst a number of subclasses, without providig a complete implementation. In addition, you can force subclasses to provide specific methods ensuring that implementers of a subclass at leas supply appropiately named methods. \n",
    "\n",
    "So we ca use abstact classes to\n",
    "\n",
    "* specify data or behaviour common to a set of classes, but insufficient for a single instance. \n",
    "\n",
    "* force subclasses to provide specific behaviour. \n",
    "\n",
    "\n"
   ]
  },
  {
   "cell_type": "markdown",
   "id": "cd7aeddc-b9ce-49a0-aff6-880219f8e5bd",
   "metadata": {},
   "source": [
    "## Abstract Base classes in python"
   ]
  },
  {
   "cell_type": "markdown",
   "id": "a06afb2f-2d60-4139-9079-e6677cc4f503",
   "metadata": {},
   "source": [
    "The ABCs cannot be instantiated themselvess but can be extended by subclasses. Which can be themselves ABCs or concrete classes. \n",
    "\n",
    "They can be used to define generic (potential abstract) behaviour that can be mixed into othe Python classes and acs as an abstract  root of class hierarchy.\n",
    "\n",
    "ABC's can have:\n",
    "\n",
    "* Zero or more abstract methods or properties (but not required)\n",
    "\n",
    "* Zero or more concrete methods and properties (but not requiered)\n",
    "\n",
    "* Both private and protected attributes.\n",
    "\n",
    "\n",
    "Some built-in ABCs in Python are:\n",
    "\n",
    "* data structures (collection module)\n",
    "* numbers module\n",
    "* streams (io module)\n",
    "\n",
    "\n"
   ]
  },
  {
   "cell_type": "code",
   "execution_count": null,
   "id": "24317820-76f5-4105-be70-f405a9939ba8",
   "metadata": {},
   "outputs": [],
   "source": []
  }
 ],
 "metadata": {
  "kernelspec": {
   "display_name": "Python 3 (ipykernel)",
   "language": "python",
   "name": "python3"
  },
  "language_info": {
   "codemirror_mode": {
    "name": "ipython",
    "version": 3
   },
   "file_extension": ".py",
   "mimetype": "text/x-python",
   "name": "python",
   "nbconvert_exporter": "python",
   "pygments_lexer": "ipython3",
   "version": "3.10.4"
  }
 },
 "nbformat": 4,
 "nbformat_minor": 5
}
