{
 "cells": [
  {
   "cell_type": "markdown",
   "id": "cc3bd70c",
   "metadata": {},
   "source": [
    "# Introduction to Functional Programming"
   ]
  },
  {
   "cell_type": "markdown",
   "id": "0409cd44",
   "metadata": {},
   "source": [
    "Functional programming is  a software coding style or approach and is separate from the concepto f a function in Python.\n"
   ]
  },
  {
   "cell_type": "markdown",
   "id": "84366293",
   "metadata": {},
   "source": [
    "## What is functional programming?"
   ]
  },
  {
   "cell_type": "markdown",
   "id": "6fc86867",
   "metadata": {},
   "source": [
    "From Wikipedia:\n",
    "\n",
    "*\" Is a programming paradigm, a style of building the structure and elements of computer programs, that treats computation as the evaluation of mathematical functions and avoid state and mutable data.\"*\n",
    "\n",
    "Considering that the functions only rely on their inputs to generate a new(s) output. They do not generate any *side effects* and do not depend on the *current state* of the program. An example of side effect is the dependence of some global variable in a function and this variable is changing in other function. "
   ]
  },
  {
   "cell_type": "markdown",
   "id": "bba711d5",
   "metadata": {},
   "source": [
    "1. **Aims to avoid side effects.** A function should be replaceable by taking the data it receives ad in lining the result generated (referential transparency). Pure functios have the following attributes:\n",
    "    * The only observable output is the return value.\n",
    "    * The only output dependency are arguments.\n",
    "    * Arguments are fully determined before any output is generated. \n",
    "\n",
    "2. **Avoids concepts such a state.**  If some operation is dependent upon the (potentially hidden) state of the program or some element of a program, then its behaviour may differ depending upon that state. As functions should not rely on ay given state (only upo the data they are given) they should as a resuldt e easier to understannd, implement, test and debug. \n",
    "\n",
    "3. **Promotes immutable data.** Mutable data is data that can change its state, immutability indicates that once created, data cannot be changed. Many developers take this further having a presumption of immutability in their code; that means that by default all data holding type are implementes as immutable. THis ensures that functions cannot have hidden side effects and thus simplifues programming in general.\n",
    " \n",
    "4. **Promotes declarative programming.** Means that programming is oriented around expressinos that describe the solution rather than focus on the imperative approach pof most procedural programming languages, this languages emaphasise aspects of how the solution is derived. \n",
    "\n",
    "\n",
    "Python provides some support for writing in the functional style. \n",
    "\n",
    "\n",
    "\n",
    "**Imperative programming:** is the 'traditional programming', the style of C, C++, Java, etc. The programmer tells the computer what to do. It is thus orientes around control statements, loopinc constructs and assignments. \n",
    "\n",
    "**Functional programming:** aims to describe the solution, that is *what* the program needs to do (rather than *how* it should be done).\n"
   ]
  },
  {
   "cell_type": "markdown",
   "id": "aac7a79d",
   "metadata": {},
   "source": [
    "## Advantages to functional programming"
   ]
  },
  {
   "cell_type": "markdown",
   "id": "1f0e5240",
   "metadata": {},
   "source": [
    "1. **Less code.** The less code to write, the less code to understand and mantain. Functional programms are more elegant, easiert to read, to update and to mantain. This yields an enhaced programmer productivity. \n",
    "\n",
    "2. **Lack of (hidden) side effects (Referential Transparency).** Because the functions only depends on the input and we only carry on the outputs, it is safe to reuse the functions and is easier to develop, test and mantain them.  \n",
    "\n",
    "3. **Recursion is a natural control structure.** Recursion   \n",
    "\n",
    "4. **Good for prototyping solutions**\n",
    "\n",
    "5. **Modular functionality**\n",
    "\n",
    "6. **The avoidance of state-based behaviour**\n",
    "\n",
    "7. **Addtional control structures**\n",
    "\n",
    "8.**Concurrency and mmutable data**\n",
    "\n",
    "9.**Partial evaluation**"
   ]
  },
  {
   "cell_type": "markdown",
   "id": "7747641e",
   "metadata": {},
   "source": [
    "## Disadvantages of functional programming"
   ]
  },
  {
   "cell_type": "markdown",
   "id": "9516531e",
   "metadata": {},
   "source": [
    "* **Input-Output is harder in a purely functional language.**\n",
    "\n",
    "* **Interactive applications are harder to develop.**\n",
    "\n",
    "* **Continuously running programs. **\n",
    "\n",
    "* **Functional programming languages have tended to be less efficient on current hardware platforms.**\n",
    "\n",
    "* **Not data oriented.**\n",
    "\n",
    "* **Programmers are less familiar.**\n",
    "\n",
    "* **Functioal programming languages are often less intuitive.**\n"
   ]
  },
  {
   "cell_type": "markdown",
   "id": "d1f10459",
   "metadata": {},
   "source": [
    "## Referential transparency"
   ]
  },
  {
   "cell_type": "markdown",
   "id": "06607a5b",
   "metadata": {},
   "source": [
    "An operationn is said to be *referentially transparent* if it can be replaced with its corresponding value, without changing the programs behaviour, for a given set of parameters.\n",
    "\n",
    "For example:"
   ]
  },
  {
   "cell_type": "code",
   "execution_count": 1,
   "id": "12ba900a",
   "metadata": {},
   "outputs": [],
   "source": [
    "def increment(num):\n",
    "    return num+1"
   ]
  },
  {
   "cell_type": "code",
   "execution_count": 2,
   "id": "7a02ec71",
   "metadata": {},
   "outputs": [
    {
     "name": "stdout",
     "output_type": "stream",
     "text": [
      "6\n",
      "6\n"
     ]
    }
   ],
   "source": [
    "print(increment(5))\n",
    "print(increment(5))"
   ]
  },
  {
   "cell_type": "markdown",
   "id": "6de8751f",
   "metadata": {},
   "source": [
    "We can say that the function is referentially transparent if it always returns the same result for the same value. In this"
   ]
  },
  {
   "cell_type": "markdown",
   "id": "90c7c5ef",
   "metadata": {},
   "source": [
    "Any function that references a value which has been captured from its surrounding context and which can be modified cannot be guaranteed to be referentially transparent, for example:"
   ]
  },
  {
   "cell_type": "code",
   "execution_count": 1,
   "id": "55acf090",
   "metadata": {},
   "outputs": [
    {
     "name": "stdout",
     "output_type": "stream",
     "text": [
      "6\n",
      "7\n"
     ]
    }
   ],
   "source": [
    "amount = 1\n",
    "\n",
    "def increment(num):\n",
    "    return num + amount\n",
    "\n",
    "print(increment(5))\n",
    "amount = 2\n",
    "print(increment(5))"
   ]
  },
  {
   "cell_type": "markdown",
   "id": "3f8799e8",
   "metadata": {},
   "source": [
    "A closely related idea is that of *no side effects*. That is, a function should not have any side effects, it should base its operation purely o the values it receives. "
   ]
  },
  {
   "cell_type": "code",
   "execution_count": null,
   "id": "82cfb4bd",
   "metadata": {},
   "outputs": [],
   "source": []
  },
  {
   "cell_type": "code",
   "execution_count": null,
   "id": "96d4fc93",
   "metadata": {},
   "outputs": [],
   "source": []
  }
 ],
 "metadata": {
  "kernelspec": {
   "display_name": "Python 3 (ipykernel)",
   "language": "python",
   "name": "python3"
  },
  "language_info": {
   "codemirror_mode": {
    "name": "ipython",
    "version": 3
   },
   "file_extension": ".py",
   "mimetype": "text/x-python",
   "name": "python",
   "nbconvert_exporter": "python",
   "pygments_lexer": "ipython3",
   "version": "3.10.4"
  }
 },
 "nbformat": 4,
 "nbformat_minor": 5
}
