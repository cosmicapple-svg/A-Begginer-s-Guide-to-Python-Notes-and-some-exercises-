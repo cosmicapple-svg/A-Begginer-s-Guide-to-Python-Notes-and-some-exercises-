{
 "cells": [
  {
   "cell_type": "markdown",
   "id": "94170c23",
   "metadata": {},
   "source": [
    "# Class side and static behaviour"
   ]
  },
  {
   "cell_type": "markdown",
   "id": "c7f32958",
   "metadata": {},
   "source": [
    "Python classes can hold data and behaviour that is not part of an instance or object; instead they are part of the class. "
   ]
  },
  {
   "cell_type": "code",
   "execution_count": null,
   "id": "3ae580aa",
   "metadata": {},
   "outputs": [],
   "source": []
  },
  {
   "cell_type": "code",
   "execution_count": null,
   "id": "12e3509f",
   "metadata": {},
   "outputs": [],
   "source": []
  },
  {
   "cell_type": "markdown",
   "id": "219f6bf5",
   "metadata": {
    "jp-MarkdownHeadingCollapsed": true,
    "tags": []
   },
   "source": [
    "## Class side data"
   ]
  },
  {
   "cell_type": "markdown",
   "id": "3f84961c",
   "metadata": {},
   "source": [
    "Classes can also have attributes, we call them *class variables or attributes*.\n",
    "\n",
    "Those are the variables defined whitin the scope of the class but outside of any method, they are tied to the class rather to an any instance. "
   ]
  },
  {
   "cell_type": "code",
   "execution_count": 5,
   "id": "ad8e02ef",
   "metadata": {},
   "outputs": [],
   "source": [
    "class Person:\n",
    "    \"\"\"An example class to hold a persons name and age\"\"\"\n",
    "    \n",
    "    instance_count = 0  #This is a class variable\n",
    "    def __init__(self, name, age):\n",
    "        Person.instace_count += 1\n",
    "        self.name = name\n",
    "        self.age = age\n",
    "\n",
    "        "
   ]
  },
  {
   "cell_type": "code",
   "execution_count": 6,
   "id": "6ef82ed0",
   "metadata": {
    "scrolled": true
   },
   "outputs": [
    {
     "name": "stdout",
     "output_type": "stream",
     "text": [
      "4\n"
     ]
    }
   ],
   "source": [
    "p1 = Person('Jason', 36)\n",
    "p2 = Person('Carol', 21)\n",
    "p3 = Person('James', 19)\n",
    "p4 = Person('Tom', 31)\n",
    "print(Person.instance_count)"
   ]
  },
  {
   "cell_type": "markdown",
   "id": "5f757d47",
   "metadata": {},
   "source": [
    "## Class side methods"
   ]
  },
  {
   "cell_type": "markdown",
   "id": "df2fbaae",
   "metadata": {},
   "source": [
    "It is also possible to define behaviour that is linked to the class rather than an individual object; this behaviour is defined in a *class method*. \n",
    "\n",
    "They are written in the same way of the object methods, but *decorated* with **@classmethod**,  and take a first parameter which represents the class rather than an individual instance. "
   ]
  },
  {
   "cell_type": "code",
   "execution_count": null,
   "id": "a6c40f3b",
   "metadata": {},
   "outputs": [],
   "source": [
    "class Person:\n",
    "    \"\"\"An example class to hold a persons name and age\"\"\"\n",
    "    \n",
    "    instance_count = 0  #This is a class variable\n",
    "    @classmethod  #This is a class method\n",
    "    def increment_instance_count(cls):\n",
    "        cls.instance_count += 1\n",
    "    \n",
    "    \n",
    "    def __init__(self, name, age):\n",
    "        Person.increment_instace_count += 1\n",
    "        self.name = name\n",
    "        self.age = age"
   ]
  },
  {
   "cell_type": "markdown",
   "id": "7ad0a82b",
   "metadata": {},
   "source": [
    "In this case, the class method increments the *instance_count* variable instead de object method. The argument *cls* represents the class itself. We access the class method with the dot notation. "
   ]
  },
  {
   "cell_type": "markdown",
   "id": "c9738875",
   "metadata": {},
   "source": [
    "### Why class-side methods?"
   ]
  },
  {
   "cell_type": "markdown",
   "id": "bce2e3ff",
   "metadata": {},
   "source": [
    "Class-side method should only perform one of the following roles:\n",
    "\n",
    "* *Instance creation*.\n",
    "\n",
    "* *Answering equiries about the class*.\n",
    "\n",
    "* *Instance manangement*.\n",
    "\n",
    "* *Examples*\n",
    "\n",
    "* *Testing*\n",
    "\n",
    "* Support"
   ]
  },
  {
   "cell_type": "markdown",
   "id": "35761774",
   "metadata": {},
   "source": [
    "## Static methods"
   ]
  },
  {
   "cell_type": "markdown",
   "id": "22ffba04",
   "metadata": {},
   "source": [
    "Static method are defined within a class but are not tied to either the class nor any instance of the class; they do not receive the special first parameter representing either the class (cls) or the instances (self).\n",
    "\n",
    "\n",
    "They are the same as *free standing functions* but they are define within a class often for convenience or to provide a way to group such functions together. \n",
    "\n",
    "A static method is a method that is decorater with the @staticmethod decorator. For exmaple:"
   ]
  },
  {
   "cell_type": "code",
   "execution_count": 7,
   "id": "a3410e83",
   "metadata": {},
   "outputs": [],
   "source": [
    "class Person:\n",
    "    \n",
    "    @staticmethod\n",
    "    def static_function():\n",
    "        print('static method')"
   ]
  },
  {
   "cell_type": "code",
   "execution_count": 8,
   "id": "88279109",
   "metadata": {},
   "outputs": [
    {
     "name": "stdout",
     "output_type": "stream",
     "text": [
      "static method\n"
     ]
    }
   ],
   "source": [
    "Person.static_function()"
   ]
  },
  {
   "cell_type": "markdown",
   "id": "f3b9e0fd",
   "metadata": {},
   "source": [
    "# Exercises"
   ]
  },
  {
   "cell_type": "code",
   "execution_count": 1,
   "id": "eebeb553",
   "metadata": {},
   "outputs": [],
   "source": [
    "class Account:\n",
    "    def __init__(self, num, name, opbal, typeacc):\n",
    "        self.num = num\n",
    "        self.name = name\n",
    "        self.opbal = opbal\n",
    "        self.typeacc = typeacc\n",
    "        Account.increment_instance_count()\n",
    "    \n",
    "    def __str__(self):\n",
    "        return \"Account[\"+self.num+\"] - \" + self.name + \", \"+ self.typeacc+\" account = \" + str(self.opbal) \n",
    "    \n",
    "    def deposit(self, amount):\n",
    "        self.opbal += amount\n",
    "        \n",
    "    def withdraw(self, amount):\n",
    "        self.opbal -= amount\n",
    "    \n",
    "    def get_balance(self):\n",
    "        print('balance:',  self.opbal )\n",
    "        \n",
    "    instance_count = 0  #This is a class variable\n",
    "    @classmethod  #This is a class method\n",
    "    def increment_instance_count(cls):\n",
    "        cls.instance_count += 1\n",
    "        print(\"New Account created! (#\", cls.instance_count,\")\")\n",
    "        \n",
    "        "
   ]
  },
  {
   "cell_type": "code",
   "execution_count": 2,
   "id": "257eee26",
   "metadata": {},
   "outputs": [
    {
     "name": "stdout",
     "output_type": "stream",
     "text": [
      "New Account created! (# 1 )\n"
     ]
    }
   ],
   "source": [
    "acc1 = Account('123', 'John', 10.05, 'current')\n"
   ]
  },
  {
   "cell_type": "code",
   "execution_count": null,
   "id": "1d6be241",
   "metadata": {},
   "outputs": [],
   "source": []
  }
 ],
 "metadata": {
  "kernelspec": {
   "display_name": "Python 3 (ipykernel)",
   "language": "python",
   "name": "python3"
  },
  "language_info": {
   "codemirror_mode": {
    "name": "ipython",
    "version": 3
   },
   "file_extension": ".py",
   "mimetype": "text/x-python",
   "name": "python",
   "nbconvert_exporter": "python",
   "pygments_lexer": "ipython3",
   "version": "3.11.2"
  }
 },
 "nbformat": 4,
 "nbformat_minor": 5
}
