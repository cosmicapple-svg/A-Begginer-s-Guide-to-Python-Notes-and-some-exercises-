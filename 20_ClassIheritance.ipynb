{
 "cells": [
  {
   "cell_type": "markdown",
   "id": "30731497",
   "metadata": {},
   "source": [
    "# Class inheritance"
   ]
  },
  {
   "cell_type": "markdown",
   "id": "6f4a4737",
   "metadata": {},
   "source": [
    "This feature allow one class to *inherit* data or behaviour from another class."
   ]
  },
  {
   "cell_type": "markdown",
   "id": "7987a37e",
   "metadata": {},
   "source": [
    "## What is Inheritance?"
   ]
  },
  {
   "cell_type": "markdown",
   "id": "38e3d5d1",
   "metadata": {},
   "source": [
    "The idea is that we can *inherent* and reuse features from one class to the definition of other class. For example, a class with **name** and **age** but we have other class with a completely different context, but we also need this atributes, we can reuse them. \n",
    "\n",
    "This is a very common practice in programming, define something once and reuse it when required. "
   ]
  },
  {
   "cell_type": "markdown",
   "id": "907b7159",
   "metadata": {},
   "source": [
    "For example, a class that is extending a parent class has the following sintax"
   ]
  },
  {
   "cell_type": "code",
   "execution_count": null,
   "id": "4ea32982",
   "metadata": {},
   "outputs": [],
   "source": [
    "class SubClassName(BaseClassName):\n",
    "    class_body\n",
    "    "
   ]
  },
  {
   "cell_type": "markdown",
   "id": "3f1b47da",
   "metadata": {},
   "source": [
    "The parent class is specified as the 'argument' in the child class."
   ]
  },
  {
   "cell_type": "markdown",
   "id": "e90a121f",
   "metadata": {},
   "source": [
    "For example a Person (parent) class and a Employee (child) class:"
   ]
  },
  {
   "cell_type": "code",
   "execution_count": 9,
   "id": "355e8b1a",
   "metadata": {},
   "outputs": [],
   "source": [
    "class Person:\n",
    "    def __init__(self, name, age):\n",
    "        self.name = name\n",
    "        self.age = age\n",
    "    \n",
    "    def __str__(self):\n",
    "        return self.name + ' is ' + str(self.age) \n",
    "\n",
    "    def birthday(self):\n",
    "        print('Happy birthday you were', self.age)\n",
    "        self.age += 1\n",
    "        print('You are now', self.age)"
   ]
  },
  {
   "cell_type": "markdown",
   "id": "515b05f0",
   "metadata": {},
   "source": [
    "And now we define a subclass of Person called Empoyee:"
   ]
  },
  {
   "cell_type": "code",
   "execution_count": 6,
   "id": "b693993e",
   "metadata": {},
   "outputs": [],
   "source": [
    "class Employee(Person): #TEhis means that Employee is a subclass (or inheritate) the class PErson3\n",
    "    def __init__(self, name, age, id):   #Initializacion as always\n",
    "        super().__init__(name, age)      #We reference the initializacion from Person with this line\n",
    "        self.id = id    \n",
    "        \n",
    "    def calculate_pay(self, hours_worked):\n",
    "        rate_of_pay = 7.50\n",
    "        if self.age >= 21:\n",
    "            rate_of_pay += 2.50\n",
    "        \n",
    "        return hours_worked * rate_of_pay"
   ]
  },
  {
   "cell_type": "markdown",
   "id": "73a501c1",
   "metadata": {},
   "source": [
    "Even further, we can define a subclass of the Employee subclass:"
   ]
  },
  {
   "cell_type": "code",
   "execution_count": 7,
   "id": "a50a45fc",
   "metadata": {},
   "outputs": [],
   "source": [
    "class SalesPerson(Employee):\n",
    "    def __init__(self, name, age, id, region, sales):\n",
    "        super().__init__(name, age, id)  #Initializacion of Employee\n",
    "        self.region = region\n",
    "        self.sales = sales\n",
    "    \n",
    "    def bonus(self):\n",
    "        return self.sales * 0.5"
   ]
  },
  {
   "cell_type": "markdown",
   "id": "a1fc091f",
   "metadata": {},
   "source": [
    "Now, the class SalesPerson() has id (inheritance from Employee), name and age (inheritance from Employee that are inheritated from Person) and its own region and sales. SalesPerson also inherit the behaviour from Employee (calculate_pay) and from Person (birthday) and have its own behaviour (bonus)."
   ]
  },
  {
   "cell_type": "markdown",
   "id": "8fddad44",
   "metadata": {},
   "source": [
    "And how this works?"
   ]
  },
  {
   "cell_type": "code",
   "execution_count": 10,
   "id": "47aae621",
   "metadata": {},
   "outputs": [
    {
     "name": "stdout",
     "output_type": "stream",
     "text": [
      "Person\n",
      "John is 54\n"
     ]
    }
   ],
   "source": [
    "print('Person')\n",
    "p = Person('John', 54)\n",
    "print(p)\n"
   ]
  },
  {
   "cell_type": "code",
   "execution_count": 11,
   "id": "9c6a0e7d",
   "metadata": {},
   "outputs": [
    {
     "name": "stdout",
     "output_type": "stream",
     "text": [
      "Employee\n",
      "Happy birthday you were 51\n",
      "You are now 52\n",
      "e.calculate_pay(40): 400.0\n"
     ]
    }
   ],
   "source": [
    "print(\"Employee\")\n",
    "e = Employee('Denise', 51, 7468)\n",
    "e.birthday() #We are using a method from Person not from EMployee\n",
    "print('e.calculate_pay(40):', e.calculate_pay(40))\n"
   ]
  },
  {
   "cell_type": "code",
   "execution_count": 12,
   "id": "8c1ed957",
   "metadata": {},
   "outputs": [
    {
     "name": "stdout",
     "output_type": "stream",
     "text": [
      "SalesPerson\n",
      "Happy birthday you were 21\n",
      "You are now 22\n",
      "s.calculate_pay(40): 400.0\n",
      "s.bonus(): 15000.0\n"
     ]
    }
   ],
   "source": [
    "print(\"SalesPerson\")\n",
    "s = SalesPerson('Phoebe', 21, 4712, 'UK', 30000.0)\n",
    "s.birthday() #From Person\n",
    "print('s.calculate_pay(40):', s.calculate_pay(40)) #From Employee\n",
    "print('s.bonus():', s.bonus()) #From itself\n"
   ]
  },
  {
   "cell_type": "markdown",
   "id": "ae0b2f91",
   "metadata": {},
   "source": [
    "## Terminology around inheritance"
   ]
  },
  {
   "cell_type": "markdown",
   "id": "98574a29",
   "metadata": {},
   "source": [
    "* *Class.* Defines a combination of data and procedures that operate on the data.\n",
    "\n",
    "* *Subclass.* Is a class that inherits from another class. Of course, they are classes on their own rights, any class can have any number of subclasses.\n",
    "\n",
    "* *Superclass.* Is the parent of a class, the one from wich the current class inherits. In Python, a class can have any number of superclasses. \n",
    "* *Single or multiple inheritance.*  The number of super classes from which a class can inherit. Java is single inheritance system, Python is multiple inheritance system. "
   ]
  },
  {
   "cell_type": "markdown",
   "id": "844dabcf",
   "metadata": {},
   "source": [
    "### Types or hierarchy"
   ]
  },
  {
   "cell_type": "markdown",
   "id": "f48e7170",
   "metadata": {},
   "source": [
    "1. **Inheritance.** Whether single or multiple, the way  in which one class inherits from a superclass. \n",
    "\n",
    "2. **Instantiation.** Instances or objects rather than classes. Two types of instance relationships:\n",
    "    * *part-of:* \n",
    "    * *is-a:*"
   ]
  },
  {
   "cell_type": "markdown",
   "id": "f5c78078",
   "metadata": {},
   "source": [
    "![Jaja](PartOfIsA.png)\n",
    "\n",
    "The difference between them is ilustrated above, a Student *is-a* Person, a Student can't be *part-of* a Person. Similar with the Car and Engine. "
   ]
  },
  {
   "cell_type": "markdown",
   "id": "091b7139",
   "metadata": {},
   "source": [
    "The inheritance is done with the *sub-classing* procedure while the part-of relationships are implemented using instance attributes in Python.\n",
    "\n",
    "There is a lot of confussion with classes, inheritance and is-a relationships, \n",
    "\n",
    "![jsjs](Confussion.png)\n"
   ]
  },
  {
   "cell_type": "markdown",
   "id": "b649fd32",
   "metadata": {},
   "source": [
    "In English (also in Spanish) we say that an Employee *is a* type of Person or that Andrew *is a* Person; both are semantically correct. However, in Python classes such as Employee and Person and an object such as Andrew are different things. *We can distinguish between the different types of relationships by being more precise about our definitions in terms of a programming language*."
   ]
  },
  {
   "cell_type": "markdown",
   "id": "be1e5042",
   "metadata": {},
   "source": [
    "## The class object and inheritance"
   ]
  },
  {
   "cell_type": "markdown",
   "id": "87d60810",
   "metadata": {},
   "source": [
    "**Every class in Python extends one or more superclasses**, this is true even for the next class:"
   ]
  },
  {
   "cell_type": "code",
   "execution_count": 13,
   "id": "fe3a9783",
   "metadata": {},
   "outputs": [],
   "source": [
    "class Person:\n",
    "    def __init__(self, name, age):\n",
    "        self.name = name \n",
    "        self.age = age\n",
    "    "
   ]
  },
  {
   "cell_type": "markdown",
   "id": "5ebb1616",
   "metadata": {},
   "source": [
    "This is because if you do not specify a superclass explicity Python automatically add in the class object as a parent class. The last class and the following is exactly the same:"
   ]
  },
  {
   "cell_type": "code",
   "execution_count": 14,
   "id": "db5ecbd0",
   "metadata": {},
   "outputs": [],
   "source": [
    "class Person(object):\n",
    "    def __init__(self, name, age):\n",
    "        self.name=name\n",
    "        self.age=age\n",
    "        "
   ]
  },
  {
   "cell_type": "markdown",
   "id": "2f1d4a77",
   "metadata": {},
   "source": [
    "## The Built-in Object class"
   ]
  },
  {
   "cell_type": "markdown",
   "id": "47edba96",
   "metadata": {},
   "source": [
    "According to the before explained, the class object is the base class for all classes in Python. From it we take the methods that are available in all Python  objects and also the intrinsic attributes:\n",
    "\n",
    "Methods:\n",
    "    \\_\\_str\\_\\_()\n",
    "    \n",
    "    \\_\\_init()\\_\\_\n",
    "    \n",
    "    \\_\\_eq\\_\\_ ()\n",
    "\n",
    "Attributes:\n",
    "    \\_\\_class\\_\\_\n",
    "    \\_\\_dict\\_\\_\n",
    "    \\_\\_doc\\_\\_\n",
    "    \\_\\_module\\_\\_"
   ]
  },
  {
   "cell_type": "markdown",
   "id": "2f683868",
   "metadata": {},
   "source": [
    "## Purpose of subclasses"
   ]
  },
  {
   "cell_type": "markdown",
   "id": "b5a83633",
   "metadata": {},
   "source": [
    "Subclassesa refine the behaviour and data structures of a superclass. \n",
    "\n",
    "A subclass should modify the behaviour of its parent class or extend the data held by its parent class. This modification should refine the class in one or more of these ways:\n",
    " \n",
    " * Changes to the external protocol or interface of the class.\n",
    " * Changes in the implementation of the methods.\n",
    " * Additional behaviour that references inherited behaviour. \n",
    " \n",
    " \n",
    " If a subclass does not provide one or more of the above, then it is incorrectly placed\n",
    " "
   ]
  },
  {
   "cell_type": "markdown",
   "id": "bd6673a6",
   "metadata": {},
   "source": [
    "## Overriding methods"
   ]
  },
  {
   "cell_type": "markdown",
   "id": "8d82e49a",
   "metadata": {},
   "source": [
    "**Overriding** occurs when a method is defined in a class (for example, Person) and also in one of its subclasses. \n",
    "\n",
    "For example, let us assume taht we define the method \\_\\_str\\_\\_() in these classes:"
   ]
  },
  {
   "cell_type": "code",
   "execution_count": 15,
   "id": "459ba3ba",
   "metadata": {},
   "outputs": [],
   "source": [
    "class Person:\n",
    "    def __init__(self, name, age):\n",
    "        self.name = name\n",
    "        self.age = age\n",
    "    \n",
    "    def __str__(self):\n",
    "        return self.name + ' is ' + str(self.age) "
   ]
  },
  {
   "cell_type": "code",
   "execution_count": 22,
   "id": "881419cc",
   "metadata": {},
   "outputs": [],
   "source": [
    "class Employee(Person): #TEhis means that Employee is a subclass (or inheritate) the class PErson3\n",
    "    def __init__(self, name, age, id):   #Initializacion as always\n",
    "        super().__init__(name, age)      #We reference the initializacion from Person with this line\n",
    "        self.id = id    \n",
    "    \n",
    "    def __str__(self):\n",
    "        return self.name + ' is ' + str(self.age) + ' - id' + '(' +str(self.id) + ')'"
   ]
  },
  {
   "cell_type": "markdown",
   "id": "f16cb0d0",
   "metadata": {},
   "source": [
    "Instances of these classes will both be convertible to a string but the version uses by Employeed will differ from taht used with Person."
   ]
  },
  {
   "cell_type": "code",
   "execution_count": 23,
   "id": "965161ea",
   "metadata": {},
   "outputs": [
    {
     "name": "stdout",
     "output_type": "stream",
     "text": [
      "John is 54\n",
      "Denise is 51 - id(1234)\n"
     ]
    }
   ],
   "source": [
    "p = Person('John', 54)\n",
    "print(p)\n",
    "e = Employee('Denise', 51, 1234)\n",
    "print(e)"
   ]
  },
  {
   "cell_type": "markdown",
   "id": "bd3ae46d",
   "metadata": {},
   "source": [
    "The Employee class prints the name, age and id of the Employee, while the Person class only prints the name and age"
   ]
  },
  {
   "cell_type": "markdown",
   "id": "4682cef0",
   "metadata": {},
   "source": [
    "## Extending superclass method"
   ]
  },
  {
   "cell_type": "markdown",
   "id": "82ef2a5a",
   "metadata": {},
   "source": [
    "In the last section we duplicated the code to print the data converting them into strings. We can avoid this with the parent class' method from within the child class version "
   ]
  },
  {
   "cell_type": "code",
   "execution_count": 24,
   "id": "e3278ee7",
   "metadata": {},
   "outputs": [],
   "source": [
    "class Person:\n",
    "    def __init__(self, name, age):\n",
    "        self.name = name\n",
    "        self.age = age\n",
    "    \n",
    "    def __str__(self):\n",
    "        return self.name + ' is ' + str(self.age)\n",
    "\n",
    "\n",
    "class Employee(Person):\n",
    "    def __init__(self, name, age, id):\n",
    "        super().__init__(name, age)\n",
    "        self.id = id\n",
    "\n",
    "    def __str__(self):\n",
    "        return super().__str__() + '-id(' + str(self.id) + ')' #Wecall from the super class"
   ]
  },
  {
   "cell_type": "code",
   "execution_count": 25,
   "id": "f7be795b",
   "metadata": {},
   "outputs": [
    {
     "name": "stdout",
     "output_type": "stream",
     "text": [
      "John is 54\n",
      "Denise is 51-id(1234)\n"
     ]
    }
   ],
   "source": [
    "p = Person('John', 54)\n",
    "print(p)\n",
    "e = Employee('Denise', 51, 1234)\n",
    "print(e)"
   ]
  },
  {
   "cell_type": "markdown",
   "id": "8d60117f",
   "metadata": {},
   "source": [
    "## Inheritance oriented naming conventions"
   ]
  },
  {
   "cell_type": "markdown",
   "id": "bdd9fe19",
   "metadata": {},
   "source": [
    "In the programming community, there are certain conventions for python classes and inheritance:"
   ]
  },
  {
   "cell_type": "markdown",
   "id": "38eb0ff2",
   "metadata": {},
   "source": [
    "* *Single underbar convention.* Methods accesed via *self* whose names start with a single underbar are considered to be *protected* i.e. they are private to the class but can be accessed from any subclass.\n",
    "\n",
    "* *Double underbar convention.* Methods accesed via *self* whose names start with a double underbar should be cosidered *private* to that class ad should not be called from outside of the class. Private means private to the class and only to that class. "
   ]
  },
  {
   "cell_type": "markdown",
   "id": "e3a6c7db",
   "metadata": {},
   "source": [
    "## Python and Multiple Inheritance"
   ]
  },
  {
   "cell_type": "markdown",
   "id": "577b2c93",
   "metadata": {},
   "source": [
    "Python allows a class to inherit from one or more classes. The syntax is simple, we just separate by comas just as if they were arguments. \n",
    "\n",
    "class SubClassName(BaseClassName1,  BaseClassName2, ...)\n",
    "    body\n",
    "   "
   ]
  },
  {
   "cell_type": "code",
   "execution_count": 4,
   "id": "f2fd0bd3",
   "metadata": {},
   "outputs": [],
   "source": [
    "class Car:\n",
    "    def move(self):\n",
    "        print('Car-move()')\n",
    "\n",
    "class Toy:\n",
    "    def move(self):\n",
    "        print('Toy -  move()')\n",
    "\n",
    "class ToyCar(Car, Toy):\n",
    "    \"\"\"A toy car\"\"\""
   ]
  },
  {
   "cell_type": "markdown",
   "id": "7e7bb87d",
   "metadata": {},
   "source": [
    "It is a challenge to manage the multiple inheritance. "
   ]
  },
  {
   "cell_type": "code",
   "execution_count": 5,
   "id": "249ef660",
   "metadata": {},
   "outputs": [
    {
     "name": "stdout",
     "output_type": "stream",
     "text": [
      "Car-move()\n"
     ]
    }
   ],
   "source": [
    "tc = ToyCar()\n",
    "tc.move()"
   ]
  },
  {
   "cell_type": "code",
   "execution_count": 6,
   "id": "0d2e3157",
   "metadata": {},
   "outputs": [],
   "source": [
    "class ToyCar(Toy, Car):  #Now we change the order in the 'arguments'\n",
    "    \"A toy car\""
   ]
  },
  {
   "cell_type": "code",
   "execution_count": 8,
   "id": "4e486f10",
   "metadata": {},
   "outputs": [
    {
     "name": "stdout",
     "output_type": "stream",
     "text": [
      "Toy -  move()\n"
     ]
    }
   ],
   "source": [
    "tc=ToyCar()\n",
    "tc.move()"
   ]
  },
  {
   "cell_type": "markdown",
   "id": "b5b0e321",
   "metadata": {},
   "source": [
    "This shows that the order in which a class inherits from multiple classes *is significant* in Python. "
   ]
  },
  {
   "cell_type": "markdown",
   "id": "da45e4cd",
   "metadata": {},
   "source": [
    "## Multiple inheritance considered to be harmful."
   ]
  },
  {
   "cell_type": "code",
   "execution_count": null,
   "id": "29255e43",
   "metadata": {},
   "outputs": [],
   "source": []
  }
 ],
 "metadata": {
  "kernelspec": {
   "display_name": "Python 3 (ipykernel)",
   "language": "python",
   "name": "python3"
  },
  "language_info": {
   "codemirror_mode": {
    "name": "ipython",
    "version": 3
   },
   "file_extension": ".py",
   "mimetype": "text/x-python",
   "name": "python",
   "nbconvert_exporter": "python",
   "pygments_lexer": "ipython3",
   "version": "3.11.2"
  }
 },
 "nbformat": 4,
 "nbformat_minor": 5
}
