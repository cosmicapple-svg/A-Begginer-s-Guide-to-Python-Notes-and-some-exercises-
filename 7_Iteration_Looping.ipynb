{
 "cells": [
  {
   "cell_type": "markdown",
   "id": "d5741fa1",
   "metadata": {},
   "source": [
    "# 7 Iteration/Looping"
   ]
  },
  {
   "cell_type": "markdown",
   "id": "35220ca2",
   "metadata": {},
   "source": [
    "## 7.2 While loop"
   ]
  },
  {
   "cell_type": "code",
   "execution_count": 1,
   "id": "e0d04fb3",
   "metadata": {},
   "outputs": [
    {
     "name": "stdout",
     "output_type": "stream",
     "text": [
      "Starting\n",
      "0  1  2  3  4  5  6  7  8  9  \n",
      "Done\n"
     ]
    }
   ],
   "source": [
    "#You already know how to use the while loop, this is an example for refresh your mind. \n",
    "\n",
    "count = 0\n",
    "print('Starting')\n",
    "\n",
    "while count<10:\n",
    "    print(count, ' ', end='')\n",
    "    count += 1\n",
    "print()\n",
    "print('Done')"
   ]
  },
  {
   "cell_type": "markdown",
   "id": "daa0ace3",
   "metadata": {},
   "source": [
    "## 7.3 For loop"
   ]
  },
  {
   "cell_type": "code",
   "execution_count": 2,
   "id": "96e959a7",
   "metadata": {},
   "outputs": [
    {
     "name": "stdout",
     "output_type": "stream",
     "text": [
      "0  1  2  3  4  5  6  7  8  9  \n",
      "Done!\n"
     ]
    }
   ],
   "source": [
    "for i in range(0, 10):\n",
    "    print(i, ' ', end='')\n",
    "print()\n",
    "print('Done!')"
   ]
  },
  {
   "cell_type": "markdown",
   "id": "5658f70a",
   "metadata": {},
   "source": [
    "We can use an 'anonymous' variable in the *for* loop, this is useful in the case we want to iterate a certain number of times and not in the value of the loop counter. \n",
    "\n",
    "'_' -> This is the anonymous variable\n"
   ]
  },
  {
   "cell_type": "code",
   "execution_count": 3,
   "id": "f6844ef6",
   "metadata": {},
   "outputs": [
    {
     "name": "stdout",
     "output_type": "stream",
     "text": [
      "**********"
     ]
    }
   ],
   "source": [
    "for _ in range(10):\n",
    "    print('*',end='')"
   ]
  },
  {
   "cell_type": "markdown",
   "id": "41f35593",
   "metadata": {},
   "source": [
    "## 7.4 Break loop statement"
   ]
  },
  {
   "cell_type": "markdown",
   "id": "5f959ce8",
   "metadata": {},
   "source": [
    "The *break* terminates the current loop and jumps to the next line after the loop. \n"
   ]
  },
  {
   "cell_type": "code",
   "execution_count": 5,
   "id": "f85945bc",
   "metadata": {},
   "outputs": [
    {
     "name": "stdout",
     "output_type": "stream",
     "text": [
      "Only print code if all iterations completed\n",
      "Enter a number to check for: 10\n",
      "0  1  2  3  4  5  Done\n"
     ]
    }
   ],
   "source": [
    "print('Only print code if all iterations completed')\n",
    "num = int(input('Enter a number to check for: '))\n",
    "\n",
    "for i in range(0, 6):\n",
    "    if i==num: break\n",
    "    print(i, ' ', end='')\n",
    "\n",
    "print('Done')"
   ]
  },
  {
   "cell_type": "markdown",
   "id": "0e89b5a3",
   "metadata": {},
   "source": [
    "## 7.5 Continue loop statement"
   ]
  },
  {
   "cell_type": "markdown",
   "id": "fb79e6f6",
   "metadata": {},
   "source": [
    "It affects the *for* and *while* loops. Unlike the break statement, the *continue* statement do not terminate the whole loop, it only stops the current iteration and jump to the next one. This allow us to skip over a particular value of the iteration. "
   ]
  },
  {
   "cell_type": "code",
   "execution_count": 7,
   "id": "19c92868",
   "metadata": {},
   "outputs": [
    {
     "name": "stdout",
     "output_type": "stream",
     "text": [
      "0  Hey, it's an even number\n",
      "We love even numbers\n",
      "1  2  Hey, it's an even number\n",
      "We love even numbers\n",
      "3  4  Hey, it's an even number\n",
      "We love even numbers\n",
      "5  6  Hey, it's an even number\n",
      "We love even numbers\n",
      "7  8  Hey, it's an even number\n",
      "We love even numbers\n",
      "9  Done!\n"
     ]
    }
   ],
   "source": [
    "for i in range(0, 10):\n",
    "    print(i, ' ', end='')\n",
    "    if i%2==1: continue\n",
    "    print(\"Hey, it's an even number\")\n",
    "    print(\"We love even numbers\")\n",
    "print(\"Done!\")"
   ]
  },
  {
   "cell_type": "code",
   "execution_count": 10,
   "id": "e432632b",
   "metadata": {},
   "outputs": [
    {
     "data": {
      "text/plain": [
       "1"
      ]
     },
     "execution_count": 10,
     "metadata": {},
     "output_type": "execute_result"
    }
   ],
   "source": [
    "3%2"
   ]
  },
  {
   "cell_type": "markdown",
   "id": "b293f25d",
   "metadata": {},
   "source": [
    "## 7.6 For Loop with Else"
   ]
  },
  {
   "cell_type": "markdown",
   "id": "a899572d",
   "metadata": {},
   "source": [
    "The *for* loop can have an optional *else* block at the end. The *else* part is executed if and only if all items in the sequence are processed. The *else* part of the code is executed if the for loop is completed if not, it is not executed. "
   ]
  },
  {
   "cell_type": "code",
   "execution_count": 12,
   "id": "2f7b4ef1",
   "metadata": {},
   "outputs": [
    {
     "name": "stdout",
     "output_type": "stream",
     "text": [
      "Only print code if all iteration completed\n",
      "Enter a number to check for: 3\n",
      "0  1  2  "
     ]
    }
   ],
   "source": [
    "#Only print code if all iterations completed over a list\n",
    "\n",
    "print(\"Only print code if all iteration completed\")\n",
    "num = int(input(\"Enter a number to check for: \"))\n",
    "\n",
    "for i in range(0, 6):\n",
    "    if i==num: break\n",
    "    print(i,' ', end='')\n",
    "else: \n",
    "    print()\n",
    "    print(\"All iterations successful\")\n",
    "    "
   ]
  },
  {
   "cell_type": "markdown",
   "id": "6b033c30",
   "metadata": {},
   "source": [
    "## 7.8 Dice Roll Game"
   ]
  },
  {
   "cell_type": "markdown",
   "id": "69abb94e",
   "metadata": {},
   "source": [
    "In this game we will continuo to roll a pair of dice until the user indicates that they do not want to roll again. When this occurs, the *while* loop terminates."
   ]
  },
  {
   "cell_type": "code",
   "execution_count": 13,
   "id": "9f3badd3",
   "metadata": {},
   "outputs": [
    {
     "name": "stdout",
     "output_type": "stream",
     "text": [
      "Rolling the dices...\n",
      "The values are...\n",
      "3\n",
      "1\n",
      "Roll the dices again? (y/n):y\n",
      "Rolling the dices...\n",
      "The values are...\n",
      "4\n",
      "5\n",
      "Roll the dices again? (y/n):y\n",
      "Rolling the dices...\n",
      "The values are...\n",
      "6\n",
      "6\n",
      "Roll the dices again? (y/n):y\n",
      "Rolling the dices...\n",
      "The values are...\n",
      "4\n",
      "1\n",
      "Roll the dices again? (y/n):n\n"
     ]
    }
   ],
   "source": [
    "import random\n",
    "\n",
    "MIN = 1\n",
    "MAX = 6\n",
    "\n",
    "roll_again ='y'\n",
    "\n",
    "while roll_again == 'y':\n",
    "    print(\"Rolling the dices...\")\n",
    "    print(\"The values are...\")\n",
    "    dice1 = random.randint(MIN, MAX)\n",
    "    print(dice1)\n",
    "    dice2 = random.randint(MIN, MAX)\n",
    "    print(dice2)\n",
    "    roll_again = input(\"Roll the dices again? (y/n):\" )\n",
    "    "
   ]
  },
  {
   "cell_type": "markdown",
   "id": "6e737c36",
   "metadata": {},
   "source": [
    "## Exercise 7.1 Calculate the Factorial of a number"
   ]
  },
  {
   "cell_type": "code",
   "execution_count": 29,
   "id": "5e02afeb",
   "metadata": {},
   "outputs": [
    {
     "name": "stdout",
     "output_type": "stream",
     "text": [
      "Enter an positive integer number: 5\n",
      "5 ! =  120\n"
     ]
    }
   ],
   "source": [
    "num = int(input(\"Enter an positive integer number: \"))\n",
    "\n",
    "if str(num).isnumeric() == True:\n",
    "    fact=1\n",
    "    for i in range(1, num+1):\n",
    "        if num==0: \n",
    "            print(num,'! =', 1)\n",
    "            break\n",
    "        fact *= i\n",
    "    print(num, \"! = \", fact)\n",
    "        \n",
    "else:\n",
    "    print(\"We need a positive integer!\")\n"
   ]
  },
  {
   "cell_type": "markdown",
   "id": "1e57ce2c",
   "metadata": {},
   "source": [
    "## Exercise 7.2 Print all the prime numbers in a Range\n"
   ]
  },
  {
   "cell_type": "code",
   "execution_count": 48,
   "id": "0c8131bd",
   "metadata": {},
   "outputs": [
    {
     "name": "stdout",
     "output_type": "stream",
     "text": [
      "Enter a number: 10\n",
      "3\n",
      "10 isn't prime\n"
     ]
    }
   ],
   "source": [
    "num = int(input(\"Enter a number: \"))\n",
    "count=0\n",
    "for i in range(2, num+1):\n",
    "    if num%i ==0: count +=1\n",
    "    #print(num%i)\n",
    "print(count)\n",
    "if count==1:\n",
    "    print(num, \" is prime\")\n",
    "else:\n",
    "    print(num, \"isn't prime\")\n"
   ]
  },
  {
   "cell_type": "code",
   "execution_count": 59,
   "id": "fa5fb9ca",
   "metadata": {},
   "outputs": [
    {
     "name": "stdout",
     "output_type": "stream",
     "text": [
      "Enter a number: 50\n",
      "2 is prime\n",
      "3 is prime\n",
      "5 is prime\n",
      "7 is prime\n",
      "11 is prime\n",
      "13 is prime\n",
      "17 is prime\n",
      "19 is prime\n",
      "23 is prime\n",
      "29 is prime\n",
      "31 is prime\n",
      "37 is prime\n",
      "41 is prime\n",
      "43 is prime\n",
      "47 is prime\n"
     ]
    }
   ],
   "source": [
    "lim = int(input(\"Enter a number: \"))\n",
    "\n",
    "for j in range(1, lim+1):\n",
    "    if lim<2: \n",
    "        print(\"The number must be >=2\")\n",
    "        break\n",
    "        \n",
    "    count=0\n",
    "    \n",
    "    for i in range(2, j+1):\n",
    "        if j%i ==0:\n",
    "            count+=1\n",
    "    #print(j, count)\n",
    "    \n",
    "    if count==1:\n",
    "        print(j, \"is prime\")\n",
    "\n",
    "    \n",
    "        \n"
   ]
  },
  {
   "cell_type": "code",
   "execution_count": null,
   "id": "bad8d773",
   "metadata": {},
   "outputs": [],
   "source": []
  }
 ],
 "metadata": {
  "kernelspec": {
   "display_name": "Python 3 (ipykernel)",
   "language": "python",
   "name": "python3"
  },
  "language_info": {
   "codemirror_mode": {
    "name": "ipython",
    "version": 3
   },
   "file_extension": ".py",
   "mimetype": "text/x-python",
   "name": "python",
   "nbconvert_exporter": "python",
   "pygments_lexer": "ipython3",
   "version": "3.10.4"
  }
 },
 "nbformat": 4,
 "nbformat_minor": 5
}
