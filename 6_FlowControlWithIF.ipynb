{
 "cells": [
  {
   "cell_type": "markdown",
   "id": "31ccf623",
   "metadata": {},
   "source": [
    "# 6.  Flow Control Using If"
   ]
  },
  {
   "cell_type": "markdown",
   "id": "3fde8592",
   "metadata": {},
   "source": [
    "## 6.2 Comparison Operators"
   ]
  },
  {
   "cell_type": "markdown",
   "id": "99c1d85a",
   "metadata": {},
   "source": [
    "These are operators that return Boolean values (TRUE or FALSE):\n",
    "* ==         equaliy\n",
    "* !=         inequality \n",
    "* \\>         greater than\n",
    "* <          less than  \n",
    "* <=         less or equal than\n",
    "* \\>=         greater or equal than "
   ]
  },
  {
   "cell_type": "code",
   "execution_count": 1,
   "id": "152619a8",
   "metadata": {},
   "outputs": [
    {
     "data": {
      "text/plain": [
       "True"
      ]
     },
     "execution_count": 1,
     "metadata": {},
     "output_type": "execute_result"
    }
   ],
   "source": [
    "3==3"
   ]
  },
  {
   "cell_type": "code",
   "execution_count": 2,
   "id": "f6875b79",
   "metadata": {},
   "outputs": [
    {
     "data": {
      "text/plain": [
       "False"
      ]
     },
     "execution_count": 2,
     "metadata": {},
     "output_type": "execute_result"
    }
   ],
   "source": [
    "5>5"
   ]
  },
  {
   "cell_type": "markdown",
   "id": "ef999b1e",
   "metadata": {},
   "source": [
    "## 6.3 Logical operators"
   ]
  },
  {
   "cell_type": "markdown",
   "id": "16e6efd1",
   "metadata": {},
   "source": [
    "Can be used to combine Boolean expressions together, this allows us to create more complex conditions."
   ]
  },
  {
   "cell_type": "markdown",
   "id": "b92b9690",
   "metadata": {},
   "source": [
    "* *and*\n",
    "* *or*\n",
    "* *not*"
   ]
  },
  {
   "cell_type": "markdown",
   "id": "575fbf3e",
   "metadata": {},
   "source": [
    "## 6.4 The If Statement"
   ]
  },
  {
   "cell_type": "markdown",
   "id": "d0042448",
   "metadata": {},
   "source": [
    "Conditional programming: if some condition is true, some action is performed, if it is not true, some other action may be performed instead. \n",
    "\n",
    "The condition to be evaluated must be Boolean, and the block of code inside the *if* statemen is executed only if the condition is TRUE. "
   ]
  },
  {
   "cell_type": "code",
   "execution_count": 3,
   "id": "7c64cfa0",
   "metadata": {},
   "outputs": [
    {
     "name": "stdout",
     "output_type": "stream",
     "text": [
      "Enter a number: 10\n"
     ]
    }
   ],
   "source": [
    "num = int(input('Enter a number: '))\n",
    "if num<0:\n",
    "    print(num, \"is negative\")"
   ]
  },
  {
   "cell_type": "markdown",
   "id": "b5c82505",
   "metadata": {},
   "source": [
    "We have the *else* element wich is optional. If it's used, then it will exectue a code for the case that the conditon is not satisfied. "
   ]
  },
  {
   "cell_type": "code",
   "execution_count": 4,
   "id": "c0b71ae5",
   "metadata": {},
   "outputs": [
    {
     "name": "stdout",
     "output_type": "stream",
     "text": [
      "Enter a number: 10\n",
      "It's not negative\n"
     ]
    }
   ],
   "source": [
    "num = int(input('Enter a number: '))\n",
    "if num<0:\n",
    "    print(num, \"It's negative\")\n",
    "else:\n",
    "    print(\"It's not negative\")\n"
   ]
  },
  {
   "cell_type": "markdown",
   "id": "d5929304",
   "metadata": {},
   "source": [
    "What if we have several conditions? For that cases we have the *elif*. This element follows the *if* part and comes before any *else* part. "
   ]
  },
  {
   "cell_type": "code",
   "execution_count": 5,
   "id": "4fd205d8",
   "metadata": {},
   "outputs": [
    {
     "name": "stdout",
     "output_type": "stream",
     "text": [
      "How much do you have in savings? 10\n",
      "Well done\n"
     ]
    }
   ],
   "source": [
    "saving = float(input(\"How much do you have in savings? \"))\n",
    "\n",
    "if saving == 0:\n",
    "    print(\"No savings\")\n",
    "elif saving <500:\n",
    "    print(\"Well done\")\n",
    "elif saving < 1000:\n",
    "    print(\"That's a tidy sum\")\n",
    "elif saving < 10000:\n",
    "    print(\"Welcome Sir!\")\n",
    "else:\n",
    "    print(\"Thank you\")"
   ]
  },
  {
   "cell_type": "markdown",
   "id": "66d051ec",
   "metadata": {},
   "source": [
    "**Expression:** returns a value.\n",
    "**Statement:** does not return a value.\n",
    "\n",
    "In this sense, we can make a *if expression* just adding the return of a value, the format of an expression is \n",
    "\n",
    "<result1\\> *if* < condition > *else* < result2 >"
   ]
  },
  {
   "cell_type": "code",
   "execution_count": 6,
   "id": "37799437",
   "metadata": {},
   "outputs": [
    {
     "name": "stdout",
     "output_type": "stream",
     "text": [
      "Type your age: 10\n",
      "Not teenager\n"
     ]
    }
   ],
   "source": [
    "age = int(input(\"Type your age: \"))\n",
    "status = ('Teenager' if (age>12 and age<20) else 'Not teenager' )\n",
    "print(status)"
   ]
  },
  {
   "cell_type": "markdown",
   "id": "db43f415",
   "metadata": {},
   "source": [
    "## Exercise 6.1\n",
    "### Check Input is positive or negative\n"
   ]
  },
  {
   "cell_type": "code",
   "execution_count": 7,
   "id": "e6f3acc7",
   "metadata": {},
   "outputs": [
    {
     "name": "stdout",
     "output_type": "stream",
     "text": [
      "Type a number: 10\n",
      "It's positive!!!\n"
     ]
    }
   ],
   "source": [
    "num = int(input(\"Type a number: \"))\n",
    "\n",
    "if num ==0:\n",
    "    print(\"It's zero :(\")\n",
    "elif num>0:\n",
    "    print(\"It's positive!!!\")\n",
    "else :\n",
    "    print(\"It's negative >:( \")\n"
   ]
  },
  {
   "cell_type": "markdown",
   "id": "562bac65",
   "metadata": {},
   "source": [
    "## Exercise 6.2\n",
    "### Test if a number is odd or even\n"
   ]
  },
  {
   "cell_type": "code",
   "execution_count": 8,
   "id": "93c0b8cd",
   "metadata": {},
   "outputs": [
    {
     "name": "stdout",
     "output_type": "stream",
     "text": [
      "Type a number: 10\n",
      "It's even\n"
     ]
    }
   ],
   "source": [
    "num = int(input(\"Type a number: \"))\n",
    "\n",
    "if (num%2 ==0):\n",
    "    print(\"It's even\")\n",
    "else:\n",
    "    print(\"It's odd\")"
   ]
  },
  {
   "cell_type": "markdown",
   "id": "88853538",
   "metadata": {},
   "source": [
    "## Exercise 6.3\n",
    "### Kilometer to miles converter\n"
   ]
  },
  {
   "cell_type": "code",
   "execution_count": 23,
   "id": "010fa416",
   "metadata": {},
   "outputs": [
    {
     "name": "stdout",
     "output_type": "stream",
     "text": [
      "Distance (km): -33232\n",
      "That wasn't a number.\n"
     ]
    }
   ],
   "source": [
    "kil = str(input(\"Distance (km): \"))\n",
    "\n",
    "if kil.isnumeric():\n",
    "    kil = float(kil)\n",
    "    if kil>0:\n",
    "        print(\"%s km  =  %.2f miles\" % (str(kil), kil*0.621371))\n",
    "else: \n",
    "    print(\"That wasn't a number.\")\n",
    "    "
   ]
  }
 ],
 "metadata": {
  "kernelspec": {
   "display_name": "Python 3 (ipykernel)",
   "language": "python",
   "name": "python3"
  },
  "language_info": {
   "codemirror_mode": {
    "name": "ipython",
    "version": 3
   },
   "file_extension": ".py",
   "mimetype": "text/x-python",
   "name": "python",
   "nbconvert_exporter": "python",
   "pygments_lexer": "ipython3",
   "version": "3.10.4"
  }
 },
 "nbformat": 4,
 "nbformat_minor": 5
}
