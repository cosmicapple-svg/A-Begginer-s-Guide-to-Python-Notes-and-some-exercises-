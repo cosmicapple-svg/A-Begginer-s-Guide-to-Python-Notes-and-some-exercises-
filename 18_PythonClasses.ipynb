{
 "cells": [
  {
   "cell_type": "markdown",
   "id": "16d7806e",
   "metadata": {},
   "source": [
    "# Python classes"
   ]
  },
  {
   "cell_type": "markdown",
   "id": "a3bc013e",
   "metadata": {},
   "source": [
    "In Python, everything is an object and as such is an example of a typer or class of things:"
   ]
  },
  {
   "cell_type": "code",
   "execution_count": 2,
   "id": "6a908e2c",
   "metadata": {},
   "outputs": [
    {
     "name": "stdout",
     "output_type": "stream",
     "text": [
      "<class 'int'>\n",
      "<class 'float'>\n",
      "<class 'bool'>\n",
      "<class 'list'>\n",
      "<class 'str'>\n"
     ]
    }
   ],
   "source": [
    "print(type(4))\n",
    "print(type(4.5))\n",
    "print(type(True))\n",
    "print(type([1, 2]))\n",
    "print(type(\"aaa\"))"
   ]
  },
  {
   "cell_type": "markdown",
   "id": "00b3dbc4",
   "metadata": {},
   "source": [
    "They are built-in classes but we can define our own. "
   ]
  },
  {
   "cell_type": "markdown",
   "id": "beaa23cd",
   "metadata": {},
   "source": [
    "## Class definitions"
   ]
  },
  {
   "cell_type": "markdown",
   "id": "16bc9789",
   "metadata": {},
   "source": [
    "Format for defining a class:\n",
    "\n",
    "**class**  NameOfClass(SuperClass):\n",
    "\n",
    "    __init__\n",
    "    attributes\n",
    "    methods\n",
    "    \n",
    "for example:"
   ]
  },
  {
   "cell_type": "code",
   "execution_count": 4,
   "id": "e34e52eb",
   "metadata": {},
   "outputs": [],
   "source": [
    "class Person: \n",
    "    def __init__(self, name, age):\n",
    "        self.name = name\n",
    "        self.age = age\n",
    "        "
   ]
  },
  {
   "cell_type": "markdown",
   "id": "8011bfc2",
   "metadata": {},
   "source": [
    "It is common to define a class in a file named after that class, this makes easier to find the code associated with a class. \n",
    "\n",
    "The person class possesses two attributes: name and age. \n",
    "\n",
    "*\\_\\_init\\_\\_* is an initialiser (known as constructor) for the class. It indicates what data must be supplied when an instance of the Person class is created and how that data is stores internally (in this case, when an instance of the Person class is created we must supply the name and age). \n",
    "\n",
    "The values supplied will then be stores within an instance of the class (represented by the special variable *self*) in instance variables/attributes *self.name* and *self.age*. Note that the parameter to the \\_\\_init\\_\\_ method are local and will disappear when the method terminates, but self.name and self.age are *instance* variables and will exist for as long as the object is available. "
   ]
  },
  {
   "cell_type": "markdown",
   "id": "4ef56c19",
   "metadata": {},
   "source": [
    "#### Wtf with *self*?"
   ]
  },
  {
   "cell_type": "markdown",
   "id": "d8ed892d",
   "metadata": {},
   "source": [
    "This is the parameter passed into any method. However, when a method is called we do not pass a value for this parameter ourselves; Python does. It is used to represent the object within which the method is executing. This provides the context within which the method runs and allows the method to access the data held by the object. \n",
    "\n",
    "> Thus, *self* is the object itself. "
   ]
  },
  {
   "cell_type": "markdown",
   "id": "072a22f2",
   "metadata": {},
   "source": [
    "A method is the name given to behaviour that is linked directly to the Person class; it is not a free-standing function rather it is part of the definition of the class Person. "
   ]
  },
  {
   "cell_type": "markdown",
   "id": "f8969ecd",
   "metadata": {},
   "source": [
    "## Creating examples of the class person"
   ]
  },
  {
   "cell_type": "markdown",
   "id": "d5e48b20",
   "metadata": {},
   "source": [
    "We use the name of the class and then we pass the values to be used for the parameter (excepting *self*). For example"
   ]
  },
  {
   "cell_type": "code",
   "execution_count": 5,
   "id": "b998cf16",
   "metadata": {},
   "outputs": [],
   "source": [
    "p1 = Person('John', 36)\n",
    "p2 = Person('Hugo', 21)"
   ]
  },
  {
   "cell_type": "markdown",
   "id": "11f40ac0",
   "metadata": {},
   "source": [
    "So, *p1* holds a reference to the instance or object of the class Person whose attributes holds the values 'John' (for the name attribute) and 36 (for the age attribute), similar for p2. \n",
    "\n",
    "The two variables reference separate instances of the class Person. They therefore respond to the same set of methods/operations and habe the same set of attributes but each haver their own values. \n",
    "\n",
    "Each instance also has its own unique identifier, so even if the attributes are the same they are still separate instances of the given class. This identifier can be accessed using the id() function:"
   ]
  },
  {
   "cell_type": "code",
   "execution_count": 6,
   "id": "5e34c897",
   "metadata": {},
   "outputs": [
    {
     "data": {
      "text/plain": [
       "1507172372672"
      ]
     },
     "execution_count": 6,
     "metadata": {},
     "output_type": "execute_result"
    }
   ],
   "source": [
    "id(p1)"
   ]
  },
  {
   "cell_type": "code",
   "execution_count": 7,
   "id": "370805a8",
   "metadata": {},
   "outputs": [
    {
     "data": {
      "text/plain": [
       "1507172378480"
      ]
     },
     "execution_count": 7,
     "metadata": {},
     "output_type": "execute_result"
    }
   ],
   "source": [
    "id(p2)"
   ]
  },
  {
   "cell_type": "markdown",
   "id": "d72dbac4",
   "metadata": {},
   "source": [
    "## Be careful with assignment"
   ]
  },
  {
   "cell_type": "markdown",
   "id": "7a120c50",
   "metadata": {},
   "source": [
    "p1 and p2 reference different instances of the class Person, what happens when p1 or p2 are assigned to another variable?"
   ]
  },
  {
   "cell_type": "code",
   "execution_count": 9,
   "id": "d5a044e9",
   "metadata": {},
   "outputs": [],
   "source": [
    "px = p1"
   ]
  },
  {
   "cell_type": "markdown",
   "id": "dcc3121d",
   "metadata": {},
   "source": [
    "px makes a copy of the value held by p1, but it does not hold the instance of the class Person, it holds the address of the object. It copies the address held in p1 into the variable px. This implies that both p1 and px reference the same instance in memory"
   ]
  },
  {
   "cell_type": "code",
   "execution_count": 12,
   "id": "4dc5892c",
   "metadata": {},
   "outputs": [
    {
     "data": {
      "text/plain": [
       "1507172372672"
      ]
     },
     "execution_count": 12,
     "metadata": {},
     "output_type": "execute_result"
    }
   ],
   "source": [
    "id(p1)"
   ]
  },
  {
   "cell_type": "code",
   "execution_count": 13,
   "id": "669991ba",
   "metadata": {},
   "outputs": [
    {
     "data": {
      "text/plain": [
       "1507172372672"
      ]
     },
     "execution_count": 13,
     "metadata": {},
     "output_type": "execute_result"
    }
   ],
   "source": [
    "id(px)"
   ]
  },
  {
   "cell_type": "markdown",
   "id": "ee9333ff",
   "metadata": {},
   "source": [
    "We notice that the unique identifier is the same. "
   ]
  },
  {
   "cell_type": "markdown",
   "id": "d59a8eb7",
   "metadata": {},
   "source": [
    "## Printing out objects"
   ]
  },
  {
   "cell_type": "markdown",
   "id": "a1be9b9f",
   "metadata": {},
   "source": [
    "Let's look what's the output for the input p1 and px. "
   ]
  },
  {
   "cell_type": "code",
   "execution_count": 14,
   "id": "61ccc7c7",
   "metadata": {},
   "outputs": [
    {
     "data": {
      "text/plain": [
       "<__main__.Person at 0x15eea7950c0>"
      ]
     },
     "execution_count": 14,
     "metadata": {},
     "output_type": "execute_result"
    }
   ],
   "source": [
    "p1 "
   ]
  },
  {
   "cell_type": "code",
   "execution_count": 15,
   "id": "682767e9",
   "metadata": {},
   "outputs": [
    {
     "data": {
      "text/plain": [
       "<__main__.Person at 0x15eea7950c0>"
      ]
     },
     "execution_count": 15,
     "metadata": {},
     "output_type": "execute_result"
    }
   ],
   "source": [
    "px"
   ]
  },
  {
   "cell_type": "markdown",
   "id": "32b6baf7",
   "metadata": {},
   "source": [
    "This is odd, it only tells us the name of the class (Person) and the address in memory (hexadecimal). It is not useful for practical purposes."
   ]
  },
  {
   "cell_type": "markdown",
   "id": "894a0f1d",
   "metadata": {},
   "source": [
    "### Accessing object attribues"
   ]
  },
  {
   "cell_type": "markdown",
   "id": "054bdcf8",
   "metadata": {},
   "source": [
    "For printing the attributes of a object, we use the dot notation. We write the variable that holds the object followed by a dot (.) and the attribute we are interested. "
   ]
  },
  {
   "cell_type": "code",
   "execution_count": 16,
   "id": "ad86b11a",
   "metadata": {},
   "outputs": [
    {
     "data": {
      "text/plain": [
       "36"
      ]
     },
     "execution_count": 16,
     "metadata": {},
     "output_type": "execute_result"
    }
   ],
   "source": [
    "p1.age"
   ]
  },
  {
   "cell_type": "code",
   "execution_count": 17,
   "id": "9548195f",
   "metadata": {},
   "outputs": [
    {
     "data": {
      "text/plain": [
       "'John'"
      ]
     },
     "execution_count": 17,
     "metadata": {},
     "output_type": "execute_result"
    }
   ],
   "source": [
    "p1.name"
   ]
  },
  {
   "cell_type": "markdown",
   "id": "62a11dc7",
   "metadata": {},
   "source": [
    "This notation allow us update the attributes of an object directly:"
   ]
  },
  {
   "cell_type": "code",
   "execution_count": 18,
   "id": "4c85f240",
   "metadata": {},
   "outputs": [],
   "source": [
    "p1.name = 'Bob'\n",
    "p1.age = 23"
   ]
  },
  {
   "cell_type": "code",
   "execution_count": 19,
   "id": "c99d3a43",
   "metadata": {},
   "outputs": [
    {
     "data": {
      "text/plain": [
       "'Bob'"
      ]
     },
     "execution_count": 19,
     "metadata": {},
     "output_type": "execute_result"
    }
   ],
   "source": [
    "p1.name"
   ]
  },
  {
   "cell_type": "markdown",
   "id": "23f0b391",
   "metadata": {},
   "source": [
    "### Defining a default string representation"
   ]
  },
  {
   "cell_type": "markdown",
   "id": "927cd443",
   "metadata": {},
   "source": [
    "If we need to know that there are attributes called *name* and *age* available on this class. It would be much more convenient if the object itself knew how to convert its self into a string to be printed out. \n",
    "\n",
    "We can make the clas Person do this by defining a method that can be used to convert an object into a string into a string for printing purposes. \n",
    "\n",
    "This metod is the \\_\\_str\\_\\_ method. The method is expected to return a string which can be used to represent appropiate information about a class. \n",
    "\n",
    "def \\_\\_str\\_\\_(self)\n",
    "\n",
    "Methods that star with a double underbar are by convention considered special in Python and we will see several of these methods. Let's focus on the \\_\\_str\\_\\_ methods. "
   ]
  },
  {
   "cell_type": "code",
   "execution_count": 34,
   "id": "390b35ce",
   "metadata": {},
   "outputs": [],
   "source": [
    "class Person:\n",
    "    def __init__(self, name, age):\n",
    "        self.name = name\n",
    "        self.age = age\n",
    "    \n",
    "    def __str__(self):\n",
    "        return self.name + ' is ' + str(self.age) "
   ]
  },
  {
   "cell_type": "markdown",
   "id": "3126c5cc",
   "metadata": {},
   "source": [
    "This method access the name and age attributes using the self parameter passed into the method by Python. "
   ]
  },
  {
   "cell_type": "code",
   "execution_count": 35,
   "id": "f0a8e5b0",
   "metadata": {},
   "outputs": [],
   "source": [
    "p1 = Person('John', 36)\n",
    "p2 = Person('Hugo', 21)"
   ]
  },
  {
   "cell_type": "code",
   "execution_count": 36,
   "id": "d4b7d270",
   "metadata": {},
   "outputs": [
    {
     "name": "stdout",
     "output_type": "stream",
     "text": [
      "John is 36\n"
     ]
    }
   ],
   "source": [
    "print(p1)"
   ]
  },
  {
   "cell_type": "markdown",
   "id": "ace16159",
   "metadata": {},
   "source": [
    "## Providig a class comment"
   ]
  },
  {
   "cell_type": "markdown",
   "id": "87434b5a",
   "metadata": {},
   "source": [
    "It is useful to write comments in the classes for defininig what it does. This can be done with the *docstring* "
   ]
  },
  {
   "cell_type": "code",
   "execution_count": 43,
   "id": "5fbb78a3",
   "metadata": {},
   "outputs": [],
   "source": [
    "class Person:\n",
    "    \"\"\"An example class to hold a \n",
    "        persons name and age\"\"\"\n",
    "    \n",
    "    def __init__(self, name, age):\n",
    "        self.name = name\n",
    "        self.age = age\n",
    "    \n",
    "    def __str__(self):\n",
    "        return self.name + ' is ' + str(self.age) "
   ]
  },
  {
   "cell_type": "markdown",
   "id": "cb4a7dcc",
   "metadata": {},
   "source": [
    "And, as usual, we can access to this info with \\_\\_doc\\_\\_"
   ]
  },
  {
   "cell_type": "code",
   "execution_count": 44,
   "id": "b5b47562",
   "metadata": {},
   "outputs": [
    {
     "name": "stdout",
     "output_type": "stream",
     "text": [
      "An example class to hold a \n",
      "        persons name and age\n"
     ]
    }
   ],
   "source": [
    "print (Person.__doc__)"
   ]
  },
  {
   "cell_type": "markdown",
   "id": "cc9af5b2",
   "metadata": {},
   "source": [
    "## Adding a bithday method"
   ]
  },
  {
   "cell_type": "markdown",
   "id": "5a3d825a",
   "metadata": {},
   "source": [
    "Now we will define a birthday method to add some behaviour to the class. "
   ]
  },
  {
   "cell_type": "code",
   "execution_count": 46,
   "id": "6da9c709",
   "metadata": {},
   "outputs": [],
   "source": [
    "class Person:\n",
    "    \"\"\"An example class to hold a persons name and age\"\"\"\n",
    "    \n",
    "    def __init__(self, name, age):\n",
    "        self.name = name\n",
    "        self.age = age\n",
    "    \n",
    "    def __str__(self):\n",
    "        return self.name + ' is ' + str(self.age) \n",
    "    \n",
    "    def birthday(self):\n",
    "        print(\"Happy birthday! You were\", self.age)\n",
    "        self.age += 1\n",
    "        print(\"You are now\", self.age)"
   ]
  },
  {
   "cell_type": "markdown",
   "id": "fee4f70b",
   "metadata": {},
   "source": [
    "Note the parameter in birthday (self), this represent the instance (the example of the class Person) that this method will used with. \n",
    "\n",
    "What happens if we call birthday() on a instance\n"
   ]
  },
  {
   "cell_type": "code",
   "execution_count": 47,
   "id": "78303607",
   "metadata": {},
   "outputs": [],
   "source": [
    "p1 = Person('John', 36)\n",
    "p2 = Person('Hugo', 21)"
   ]
  },
  {
   "cell_type": "code",
   "execution_count": 50,
   "id": "6b38400d",
   "metadata": {},
   "outputs": [
    {
     "name": "stdout",
     "output_type": "stream",
     "text": [
      "Happy birthday! You were 22\n",
      "You are now 23\n",
      "None\n",
      "Hugo is 23\n"
     ]
    }
   ],
   "source": [
    "print(p2.birthday())\n",
    "print(p2)\n"
   ]
  },
  {
   "cell_type": "markdown",
   "id": "de0c8f51",
   "metadata": {},
   "source": [
    "Now we can see that Hugo has its birthday, therefore its age is +1 greater. "
   ]
  },
  {
   "cell_type": "markdown",
   "id": "56eca974",
   "metadata": {},
   "source": [
    "## Defining instance methods"
   ]
  },
  {
   "cell_type": "markdown",
   "id": "db564418",
   "metadata": {},
   "source": [
    "The definition of birthday() method is known as an *instance method*, it is tied to an instance of the class. The method did not take any parameter,  nor did it return any parameters, however, instance methods can do both. \n",
    "\n",
    "Imagine that our class also calculates how much someone should be paid. \n",
    "\n",
    "We could define an instance method that will take as input the number of hours worked and return the amount someone should be paid. \n",
    "\n",
    "And is teenanger, which does exactly what you're thinking. "
   ]
  },
  {
   "cell_type": "code",
   "execution_count": 59,
   "id": "2b869dcf",
   "metadata": {},
   "outputs": [],
   "source": [
    "class Person:\n",
    "    \"\"\"An example class to hold a persons name and age\"\"\"\n",
    "    \n",
    "    def __init__(self, name, age):\n",
    "        self.name = name\n",
    "        self.age = age\n",
    "    \n",
    "    def __str__(self):\n",
    "        return self.name + ' is ' + str(self.age) \n",
    "    \n",
    "    def birthday(self):\n",
    "        print(\"Happy birthday! You were\", self.age)\n",
    "        self.age += 1\n",
    "        print(\"You are now\", self.age)\n",
    "        \n",
    "    def calculate_pay(self, hours_worked):\n",
    "        rate_of_pay =7.50\n",
    "        if self.age >=21: \n",
    "            rate_of_pay += 2.50\n",
    "        return hours_worked*rate_of_pay\n",
    "    \n",
    "    def is_teenanger(self):\n",
    "        return self.age <20"
   ]
  },
  {
   "cell_type": "code",
   "execution_count": 60,
   "id": "51a65e5d",
   "metadata": {},
   "outputs": [],
   "source": [
    "p1 = Person('John', 18)\n",
    "p2 = Person('Hugo', 21)"
   ]
  },
  {
   "cell_type": "code",
   "execution_count": 62,
   "id": "19bc32dd",
   "metadata": {},
   "outputs": [
    {
     "name": "stdout",
     "output_type": "stream",
     "text": [
      "Pay John 300.0\n",
      "Pay Hugo 400.0\n"
     ]
    },
    {
     "data": {
      "text/plain": [
       "True"
      ]
     },
     "execution_count": 62,
     "metadata": {},
     "output_type": "execute_result"
    }
   ],
   "source": [
    "print('Pay', p1.name, p1.calculate_pay(40))\n",
    "print('Pay', p2.name, p2.calculate_pay(40))\n",
    "p1.is_teenanger()"
   ]
  },
  {
   "cell_type": "markdown",
   "id": "99ec9fef",
   "metadata": {},
   "source": [
    "## The del keyword"
   ]
  },
  {
   "cell_type": "markdown",
   "id": "a9ba5dfe",
   "metadata": {},
   "source": [
    "Having at one point created an object of some type it may later be necessary to delete that object. We do this with the *del* keyword. This deletes objects wich allows the memory they are using to be reclaimed and used by other parts of your program. \n",
    "\n",
    "Let's delete the person p1 = John"
   ]
  },
  {
   "cell_type": "code",
   "execution_count": 63,
   "id": "408358e4",
   "metadata": {},
   "outputs": [],
   "source": [
    "del p1"
   ]
  },
  {
   "cell_type": "code",
   "execution_count": 64,
   "id": "befb223f",
   "metadata": {},
   "outputs": [
    {
     "ename": "NameError",
     "evalue": "name 'p1' is not defined",
     "output_type": "error",
     "traceback": [
      "\u001b[1;31m---------------------------------------------------------------------------\u001b[0m",
      "\u001b[1;31mNameError\u001b[0m                                 Traceback (most recent call last)",
      "Input \u001b[1;32mIn [64]\u001b[0m, in \u001b[0;36m<cell line: 1>\u001b[1;34m()\u001b[0m\n\u001b[1;32m----> 1\u001b[0m \u001b[43mp1\u001b[49m\n",
      "\u001b[1;31mNameError\u001b[0m: name 'p1' is not defined"
     ]
    }
   ],
   "source": [
    "p1"
   ]
  },
  {
   "cell_type": "markdown",
   "id": "10f34bc7",
   "metadata": {},
   "source": [
    "## Automatic memory management"
   ]
  },
  {
   "cell_type": "markdown",
   "id": "6e8b004c",
   "metadata": {},
   "source": [
    "## Intrinsic attributes"
   ]
  },
  {
   "cell_type": "markdown",
   "id": "fa9f0f6f",
   "metadata": {},
   "source": [
    "Every class in Python has a set of*intrinsic* attribut set up by the python runtime system. \n",
    "\n",
    "For classes:\n",
    "\n",
    "* \\_\\_name\\_\\_ the name of the class.\n",
    "* \\_\\_module\\_\\_ the module (or library) from which it was loaded. \n",
    "* \\_\\_bases\\_\\_  a collection of its base classes. \n",
    "* \\_\\_dict\\_\\_ a dictionary containing all the attributes. \n",
    "* \\_\\_doc\\_\\_ the documentation string. \n",
    "\n",
    "For objects:\n",
    "\n",
    "* \\_\\_class\\_\\_ the name of the class of the object \n",
    "* \\_\\_dict\\_\\_ a dictionary contatining all the object's attributes. \n",
    "\n"
   ]
  },
  {
   "cell_type": "markdown",
   "id": "d6ff06ad",
   "metadata": {},
   "source": [
    "# Exercises"
   ]
  },
  {
   "cell_type": "code",
   "execution_count": 19,
   "id": "48570c9e",
   "metadata": {},
   "outputs": [],
   "source": [
    "class Account:\n",
    "    def __init__(self, num, name, opbal, typeacc):\n",
    "        self.num = num\n",
    "        self.name = name\n",
    "        self.opbal = opbal\n",
    "        self.typeacc = typeacc\n",
    "    \n",
    "    def __str__(self):\n",
    "        return \"Account[\"+self.num+\"] - \" + self.name + \", \"+ self.typeacc+\" account = \" + str(self.opbal) \n",
    "    \n",
    "    def deposit(self, amount):\n",
    "        self.opbal += amount\n",
    "        \n",
    "    def withdraw(self, amount):\n",
    "        self.opbal -= amount\n",
    "    \n",
    "    def get_balance(self):\n",
    "        print('balance:',  self.opbal )\n",
    "        \n",
    "        "
   ]
  },
  {
   "cell_type": "code",
   "execution_count": 20,
   "id": "34a74985",
   "metadata": {},
   "outputs": [],
   "source": [
    "acc1 = Account('123', 'John', 10.05, 'current')\n",
    "acc2 = Account('345', 'John', 23.55, 'savings')\n",
    "acc3 = Account('567', 'Matt', 12.45, 'invesment')\n"
   ]
  },
  {
   "cell_type": "code",
   "execution_count": 21,
   "id": "9e781236",
   "metadata": {},
   "outputs": [
    {
     "name": "stdout",
     "output_type": "stream",
     "text": [
      "Account[123] - John, current account = 10.05\n",
      "Account[345] - John, savings account = 23.55\n",
      "Account[567] - Matt, invesment account = 12.45\n"
     ]
    }
   ],
   "source": [
    "print(acc1)\n",
    "print(acc2)\n",
    "print(acc3)"
   ]
  },
  {
   "cell_type": "code",
   "execution_count": 22,
   "id": "77603b1f",
   "metadata": {},
   "outputs": [
    {
     "name": "stdout",
     "output_type": "stream",
     "text": [
      "balance: 21.17\n"
     ]
    }
   ],
   "source": [
    "acc1.deposit(23.45)\n",
    "acc1.withdraw(12.33)\n",
    "acc1.get_balance()"
   ]
  },
  {
   "cell_type": "code",
   "execution_count": null,
   "id": "f0b60dc9",
   "metadata": {},
   "outputs": [],
   "source": []
  },
  {
   "cell_type": "code",
   "execution_count": null,
   "id": "90a1d776",
   "metadata": {},
   "outputs": [],
   "source": []
  },
  {
   "cell_type": "code",
   "execution_count": null,
   "id": "9fde4bbf",
   "metadata": {},
   "outputs": [],
   "source": []
  }
 ],
 "metadata": {
  "kernelspec": {
   "display_name": "Python 3 (ipykernel)",
   "language": "python",
   "name": "python3"
  },
  "language_info": {
   "codemirror_mode": {
    "name": "ipython",
    "version": 3
   },
   "file_extension": ".py",
   "mimetype": "text/x-python",
   "name": "python",
   "nbconvert_exporter": "python",
   "pygments_lexer": "ipython3",
   "version": "3.11.2"
  }
 },
 "nbformat": 4,
 "nbformat_minor": 5
}
